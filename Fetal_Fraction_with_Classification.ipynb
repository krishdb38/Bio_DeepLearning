{
 "cells": [
  {
   "cell_type": "code",
   "execution_count": 2,
   "metadata": {},
   "outputs": [],
   "source": [
    "import pandas as pd\n",
    "import numpy as np\n",
    "\n",
    "from sklearn.model_selection import train_test_split"
   ]
  },
  {
   "cell_type": "code",
   "execution_count": 3,
   "metadata": {},
   "outputs": [
    {
     "name": "stdout",
     "output_type": "stream",
     "text": [
      "Bio_DeepLearning\n",
      "DL2.ipynb\n",
      "GC_df_10000.csv\n",
      "Git_Hub_Example\n",
      "Parameter_from_original\n",
      "RL_df_10000.csv\n",
      "corr_out_900\n",
      "corr_out_rgc\n",
      "datas\n",
      "enet_pred.csv\n",
      "ffyrgc1000.csv\n",
      "ffyrgc500.csv\n",
      "ffyrgc900.csv\n",
      "gcbininfo_10000.csv\n",
      "rgcbininfo_1000\n",
      "rgcbininfo_10000\n",
      "rgcbininfo_900\n",
      "srlbininfo_10000\n",
      "srlbininfo_800\n",
      "temptrainparargc10000.csv\n",
      "tensorflow_basic.ipynb\n",
      "trgc1000.csv\n",
      "trgc10000.csv\n",
      "trgc500.csv\n",
      "trgc900.csv\n",
      "tsrl10000.csv\n",
      "tsrl500.csv\n",
      "tsrl900.csv\n"
     ]
    }
   ],
   "source": [
    "!ls ../"
   ]
  },
  {
   "cell_type": "code",
   "execution_count": 91,
   "metadata": {},
   "outputs": [],
   "source": [
    "x = pd.read_csv(\"../tsrl10000.csv\")\n",
    "x = x.iloc[:,1:]\n",
    "y_ = pd.read_csv(\"../srlbininfo_10000\",sep=\"\\t\",header=None)\n",
    "#y = round(y.iloc[:,[1]]*100).astype(\"int\")\n",
    "y_.columns = [\"Name\",'RL']\n",
    "\n",
    "y = pd.DataFrame(y_.RL)"
   ]
  },
  {
   "cell_type": "code",
   "execution_count": 92,
   "metadata": {},
   "outputs": [
    {
     "data": {
      "text/html": [
       "<div>\n",
       "<style scoped>\n",
       "    .dataframe tbody tr th:only-of-type {\n",
       "        vertical-align: middle;\n",
       "    }\n",
       "\n",
       "    .dataframe tbody tr th {\n",
       "        vertical-align: top;\n",
       "    }\n",
       "\n",
       "    .dataframe thead th {\n",
       "        text-align: right;\n",
       "    }\n",
       "</style>\n",
       "<table border=\"1\" class=\"dataframe\">\n",
       "  <thead>\n",
       "    <tr style=\"text-align: right;\">\n",
       "      <th></th>\n",
       "      <th>RL</th>\n",
       "    </tr>\n",
       "  </thead>\n",
       "  <tbody>\n",
       "    <tr>\n",
       "      <td>0</td>\n",
       "      <td>19.052706</td>\n",
       "    </tr>\n",
       "    <tr>\n",
       "      <td>1</td>\n",
       "      <td>17.772070</td>\n",
       "    </tr>\n",
       "    <tr>\n",
       "      <td>2</td>\n",
       "      <td>16.200000</td>\n",
       "    </tr>\n",
       "    <tr>\n",
       "      <td>3</td>\n",
       "      <td>14.987733</td>\n",
       "    </tr>\n",
       "    <tr>\n",
       "      <td>4</td>\n",
       "      <td>17.656184</td>\n",
       "    </tr>\n",
       "  </tbody>\n",
       "</table>\n",
       "</div>"
      ],
      "text/plain": [
       "          RL\n",
       "0  19.052706\n",
       "1  17.772070\n",
       "2  16.200000\n",
       "3  14.987733\n",
       "4  17.656184"
      ]
     },
     "execution_count": 92,
     "metadata": {},
     "output_type": "execute_result"
    }
   ],
   "source": [
    "y.head(2)"
   ]
  },
  {
   "cell_type": "code",
   "execution_count": 93,
   "metadata": {},
   "outputs": [
    {
     "data": {
      "text/html": [
       "<div>\n",
       "<style scoped>\n",
       "    .dataframe tbody tr th:only-of-type {\n",
       "        vertical-align: middle;\n",
       "    }\n",
       "\n",
       "    .dataframe tbody tr th {\n",
       "        vertical-align: top;\n",
       "    }\n",
       "\n",
       "    .dataframe thead th {\n",
       "        text-align: right;\n",
       "    }\n",
       "</style>\n",
       "<table border=\"1\" class=\"dataframe\">\n",
       "  <thead>\n",
       "    <tr style=\"text-align: right;\">\n",
       "      <th></th>\n",
       "      <th>V1</th>\n",
       "      <th>V2</th>\n",
       "      <th>V3</th>\n",
       "      <th>V4</th>\n",
       "      <th>V5</th>\n",
       "      <th>V6</th>\n",
       "      <th>V7</th>\n",
       "      <th>V8</th>\n",
       "      <th>V9</th>\n",
       "      <th>V10</th>\n",
       "      <th>...</th>\n",
       "      <th>V3871</th>\n",
       "      <th>V3872</th>\n",
       "      <th>V3873</th>\n",
       "      <th>V3874</th>\n",
       "      <th>V3875</th>\n",
       "      <th>V3876</th>\n",
       "      <th>V3877</th>\n",
       "      <th>V3878</th>\n",
       "      <th>V3879</th>\n",
       "      <th>V3880</th>\n",
       "    </tr>\n",
       "  </thead>\n",
       "  <tbody>\n",
       "    <tr>\n",
       "      <td>0</td>\n",
       "      <td>1.179333</td>\n",
       "      <td>1.334434</td>\n",
       "      <td>1.403288</td>\n",
       "      <td>1.541632</td>\n",
       "      <td>1.325201</td>\n",
       "      <td>1.101396</td>\n",
       "      <td>1.096208</td>\n",
       "      <td>1.169582</td>\n",
       "      <td>1.201159</td>\n",
       "      <td>1.145272</td>\n",
       "      <td>...</td>\n",
       "      <td>0</td>\n",
       "      <td>0</td>\n",
       "      <td>0</td>\n",
       "      <td>0</td>\n",
       "      <td>0</td>\n",
       "      <td>0</td>\n",
       "      <td>0</td>\n",
       "      <td>0</td>\n",
       "      <td>0</td>\n",
       "      <td>0</td>\n",
       "    </tr>\n",
       "    <tr>\n",
       "      <td>1</td>\n",
       "      <td>1.148473</td>\n",
       "      <td>1.422455</td>\n",
       "      <td>1.373932</td>\n",
       "      <td>1.515307</td>\n",
       "      <td>1.337463</td>\n",
       "      <td>1.077379</td>\n",
       "      <td>1.061001</td>\n",
       "      <td>1.157020</td>\n",
       "      <td>1.258965</td>\n",
       "      <td>1.140321</td>\n",
       "      <td>...</td>\n",
       "      <td>0</td>\n",
       "      <td>0</td>\n",
       "      <td>0</td>\n",
       "      <td>0</td>\n",
       "      <td>0</td>\n",
       "      <td>0</td>\n",
       "      <td>0</td>\n",
       "      <td>0</td>\n",
       "      <td>0</td>\n",
       "      <td>0</td>\n",
       "    </tr>\n",
       "    <tr>\n",
       "      <td>2</td>\n",
       "      <td>1.189828</td>\n",
       "      <td>1.341258</td>\n",
       "      <td>1.318985</td>\n",
       "      <td>1.428393</td>\n",
       "      <td>1.231587</td>\n",
       "      <td>1.093561</td>\n",
       "      <td>1.002102</td>\n",
       "      <td>1.112995</td>\n",
       "      <td>1.176748</td>\n",
       "      <td>1.116133</td>\n",
       "      <td>...</td>\n",
       "      <td>0</td>\n",
       "      <td>0</td>\n",
       "      <td>0</td>\n",
       "      <td>0</td>\n",
       "      <td>0</td>\n",
       "      <td>0</td>\n",
       "      <td>0</td>\n",
       "      <td>0</td>\n",
       "      <td>0</td>\n",
       "      <td>0</td>\n",
       "    </tr>\n",
       "    <tr>\n",
       "      <td>3</td>\n",
       "      <td>1.095742</td>\n",
       "      <td>1.303067</td>\n",
       "      <td>1.227491</td>\n",
       "      <td>1.432205</td>\n",
       "      <td>1.205396</td>\n",
       "      <td>1.127021</td>\n",
       "      <td>1.086715</td>\n",
       "      <td>1.131803</td>\n",
       "      <td>1.191169</td>\n",
       "      <td>1.112259</td>\n",
       "      <td>...</td>\n",
       "      <td>0</td>\n",
       "      <td>0</td>\n",
       "      <td>0</td>\n",
       "      <td>0</td>\n",
       "      <td>0</td>\n",
       "      <td>0</td>\n",
       "      <td>0</td>\n",
       "      <td>0</td>\n",
       "      <td>0</td>\n",
       "      <td>0</td>\n",
       "    </tr>\n",
       "    <tr>\n",
       "      <td>4</td>\n",
       "      <td>1.165233</td>\n",
       "      <td>1.305064</td>\n",
       "      <td>1.343262</td>\n",
       "      <td>1.398126</td>\n",
       "      <td>1.262697</td>\n",
       "      <td>1.171491</td>\n",
       "      <td>1.112898</td>\n",
       "      <td>1.185458</td>\n",
       "      <td>1.221431</td>\n",
       "      <td>1.107177</td>\n",
       "      <td>...</td>\n",
       "      <td>0</td>\n",
       "      <td>0</td>\n",
       "      <td>0</td>\n",
       "      <td>0</td>\n",
       "      <td>0</td>\n",
       "      <td>0</td>\n",
       "      <td>0</td>\n",
       "      <td>0</td>\n",
       "      <td>0</td>\n",
       "      <td>0</td>\n",
       "    </tr>\n",
       "  </tbody>\n",
       "</table>\n",
       "<p>5 rows × 3880 columns</p>\n",
       "</div>"
      ],
      "text/plain": [
       "         V1        V2        V3        V4        V5        V6        V7  \\\n",
       "0  1.179333  1.334434  1.403288  1.541632  1.325201  1.101396  1.096208   \n",
       "1  1.148473  1.422455  1.373932  1.515307  1.337463  1.077379  1.061001   \n",
       "2  1.189828  1.341258  1.318985  1.428393  1.231587  1.093561  1.002102   \n",
       "3  1.095742  1.303067  1.227491  1.432205  1.205396  1.127021  1.086715   \n",
       "4  1.165233  1.305064  1.343262  1.398126  1.262697  1.171491  1.112898   \n",
       "\n",
       "         V8        V9       V10  ...  V3871  V3872  V3873  V3874  V3875  \\\n",
       "0  1.169582  1.201159  1.145272  ...      0      0      0      0      0   \n",
       "1  1.157020  1.258965  1.140321  ...      0      0      0      0      0   \n",
       "2  1.112995  1.176748  1.116133  ...      0      0      0      0      0   \n",
       "3  1.131803  1.191169  1.112259  ...      0      0      0      0      0   \n",
       "4  1.185458  1.221431  1.107177  ...      0      0      0      0      0   \n",
       "\n",
       "   V3876  V3877  V3878  V3879  V3880  \n",
       "0      0      0      0      0      0  \n",
       "1      0      0      0      0      0  \n",
       "2      0      0      0      0      0  \n",
       "3      0      0      0      0      0  \n",
       "4      0      0      0      0      0  \n",
       "\n",
       "[5 rows x 3880 columns]"
      ]
     },
     "execution_count": 93,
     "metadata": {},
     "output_type": "execute_result"
    }
   ],
   "source": [
    "x.head(2)"
   ]
  },
  {
   "cell_type": "markdown",
   "metadata": {},
   "source": [
    "### Import the Model "
   ]
  },
  {
   "cell_type": "code",
   "execution_count": 94,
   "metadata": {},
   "outputs": [],
   "source": [
    "y.RL = y.RL.apply(lambda x: 5 if x<5 else (10 if x>10 else x))\n",
    "#\n",
    "#Convert y Column to Categorical Data \n",
    "# Our Rule is below 5 is  5 \n",
    "#5~6 6 \n",
    "#6~7 7\n",
    "#7`8 8\n",
    "#8~9 9 \n",
    "#> 10 is 10"
   ]
  },
  {
   "cell_type": "code",
   "execution_count": 95,
   "metadata": {},
   "outputs": [
    {
     "data": {
      "text/plain": [
       "array([10.        ,  7.96729145,  7.8497165 , ...,  9.48945408,\n",
       "        5.30158145,  7.96209451])"
      ]
     },
     "execution_count": 95,
     "metadata": {},
     "output_type": "execute_result"
    }
   ],
   "source": [
    "y.RL.unique()"
   ]
  },
  {
   "cell_type": "markdown",
   "metadata": {},
   "source": [
    "### Using Ridge Regression"
   ]
  },
  {
   "cell_type": "code",
   "execution_count": 96,
   "metadata": {},
   "outputs": [],
   "source": [
    "from sklearn.model_selection import train_test_split , cross_val_score\n",
    "from sklearn.metrics import r2_score , mean_squared_error\n",
    "from sklearn.metrics import accuracy_score ,mean_absolute_error\n",
    "from scipy import stats"
   ]
  },
  {
   "cell_type": "code",
   "execution_count": 97,
   "metadata": {},
   "outputs": [],
   "source": [
    "x_train,x_test,y_train,y_test = train_test_split(x,y,test_size =0.2,random_state =5, shuffle = True )"
   ]
  },
  {
   "cell_type": "code",
   "execution_count": 98,
   "metadata": {},
   "outputs": [
    {
     "name": "stdout",
     "output_type": "stream",
     "text": [
      "Correlation with Bay Reg Pred 0.7170971441669945\n"
     ]
    }
   ],
   "source": [
    "from sklearn.linear_model import Ridge\n",
    "clf_ridge = Ridge(alpha=0.9).fit(x_train,y_train)\n",
    "\n",
    "y_predict_ridge = pd.DataFrame(clf_ridge.predict(x_test)).astype(int)\n",
    "print(\"Correlation with Bay Reg Pred\",stats.pearsonr(y_test[\"RL\"],pd.DataFrame(clf_ridge.predict(x_test))[0])[0])"
   ]
  },
  {
   "cell_type": "markdown",
   "metadata": {},
   "source": [
    "### Very Poor Result although By Classification"
   ]
  },
  {
   "cell_type": "code",
   "execution_count": 104,
   "metadata": {},
   "outputs": [
    {
     "data": {
      "text/plain": [
       "0       19\n",
       "1       17\n",
       "2       16\n",
       "3       14\n",
       "4       17\n",
       "        ..\n",
       "9995     7\n",
       "9996     3\n",
       "9997    11\n",
       "9998    14\n",
       "9999    14\n",
       "Name: RL, Length: 10000, dtype: int32"
      ]
     },
     "execution_count": 104,
     "metadata": {},
     "output_type": "execute_result"
    }
   ],
   "source": [
    "y_.RL.astype(int)"
   ]
  }
 ],
 "metadata": {
  "kernelspec": {
   "display_name": "Python 3.7.4 64-bit ('base': conda)",
   "language": "python",
   "name": "python37464bitbaseconda67970ada4b5d499c879aef5e70dc73ee"
  },
  "language_info": {
   "codemirror_mode": {
    "name": "ipython",
    "version": 3
   },
   "file_extension": ".py",
   "mimetype": "text/x-python",
   "name": "python",
   "nbconvert_exporter": "python",
   "pygments_lexer": "ipython3",
   "version": "3.7.4"
  }
 },
 "nbformat": 4,
 "nbformat_minor": 2
}
