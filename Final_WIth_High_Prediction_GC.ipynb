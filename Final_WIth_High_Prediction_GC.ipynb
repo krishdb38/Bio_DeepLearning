{
 "cells": [
  {
   "cell_type": "markdown",
   "metadata": {},
   "source": [
    "## import library"
   ]
  },
  {
   "cell_type": "code",
   "execution_count": 1,
   "metadata": {},
   "outputs": [],
   "source": [
    "import warnings\n",
    "warnings.filterwarnings(\"ignore\")"
   ]
  },
  {
   "cell_type": "code",
   "execution_count": 2,
   "metadata": {},
   "outputs": [],
   "source": [
    "import pandas as pd\n",
    "import numpy as np\n",
    "from scipy import stats\n",
    "\n",
    "from sklearn.model_selection import train_test_split , cross_val_score\n",
    "from sklearn.metrics import r2_score , mean_squared_error\n",
    "from sklearn.metrics import accuracy_score ,mean_absolute_error"
   ]
  },
  {
   "cell_type": "markdown",
   "metadata": {},
   "source": [
    "# Read Count Data GC"
   ]
  },
  {
   "cell_type": "code",
   "execution_count": 4,
   "metadata": {},
   "outputs": [],
   "source": [
    "x = pd.read_csv(\"../trgc10000.csv\")\n",
    "x = x.iloc[:,1:]\n",
    "y = pd.read_csv(\"../srlbininfo_10000\",sep =\"\\t\",header =None )\n",
    "y = pd.DataFrame(y.iloc[:,1])\n",
    "y.columns = [\"GC\"]\n",
    "\n",
    "df = pd.concat([y,x],axis =1)\n",
    "\n",
    "df = df[df.GC < 25]             # !  Ignore values more than 25\n",
    "y = pd.DataFrame(df.loc[:,\"GC\"])\n",
    "\n",
    "x = df.iloc[:,1:]  #    ! * remove 8000 for original\n",
    "\n",
    "#Caution X Column up to 8000 above that outlier and y.GC Less than "
   ]
  },
  {
   "cell_type": "code",
   "execution_count": 5,
   "metadata": {},
   "outputs": [
    {
     "name": "stdout",
     "output_type": "stream",
     "text": [
      "The x data shape is =  (9977, 10332) The Y data shape is  (9977, 1)\n"
     ]
    },
    {
     "data": {
      "text/html": [
       "<div>\n",
       "<style scoped>\n",
       "    .dataframe tbody tr th:only-of-type {\n",
       "        vertical-align: middle;\n",
       "    }\n",
       "\n",
       "    .dataframe tbody tr th {\n",
       "        vertical-align: top;\n",
       "    }\n",
       "\n",
       "    .dataframe thead th {\n",
       "        text-align: right;\n",
       "    }\n",
       "</style>\n",
       "<table border=\"1\" class=\"dataframe\">\n",
       "  <thead>\n",
       "    <tr style=\"text-align: right;\">\n",
       "      <th></th>\n",
       "      <th>V1</th>\n",
       "      <th>V2</th>\n",
       "      <th>V3</th>\n",
       "      <th>V4</th>\n",
       "      <th>V5</th>\n",
       "      <th>V6</th>\n",
       "      <th>V7</th>\n",
       "      <th>V8</th>\n",
       "      <th>V9</th>\n",
       "      <th>V10</th>\n",
       "      <th>...</th>\n",
       "      <th>V10323</th>\n",
       "      <th>V10324</th>\n",
       "      <th>V10325</th>\n",
       "      <th>V10326</th>\n",
       "      <th>V10327</th>\n",
       "      <th>V10328</th>\n",
       "      <th>V10329</th>\n",
       "      <th>V10330</th>\n",
       "      <th>V10331</th>\n",
       "      <th>V10332</th>\n",
       "    </tr>\n",
       "  </thead>\n",
       "  <tbody>\n",
       "    <tr>\n",
       "      <td>0</td>\n",
       "      <td>0.879025</td>\n",
       "      <td>0.687329</td>\n",
       "      <td>0.983194</td>\n",
       "      <td>0.970820</td>\n",
       "      <td>0.900728</td>\n",
       "      <td>0.735702</td>\n",
       "      <td>0.960757</td>\n",
       "      <td>1.074772</td>\n",
       "      <td>1.597032</td>\n",
       "      <td>1.156174</td>\n",
       "      <td>...</td>\n",
       "      <td>0</td>\n",
       "      <td>0</td>\n",
       "      <td>0</td>\n",
       "      <td>0</td>\n",
       "      <td>0</td>\n",
       "      <td>0</td>\n",
       "      <td>0</td>\n",
       "      <td>0</td>\n",
       "      <td>0</td>\n",
       "      <td>0</td>\n",
       "    </tr>\n",
       "    <tr>\n",
       "      <td>1</td>\n",
       "      <td>0.869801</td>\n",
       "      <td>0.620215</td>\n",
       "      <td>1.008849</td>\n",
       "      <td>0.926203</td>\n",
       "      <td>0.884105</td>\n",
       "      <td>0.884811</td>\n",
       "      <td>1.020117</td>\n",
       "      <td>0.987255</td>\n",
       "      <td>1.335856</td>\n",
       "      <td>1.170143</td>\n",
       "      <td>...</td>\n",
       "      <td>0</td>\n",
       "      <td>0</td>\n",
       "      <td>0</td>\n",
       "      <td>0</td>\n",
       "      <td>0</td>\n",
       "      <td>0</td>\n",
       "      <td>0</td>\n",
       "      <td>0</td>\n",
       "      <td>0</td>\n",
       "      <td>0</td>\n",
       "    </tr>\n",
       "    <tr>\n",
       "      <td>2</td>\n",
       "      <td>0.794579</td>\n",
       "      <td>0.624215</td>\n",
       "      <td>1.162626</td>\n",
       "      <td>1.002403</td>\n",
       "      <td>0.870992</td>\n",
       "      <td>0.831627</td>\n",
       "      <td>1.042087</td>\n",
       "      <td>1.107656</td>\n",
       "      <td>1.714645</td>\n",
       "      <td>1.207776</td>\n",
       "      <td>...</td>\n",
       "      <td>0</td>\n",
       "      <td>0</td>\n",
       "      <td>0</td>\n",
       "      <td>0</td>\n",
       "      <td>0</td>\n",
       "      <td>0</td>\n",
       "      <td>0</td>\n",
       "      <td>0</td>\n",
       "      <td>0</td>\n",
       "      <td>0</td>\n",
       "    </tr>\n",
       "  </tbody>\n",
       "</table>\n",
       "<p>3 rows × 10332 columns</p>\n",
       "</div>"
      ],
      "text/plain": [
       "         V1        V2        V3        V4        V5        V6        V7  \\\n",
       "0  0.879025  0.687329  0.983194  0.970820  0.900728  0.735702  0.960757   \n",
       "1  0.869801  0.620215  1.008849  0.926203  0.884105  0.884811  1.020117   \n",
       "2  0.794579  0.624215  1.162626  1.002403  0.870992  0.831627  1.042087   \n",
       "\n",
       "         V8        V9       V10  ...  V10323  V10324  V10325  V10326  V10327  \\\n",
       "0  1.074772  1.597032  1.156174  ...       0       0       0       0       0   \n",
       "1  0.987255  1.335856  1.170143  ...       0       0       0       0       0   \n",
       "2  1.107656  1.714645  1.207776  ...       0       0       0       0       0   \n",
       "\n",
       "   V10328  V10329  V10330  V10331  V10332  \n",
       "0       0       0       0       0       0  \n",
       "1       0       0       0       0       0  \n",
       "2       0       0       0       0       0  \n",
       "\n",
       "[3 rows x 10332 columns]"
      ]
     },
     "metadata": {},
     "output_type": "display_data"
    },
    {
     "data": {
      "text/html": [
       "<div>\n",
       "<style scoped>\n",
       "    .dataframe tbody tr th:only-of-type {\n",
       "        vertical-align: middle;\n",
       "    }\n",
       "\n",
       "    .dataframe tbody tr th {\n",
       "        vertical-align: top;\n",
       "    }\n",
       "\n",
       "    .dataframe thead th {\n",
       "        text-align: right;\n",
       "    }\n",
       "</style>\n",
       "<table border=\"1\" class=\"dataframe\">\n",
       "  <thead>\n",
       "    <tr style=\"text-align: right;\">\n",
       "      <th></th>\n",
       "      <th>GC</th>\n",
       "    </tr>\n",
       "  </thead>\n",
       "  <tbody>\n",
       "    <tr>\n",
       "      <td>0</td>\n",
       "      <td>19.052706</td>\n",
       "    </tr>\n",
       "    <tr>\n",
       "      <td>1</td>\n",
       "      <td>17.772070</td>\n",
       "    </tr>\n",
       "    <tr>\n",
       "      <td>2</td>\n",
       "      <td>16.200000</td>\n",
       "    </tr>\n",
       "  </tbody>\n",
       "</table>\n",
       "</div>"
      ],
      "text/plain": [
       "          GC\n",
       "0  19.052706\n",
       "1  17.772070\n",
       "2  16.200000"
      ]
     },
     "metadata": {},
     "output_type": "display_data"
    }
   ],
   "source": [
    "#Chek outr data sample\n",
    "print(\"The x data shape is = \",x.shape ,\"The Y data shape is \",y.shape)\n",
    "display(x.head(3))\n",
    "display(y.head(3))"
   ]
  },
  {
   "cell_type": "code",
   "execution_count": null,
   "metadata": {},
   "outputs": [],
   "source": [
    "#df = pd.read_csv(\"../GC_df_10000.csv\")\n",
    "#y = pd.DataFrame(df.iloc[:,0])\n",
    "#x = df.iloc[:,1:]"
   ]
  },
  {
   "cell_type": "markdown",
   "metadata": {},
   "source": [
    "## Split Both data sets into train and test set"
   ]
  },
  {
   "cell_type": "code",
   "execution_count": 12,
   "metadata": {},
   "outputs": [],
   "source": [
    "test_size = 0.3  # the given percent is test data size percent "
   ]
  },
  {
   "cell_type": "code",
   "execution_count": 18,
   "metadata": {},
   "outputs": [
    {
     "data": {
      "text/plain": [
       "((7000, 10332), (7000, 1), (3000, 10332), (3000, 1))"
      ]
     },
     "execution_count": 18,
     "metadata": {},
     "output_type": "execute_result"
    }
   ],
   "source": [
    "x_train,x_test,y_train, y_test= train_test_split(x,y,test_size=test_size,random_state = 50)\n",
    "x_train.shape,y_train.shape, x_test.shape , y_test.shape"
   ]
  },
  {
   "cell_type": "markdown",
   "metadata": {},
   "source": [
    "## Ridge Regression "
   ]
  },
  {
   "cell_type": "code",
   "execution_count": 19,
   "metadata": {},
   "outputs": [],
   "source": [
    "alpha = 0.01  # Check with different alpha Values"
   ]
  },
  {
   "cell_type": "markdown",
   "metadata": {},
   "source": [
    "### Build the Model"
   ]
  },
  {
   "cell_type": "code",
   "execution_count": 20,
   "metadata": {},
   "outputs": [],
   "source": [
    "name = \"Ridge -->\"\n",
    "from sklearn.linear_model import Ridge\n",
    "\n",
    "clf_ridge = Ridge(alpha=alpha).fit(x_test,y_test)\n",
    "\n",
    "y_pred_ridge = pd.DataFrame(clf_ridge.predict(x_test))"
   ]
  },
  {
   "cell_type": "markdown",
   "metadata": {},
   "source": [
    "### Display the Results"
   ]
  },
  {
   "cell_type": "code",
   "execution_count": 23,
   "metadata": {},
   "outputs": [
    {
     "name": "stdout",
     "output_type": "stream",
     "text": [
      "Ridge --> Coefficient  [[0.5630861  0.70815271 0.16227613 ... 0.         0.         0.        ]]\n",
      "Ridge --> Intercept  [-1403.43497804] \n",
      "\n",
      "********************Accuracy Test Model Fitting ********************\n",
      "Ridge -->Score for train data set : 0.6649407562535677\n",
      "Ridge -->Score for test data Set 0.9999997782006168\n",
      "Ridge -->Score for Predictecd data Set 1.0\n",
      "\n",
      "********************R2 Score********************\n",
      "Ridge -->R2 Score for test is =  0.9999997782006168\n",
      "\n",
      "********************Mean Absolute Error********************\n",
      "Ridge -->Mean Absolute Error of Test =  0.0014539743721871741\n",
      "Ridge -->Mean Absolute Error on Train 1.6591224111306548\n",
      "\n",
      "******************** Mean Squared Error********************\n",
      "Ridge -->Mean Squared Error of Test =  3.795024956500235e-06\n",
      "Ridge -->Mean Squared Error on Train =  5.41386510165387\n",
      "\n",
      "******************** Co Relation********************\n",
      "Ridge -->Correlation Test Data  0.9999999168185353\n",
      "Ridge -->Correlation Original Data  0.818410722726288\n"
     ]
    }
   ],
   "source": [
    "print(name +\" Coefficient \", clf_ridge.coef_) \n",
    "print(name + \" Intercept \" , clf_ridge.intercept_,\"\\n\") ##\n",
    "print(\"****\"*5+\"Accuracy Test Model Fitting \"+\"****\"*5)\n",
    "print(name + \"Score for train data set :\",clf_ridge.score(x_train,y_train))\n",
    "print(name + \"Score for test data Set\",clf_ridge.score(x_test,y_test))\n",
    "\n",
    "print(name + \"Score for Predictecd data Set\",clf_ridge.score(x_test,y_pred_ridge)) ##\n",
    "\n",
    "print(\"\\n\"+\"****\"*5+\"R2 Score\"+\"****\"*5)\n",
    "print(name + \"R2 Score for test is = \", r2_score(y_test, y_pred_ridge)) ##\n",
    "\n",
    "print(\"\\n\"+\"****\"*5+\"Mean Absolute Error\"+\"****\"*5)\n",
    "print(name+ \"Mean Absolute Error of Test = \", mean_absolute_error(y_test,y_pred_ridge)) ##\n",
    "print(name +\"Mean Absolute Error on Train\",mean_absolute_error(y_train,pd.DataFrame(clf_ridge.predict(x_train))))\n",
    "\n",
    "print(\"\\n\"+\"****\"*5+\" Mean Squared Error\"+\"****\"*5)\n",
    "print(name + \"Mean Squared Error of Test = \",mean_squared_error(y_test,y_pred_ridge)) ##\n",
    "print(name+\"Mean Squared Error on Train = \",mean_squared_error(y_train,pd.DataFrame(clf_ridge.predict(x_train))))\n",
    "\n",
    "print(\"\\n\"+\"****\"*5+\" Co Relation\"+\"****\"*5)\n",
    "print(name + \"Correlation Test Data \",stats.pearsonr(y_test[\"GC\"],y_pred_ridge[0])[0])\n",
    "print(name + \"Correlation Original Data \",stats.pearsonr(y_train[\"GC\"],pd.DataFrame(clf_ridge.predict(x_train))[0])[0])"
   ]
  },
  {
   "cell_type": "markdown",
   "metadata": {},
   "source": [
    "## Ridge CV"
   ]
  },
  {
   "cell_type": "code",
   "execution_count": null,
   "metadata": {},
   "outputs": [],
   "source": [
    "# Import Library\n",
    "#from sklearn.linear_model import RidgeCV\n",
    "#name = \"RidgeCV --> \"\n",
    "##Object Creation\n",
    "#clf_ridgecv = RidgeCV(alphas= [1e-3, 1e-2, 1e-1, 1]).fit(x_train , y_train)\n",
    "#y_pred_ridgecv = pd.DataFrame(clf_ridgecv.predict(x_test))"
   ]
  },
  {
   "cell_type": "markdown",
   "metadata": {},
   "source": [
    "### Display the Results"
   ]
  },
  {
   "cell_type": "code",
   "execution_count": 17,
   "metadata": {},
   "outputs": [],
   "source": [
    "##print(name +\" Coefficient \", lr.coef_) \n",
    "#print(name + \" Intercept \" , clf_ridgecv.intercept_) ##\n",
    "#print(\"****\"*5+\"Accuracy Test Model Fitting \"+\"****\"*5)\n",
    "#print(name + \"Score for train data set :\",clf_ridgecv.score(x_train,y_train))\n",
    "#print(name + \"Score for test data Set\",clf_ridgecv.score(x_test,y_test))\n",
    "#\n",
    "#print(name + \"Score for Predictecd data Set\",clf_ridgecv.score(x_test,y_pred_ridgecv)) ##\n",
    "#\n",
    "#print(\"\\n\"+\"****\"*5+\"R2 Score\"+\"****\"*5)\n",
    "#print(name + \"R2 Score for test is = \", r2_score(y_test, y_pred_ridgecv)) ##\n",
    "#\n",
    "#print(\"\\n\"+\"****\"*5+\"Mean Absolute Error\"+\"****\"*5)\n",
    "#print(name+ \"Mean Absolute Error of Test = \", mean_absolute_error(y_test,y_pred_ridgecv))  ##\n",
    "#\n",
    "#print(\"\\n\"+\"****\"*5+\" Mean Squared Error\"+\"****\"*5)\n",
    "#print(name + \"Mean Squared Error of Test = \",mean_squared_error(y_test,y_pred_ridgecv)) ##\n",
    "#print(name + \"Correlation \",stats.pearsonr(y_test[\"GC\"],y_pred_ridgecv[0])[0])"
   ]
  },
  {
   "cell_type": "markdown",
   "metadata": {},
   "source": [
    "## Bayesian ARD Regression\n",
    "`take Long Time`"
   ]
  },
  {
   "cell_type": "code",
   "execution_count": null,
   "metadata": {},
   "outputs": [],
   "source": [
    "#import library\n",
    "#from sklearn.linear_model import ARDRegression\n",
    "#\n",
    "#name  = \"ARDRegression\"\n",
    "#clf_ard = ARDRegression()\n",
    "#\n",
    "#clf_ard.fit(x_train,y_train)\n",
    "#pred_y_ard = clf.predict(x_test)"
   ]
  },
  {
   "cell_type": "code",
   "execution_count": null,
   "metadata": {},
   "outputs": [],
   "source": [
    "##print(name +\" Coefficient \", lr.coef_) \n",
    "#print(name + \" Intercept \" , clf_ard.intercept_) ##\n",
    "#print(\"****\"*5+\"Accuracy Test Model Fitting \"+\"****\"*5)\n",
    "#print(name + \"Score for train data set :\",clf_ard.score(x_train,y_train))\n",
    "#print(name + \"Score for test data Set\",clf_ard.score(x_test,y_test))\n",
    "#\n",
    "#print(name + \"Score for Predictecd data Set\",clf_ard.score(x_test,pred_y_ard)) ##\n",
    "#\n",
    "#print(\"\\n\"+\"****\"*5+\"R2 Score\"+\"****\"*5)\n",
    "#print(name + \"R2 Score for test is = \", r2_score(y_test, pred_y_ard)) ##\n",
    "#\n",
    "#print(\"\\n\"+\"****\"*5+\"Mean Absolute Error\"+\"****\"*5)\n",
    "#print(name+ \"Mean Absolute Error of Test = \", mean_absolute_error(y_test,pred_y_ard))  ##\n",
    "#\n",
    "#print(\"\\n\"+\"****\"*5+\" Mean Squared Error\"+\"****\"*5)\n",
    "#print(name + \"Mean Squared Error of Test = \",mean_squared_error(y_test,pred_y_ard)) ##\n",
    "#print(name + \"Correlation \",stats.pearsonr(y_test[\"GC\"],pred_y_ard[0])[0])"
   ]
  },
  {
   "cell_type": "markdown",
   "metadata": {},
   "source": [
    "## Bayesian  Ridge"
   ]
  },
  {
   "cell_type": "code",
   "execution_count": null,
   "metadata": {},
   "outputs": [],
   "source": [
    "#from sklearn.linear_model import BayesianRidge\n",
    "#name = \"BayesianRidge\"\n",
    "#\n",
    "#clf_bay = BayesianRidge().fit(x_train , y_train)\n",
    "#\n",
    "#y_pred_bay =pd.DataFrame(clf_bay.predict(x_test))"
   ]
  },
  {
   "cell_type": "code",
   "execution_count": null,
   "metadata": {},
   "outputs": [],
   "source": [
    "#print(name +\" Coefficient \", lr.coef_) \n",
    "#print(name + \" Intercept \" , clf_bay.intercept_) ##\n",
    "#print(\"****\"*5+\"Accuracy Test Model Fitting \"+\"****\"*5)\n",
    "#print(name + \"Score for train data set :\",clf_bay.score(x_train,y_train))\n",
    "#print(name + \"Score for test data Set\",clf_bay.score(x_test,y_test))\n",
    "#\n",
    "#print(name + \"Score for Predictecd data Set\",clf_bay.score(x_test,y_pred_bay)) ##\n",
    "#\n",
    "#print(\"\\n\"+\"****\"*5+\"R2 Score\"+\"****\"*5)\n",
    "#print(name + \"R2 Score for test is = \", r2_score(y_test, y_pred_bay)) ##\n",
    "#\n",
    "#print(\"\\n\"+\"****\"*5+\"Mean Absolute Error\"+\"****\"*5)\n",
    "#print(name+ \"Mean Absolute Error of Test = \", mean_absolute_error(y_test,y_pred_bay))  ##\n",
    "#\n",
    "#print(\"\\n\"+\"****\"*5+\" Mean Squared Error\"+\"****\"*5)\n",
    "#print(name + \"Mean Squared Error of Test = \",mean_squared_error(y_test,y_pred_bay)) ##\n",
    "#print(name + \"Correlation \",stats.pearsonr(y_test[\"GC\"],y_pred_bay[0])[0])"
   ]
  },
  {
   "cell_type": "markdown",
   "metadata": {},
   "source": [
    "## Elastic Net CV ()  ===== Glmnet in R ====="
   ]
  },
  {
   "cell_type": "code",
   "execution_count": null,
   "metadata": {},
   "outputs": [],
   "source": [
    "#from sklearn.linear_model import ElasticNetCV\n",
    "#name = \"ElasticnetCV --> \"\n",
    "#\n",
    "#regr_enetcv = ElasticNetCV(cv=10, random_state=0)\n",
    "#regr_enetcv.fit(x_train,y_train)\n",
    "#\n",
    "#y_pred_elasticnetcv = pd.DataFrame(regr_enetcv.predict(x_test))"
   ]
  },
  {
   "cell_type": "code",
   "execution_count": null,
   "metadata": {},
   "outputs": [],
   "source": [
    "#print(name +\" Coefficient \", lr.coef_) \n",
    "#print(name + \" Intercept \" , regr_enetcv.intercept_) ##\n",
    "#print(\"****\"*5+\"Accuracy Test Model Fitting \"+\"****\"*5)\n",
    "#print(name + \"Score for train data set :\",regr_enetcv.score(x_train,y_train))\n",
    "#print(name + \"Score for test data Set\",regr_enetcv.score(x_test,y_test))\n",
    "#\n",
    "#print(name + \"Score for Predictecd data Set\",regr_enetcv.score(x_test,y_pred_elasticnetcv)) ##\n",
    "#\n",
    "#print(\"\\n\"+\"****\"*5+\"R2 Score\"+\"****\"*5)\n",
    "#print(name + \"R2 Score for test is = \", r2_score(y_test,y_pred_elasticnetcv)) ##\n",
    "#\n",
    "#print(\"\\n\"+\"****\"*5+\"Mean Absolute Error\"+\"****\"*5)\n",
    "#print(name+ \"Mean Absolute Error of Test = \", mean_absolute_error(y_test,y_pred_elasticnetcv))  ##\n",
    "#\n",
    "#print(\"\\n\"+\"****\"*5+\" Mean Squared Error\"+\"****\"*5)\n",
    "#print(name + \"Mean Squared Error of Test = \",mean_squared_error(y_test,y_pred_elasticnetcv)) ##\n",
    "#print(name + \"Correlation \",stats.pearsonr(y_test[\"GC\"],y_pred_elasticnetcv[0])[0])"
   ]
  }
 ],
 "metadata": {
  "kernelspec": {
   "display_name": "Python 3.7.4 64-bit ('base': conda)",
   "language": "python",
   "name": "python37464bitbaseconda67970ada4b5d499c879aef5e70dc73ee"
  },
  "language_info": {
   "codemirror_mode": {
    "name": "ipython",
    "version": 3
   },
   "file_extension": ".py",
   "mimetype": "text/x-python",
   "name": "python",
   "nbconvert_exporter": "python",
   "pygments_lexer": "ipython3",
   "version": "3.7.7"
  }
 },
 "nbformat": 4,
 "nbformat_minor": 2
}
