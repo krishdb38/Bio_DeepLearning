{
 "cells": [
  {
   "cell_type": "code",
   "execution_count": 1,
   "metadata": {},
   "outputs": [],
   "source": [
    "import pandas as pd\n",
    "import numpy as np\n",
    "from scipy import stats\n",
    "\n",
    "from sklearn.model_selection import train_test_split , cross_val_score\n",
    "from sklearn.metrics import r2_score , mean_squared_error\n",
    "from sklearn.metrics import accuracy_score ,mean_absolute_error\n",
    "import warnings\n",
    "warnings.filterwarnings(\"ignore\")"
   ]
  },
  {
   "cell_type": "markdown",
   "metadata": {},
   "source": [
    "# Load the data"
   ]
  },
  {
   "cell_type": "markdown",
   "metadata": {},
   "source": [
    "### Testing on 10000 data is time Consuming so better to test on 1000 data set and if prediction is best then change data size"
   ]
  },
  {
   "cell_type": "code",
   "execution_count": 2,
   "metadata": {},
   "outputs": [],
   "source": [
    "x = pd.read_csv(\"../tsrl10000.csv\",nrows = 10000)\n",
    "x = x.iloc[:,1:]\n",
    "y = pd.read_csv(\"../srlbininfo_10000\",sep =\"\\t\",header =None,nrows = 10000)\n",
    "y = pd.DataFrame(y.iloc[:,1])\n",
    "y.columns = [\"RL\"]\n",
    "\n",
    "df = pd.concat([y,x],axis =1)\n",
    "\n",
    "y = pd.DataFrame(df.loc[:,\"RL\"])\n",
    "x = df.iloc[:,1:]  #    \n",
    "\n",
    "#Caution X Column up to 8000 above that outlier and y.GC Less than "
   ]
  },
  {
   "cell_type": "code",
   "execution_count": 34,
   "metadata": {},
   "outputs": [
    {
     "data": {
      "text/html": [
       "<div>\n",
       "<style scoped>\n",
       "    .dataframe tbody tr th:only-of-type {\n",
       "        vertical-align: middle;\n",
       "    }\n",
       "\n",
       "    .dataframe tbody tr th {\n",
       "        vertical-align: top;\n",
       "    }\n",
       "\n",
       "    .dataframe thead th {\n",
       "        text-align: right;\n",
       "    }\n",
       "</style>\n",
       "<table border=\"1\" class=\"dataframe\">\n",
       "  <thead>\n",
       "    <tr style=\"text-align: right;\">\n",
       "      <th></th>\n",
       "      <th>RL</th>\n",
       "    </tr>\n",
       "  </thead>\n",
       "  <tbody>\n",
       "    <tr>\n",
       "      <td>0</td>\n",
       "      <td>19.0</td>\n",
       "    </tr>\n",
       "    <tr>\n",
       "      <td>1</td>\n",
       "      <td>18.0</td>\n",
       "    </tr>\n",
       "    <tr>\n",
       "      <td>2</td>\n",
       "      <td>16.0</td>\n",
       "    </tr>\n",
       "    <tr>\n",
       "      <td>3</td>\n",
       "      <td>15.0</td>\n",
       "    </tr>\n",
       "    <tr>\n",
       "      <td>4</td>\n",
       "      <td>18.0</td>\n",
       "    </tr>\n",
       "  </tbody>\n",
       "</table>\n",
       "</div>"
      ],
      "text/plain": [
       "     RL\n",
       "0  19.0\n",
       "1  18.0\n",
       "2  16.0\n",
       "3  15.0\n",
       "4  18.0"
      ]
     },
     "execution_count": 34,
     "metadata": {},
     "output_type": "execute_result"
    }
   ],
   "source": [
    "y.head()"
   ]
  },
  {
   "cell_type": "markdown",
   "metadata": {},
   "source": [
    "## Always Check the data shape , df , x ,y"
   ]
  },
  {
   "cell_type": "code",
   "execution_count": 4,
   "metadata": {},
   "outputs": [
    {
     "data": {
      "text/plain": [
       "((10000, 3881), (10000, 3880), (10000, 1))"
      ]
     },
     "execution_count": 4,
     "metadata": {},
     "output_type": "execute_result"
    }
   ],
   "source": [
    "df.shape,x.shape , y.shape"
   ]
  },
  {
   "cell_type": "code",
   "execution_count": 5,
   "metadata": {},
   "outputs": [
    {
     "data": {
      "text/html": [
       "<div>\n",
       "<style scoped>\n",
       "    .dataframe tbody tr th:only-of-type {\n",
       "        vertical-align: middle;\n",
       "    }\n",
       "\n",
       "    .dataframe tbody tr th {\n",
       "        vertical-align: top;\n",
       "    }\n",
       "\n",
       "    .dataframe thead th {\n",
       "        text-align: right;\n",
       "    }\n",
       "</style>\n",
       "<table border=\"1\" class=\"dataframe\">\n",
       "  <thead>\n",
       "    <tr style=\"text-align: right;\">\n",
       "      <th></th>\n",
       "      <th>V1</th>\n",
       "      <th>V2</th>\n",
       "      <th>V3</th>\n",
       "      <th>V4</th>\n",
       "      <th>V5</th>\n",
       "      <th>V6</th>\n",
       "      <th>V7</th>\n",
       "      <th>V8</th>\n",
       "      <th>V9</th>\n",
       "      <th>V10</th>\n",
       "      <th>...</th>\n",
       "      <th>V3871</th>\n",
       "      <th>V3872</th>\n",
       "      <th>V3873</th>\n",
       "      <th>V3874</th>\n",
       "      <th>V3875</th>\n",
       "      <th>V3876</th>\n",
       "      <th>V3877</th>\n",
       "      <th>V3878</th>\n",
       "      <th>V3879</th>\n",
       "      <th>V3880</th>\n",
       "    </tr>\n",
       "  </thead>\n",
       "  <tbody>\n",
       "    <tr>\n",
       "      <td>0</td>\n",
       "      <td>1.179333</td>\n",
       "      <td>1.334434</td>\n",
       "      <td>1.403288</td>\n",
       "      <td>1.541632</td>\n",
       "      <td>1.325201</td>\n",
       "      <td>1.101396</td>\n",
       "      <td>1.096208</td>\n",
       "      <td>1.169582</td>\n",
       "      <td>1.201159</td>\n",
       "      <td>1.145272</td>\n",
       "      <td>...</td>\n",
       "      <td>0</td>\n",
       "      <td>0</td>\n",
       "      <td>0</td>\n",
       "      <td>0</td>\n",
       "      <td>0</td>\n",
       "      <td>0</td>\n",
       "      <td>0</td>\n",
       "      <td>0</td>\n",
       "      <td>0</td>\n",
       "      <td>0</td>\n",
       "    </tr>\n",
       "    <tr>\n",
       "      <td>1</td>\n",
       "      <td>1.148473</td>\n",
       "      <td>1.422455</td>\n",
       "      <td>1.373932</td>\n",
       "      <td>1.515307</td>\n",
       "      <td>1.337463</td>\n",
       "      <td>1.077379</td>\n",
       "      <td>1.061001</td>\n",
       "      <td>1.157020</td>\n",
       "      <td>1.258965</td>\n",
       "      <td>1.140321</td>\n",
       "      <td>...</td>\n",
       "      <td>0</td>\n",
       "      <td>0</td>\n",
       "      <td>0</td>\n",
       "      <td>0</td>\n",
       "      <td>0</td>\n",
       "      <td>0</td>\n",
       "      <td>0</td>\n",
       "      <td>0</td>\n",
       "      <td>0</td>\n",
       "      <td>0</td>\n",
       "    </tr>\n",
       "  </tbody>\n",
       "</table>\n",
       "<p>2 rows × 3880 columns</p>\n",
       "</div>"
      ],
      "text/plain": [
       "         V1        V2        V3        V4        V5        V6        V7  \\\n",
       "0  1.179333  1.334434  1.403288  1.541632  1.325201  1.101396  1.096208   \n",
       "1  1.148473  1.422455  1.373932  1.515307  1.337463  1.077379  1.061001   \n",
       "\n",
       "         V8        V9       V10  ...  V3871  V3872  V3873  V3874  V3875  \\\n",
       "0  1.169582  1.201159  1.145272  ...      0      0      0      0      0   \n",
       "1  1.157020  1.258965  1.140321  ...      0      0      0      0      0   \n",
       "\n",
       "   V3876  V3877  V3878  V3879  V3880  \n",
       "0      0      0      0      0      0  \n",
       "1      0      0      0      0      0  \n",
       "\n",
       "[2 rows x 3880 columns]"
      ]
     },
     "metadata": {},
     "output_type": "display_data"
    },
    {
     "data": {
      "text/html": [
       "<div>\n",
       "<style scoped>\n",
       "    .dataframe tbody tr th:only-of-type {\n",
       "        vertical-align: middle;\n",
       "    }\n",
       "\n",
       "    .dataframe tbody tr th {\n",
       "        vertical-align: top;\n",
       "    }\n",
       "\n",
       "    .dataframe thead th {\n",
       "        text-align: right;\n",
       "    }\n",
       "</style>\n",
       "<table border=\"1\" class=\"dataframe\">\n",
       "  <thead>\n",
       "    <tr style=\"text-align: right;\">\n",
       "      <th></th>\n",
       "      <th>RL</th>\n",
       "    </tr>\n",
       "  </thead>\n",
       "  <tbody>\n",
       "    <tr>\n",
       "      <td>0</td>\n",
       "      <td>19.0</td>\n",
       "    </tr>\n",
       "    <tr>\n",
       "      <td>1</td>\n",
       "      <td>18.0</td>\n",
       "    </tr>\n",
       "  </tbody>\n",
       "</table>\n",
       "</div>"
      ],
      "text/plain": [
       "     RL\n",
       "0  19.0\n",
       "1  18.0"
      ]
     },
     "metadata": {},
     "output_type": "display_data"
    }
   ],
   "source": [
    "display(x.head(2))\n",
    "display(y.head(2))"
   ]
  },
  {
   "cell_type": "code",
   "execution_count": 6,
   "metadata": {},
   "outputs": [],
   "source": [
    "x_train= None;x_test = None;y_train = None;y_test = None\n",
    "### 5 Regression \n",
    "clf_ridge = None ; y_pred_ridge = None;\n",
    "clf_lasso = None ; y_pred_lasso = None\n",
    "regr_elasticNet= None ; y_pred_elasticNet = None\n",
    "regr_enetcv = None ;y_pred_elasticnetcv = None \n",
    "clf_bay = None ; y_pred_bay = None ;"
   ]
  },
  {
   "cell_type": "code",
   "execution_count": 7,
   "metadata": {},
   "outputs": [],
   "source": [
    "def train_test(size = 0.20 , random_state=50,shuffle = True):\n",
    "    \"size = train size and random state is how the data are mixed and shuffle in to do mixing or not  \"\n",
    "    from sklearn.model_selection import train_test_split\n",
    "    global x_train,x_test,y_train, y_test\n",
    "    x_train= None; x_test = None; y_train = None; y_test = None\n",
    "    x_train,x_test,y_train, y_test = train_test_split(x,y,test_size= size,random_state = random_state , shuffle = shuffle)\n",
    "    \n",
    "    #return x_train,x_test,y_train, y_test "
   ]
  },
  {
   "cell_type": "code",
   "execution_count": 8,
   "metadata": {},
   "outputs": [],
   "source": [
    "#train_test() # Calling The Function with default Parameter\n",
    "#print(y_train.shape)\n",
    "#display(y_train.head(2))\n",
    "#print(x_train.shape)\n",
    "#display(x_train.head())"
   ]
  },
  {
   "cell_type": "markdown",
   "metadata": {},
   "source": [
    "##  Create a Function for Lasso"
   ]
  },
  {
   "cell_type": "code",
   "execution_count": 9,
   "metadata": {},
   "outputs": [],
   "source": [
    "#Create a Lasso Model to automatically apply in the loop\n",
    "\n",
    "def lasso( alpha=0.5, fit_intercept=True, normalize=False, precompute=False, copy_X=True, \n",
    "                      max_iter=1000, tol=0.0001, warm_start=False, positive=False,selection='cyclic'):\n",
    "    \n",
    "    \"Just Pass Related values only\"\n",
    "    \n",
    "    from sklearn.linear_model import Lasso\n",
    "    from sklearn.model_selection import train_test_split\n",
    "    global x_train,x_test,y_train, y_test , clf_lasso , y_pred_lasso\n",
    "    \n",
    "    clf_lasso = Lasso(alpha=alpha, fit_intercept=fit_intercept , normalize=normalize, precompute=precompute, copy_X=copy_X, \n",
    "                      max_iter=max_iter, tol=tol, warm_start=warm_start, positive=positive,selection=selection).fit(x_train,y_train)\n",
    "    \n",
    "    y_pred_lasso = pd.DataFrame(clf_lasso.predict(x_test))\n",
    "    name = \"Lasso\"\n",
    "    # *****************************************************************\n",
    "    \n",
    "#    print(name +\" Coefficient \", clf_lasso.coef_) \n",
    "#    print(name + \" Intercept \" , clf_lasso.intercept_,\"\\n\") ##\n",
    "#    print(\"****\"*5+\"Accuracy Test Model Fitting \"+\"****\"*5)\n",
    "#    print(name + \"Score for train data set :\",clf_lasso.score(x_train,y_train))\n",
    "#    print(name + \"Score for test data Set\",clf_lasso.score(x_test,y_test))\n",
    "#\n",
    "#    print(name + \"Score for Predictecd data Set\",clf_lasso.score(x_test,y_pred_lasso)) ##\n",
    "#    \n",
    "#    #print(\"\\n\"+\"****\"*5+\"R2 Score\"+\"****\"*5)\n",
    "#    #print(name + \"R2 Score for test is = \", r2_score(y_test, y_pred_lasso)) ##\n",
    "#    \n",
    "#    print(\"\\n\"+\"****\"*5+\"Mean Absolute Error\"+\"****\"*5)\n",
    "#    print(name+ \"Mean Absolute Error of Test = \", mean_absolute_error(y_test,y_pred_lasso)) ##\n",
    "#    print(name +\"Mean Absolute Error on Train\",mean_absolute_error(y_train,pd.DataFrame(clf_lasso.predict(x_train))))\n",
    "#    \n",
    "#    print(\"\\n\"+\"****\"*5+\" Mean Squared Error\"+\"****\"*5)\n",
    "#    print(name + \"Mean Squared Error of Test = \",mean_squared_error(y_test,y_pred_lasso)) ##\n",
    "#    print(name+\"Mean Squared Error on Train = \",mean_squared_error(y_train,pd.DataFrame(clf_lasso.predict(x_train))))\n",
    "#    \n",
    "#    print(\"\\n\"+\"****\"*5+\" Co Relation\"+\"****\"*5)\n",
    "#    print(name + \"Correlation Test Data \",stats.pearsonr(y_test[\"RL\"],y_pred_lasso[0])[0])\n",
    "#    print(name + \"Correlation Original Data \",stats.pearsonr(y_train[\"RL\"],pd.DataFrame(clf_lasso.predict(x_train))[0])[0])\n",
    "    \n",
    "    return clf_lasso.score(x_test,y_test) ,stats.pearsonr(y_test.RL,pd.DataFrame(clf_lasso.predict(x_test))[0])[0]"
   ]
  },
  {
   "cell_type": "markdown",
   "metadata": {},
   "source": [
    "## Function For Ridge Regression"
   ]
  },
  {
   "cell_type": "code",
   "execution_count": 10,
   "metadata": {},
   "outputs": [],
   "source": [
    "#Create a Model to automatically apply in the loop\n",
    "\n",
    "def ridge( alpha = 0.01,copy_X=True,fit_intercept=True, max_iter=None, normalize=False,\n",
    "      random_state=None, solver='auto', tol=0.001):\n",
    "    \"Just Pass alpha value only\"\n",
    "    \n",
    "    from sklearn.linear_model import Ridge\n",
    "    from sklearn.model_selection import train_test_split\n",
    "    global x_train,x_test,y_train, y_test , clf_ridge , y_pred_ridge\n",
    "    \n",
    "    clf_ridge = Ridge(alpha=alpha,copy_X=copy_X,fit_intercept=fit_intercept, max_iter=max_iter, normalize=normalize,\n",
    "      random_state=random_state, solver=solver, tol=tol).fit(x_train,y_train)\n",
    "    \n",
    "    y_pred_ridge = pd.DataFrame(clf_ridge.predict(x_test))\n",
    "    name = \"Ridge\"\n",
    "    # *****************************************************************\n",
    "    \n",
    "   # print(name +\" Coefficient \", clf_ridge.coef_) \n",
    "#    print(name + \" Intercept \" , clf_ridge.intercept_,\"\\n\") ###\n",
    "#    print(\"****\"*5+\"Accuracy Test Model Fitting \"+\"****\"*5)\n",
    "#    print(name + \"Score for Train data set :\",clf_ridge.score(x_train,y_train))\n",
    "#    print(name + \"Score for Test data Set\",clf_ridge.score(x_test,y_test))\n",
    "    \n",
    "    #print(name + \"Score for Train data set :\",clf_ridge.score(x_train,y_train),\"Test data Set =\",clf_ridge.score(x_test,y_test))\n",
    "    #Return the coefficient of determination R^2 of the prediction.\n",
    "    \n",
    "    \n",
    "\n",
    "#    print(name + \"Score for Predictecd data Set\",clf_ridge.score(x_test,y_pred_ridge)) ##\n",
    "    \n",
    "    #print(\"\\n\"+\"****\"*5+\"R2 Score\"+\"****\"*5)\n",
    "    #print(name + \"R2 Score for test is = \", r2_score(y_test, y_pred_ridge)) ##\n",
    "    \n",
    "#    print(\"\\n\"+\"****\"*5+\"Mean Absolute Error\"+\"****\"*5)\n",
    "#    print(name+ \"Mean Absolute Error of Test = \", mean_absolute_error(y_test,y_pred_ridge)) ##\n",
    "#    print(name +\"Mean Absolute Error on Train\",mean_absolute_error(y_train,pd.DataFrame(clf_ridge.predict(x_train))))\n",
    "    \n",
    "#    print(\"\\n\"+\"****\"*5+\" Mean Squared Error\"+\"****\"*5)\n",
    "#    print(name + \"Mean Squared Error of Test = \",mean_squared_error(y_test,y_pred_ridge)) ##\n",
    "#    print(name+\"Mean Squared Error on Train = \",mean_squared_error(y_train,pd.DataFrame(clf_ridge.predict(x_train))))\n",
    "    \n",
    "#    print(\"\\n\"+\"****\"*5+\" Co Relation\"+\"****\"*5)\n",
    "#    print(name + \"Correlation Test Data \",stats.pearsonr(y_test[\"RL\"],y_pred_ridge[0])[0])\n",
    "#    print(name + \"Correlation Original Data \",stats.pearsonr(y_train[\"RL\"],pd.DataFrame(clf_ridge.predict(x_train))[0])[0])\n",
    "    \n",
    "    #print(\"Correlation = \",stats.pearsonr(y_train[\"GC\"],pd.DataFrame(clf_ridge.predict(x_train))[0])[0])\n",
    "    \n",
    "    return  clf_ridge.score(x_test,y_test) ,stats.pearsonr(y_test.RL,pd.DataFrame(clf_ridge.predict(x_test))[0])[0] # clf_ridge ,"
   ]
  },
  {
   "cell_type": "markdown",
   "metadata": {},
   "source": [
    "## Create A Function for ElasticNet"
   ]
  },
  {
   "cell_type": "code",
   "execution_count": 11,
   "metadata": {},
   "outputs": [],
   "source": [
    "def enet(alpha=1.0, l1_ratio=0.5, fit_intercept=True, normalize=False,precompute=False, max_iter=1000,\n",
    "         copy_X=True, tol=0.0001, warm_start=False, positive=False, random_state=None, selection='cyclic'):\n",
    "    \n",
    "    from sklearn.linear_model import ElasticNet\n",
    "    global x_train,x_test,y_train, y_test , regr_elasticNet, y_pred_elasticNet\n",
    "\n",
    "    name = \"Elastic net--> \"\n",
    "\n",
    "    regr_elasticNet = ElasticNet(alpha=alpha, l1_ratio=l1_ratio, fit_intercept=fit_intercept, normalize=normalize,\n",
    "                                 precompute=precompute, max_iter=max_iter,copy_X=copy_X, tol=tol, warm_start=warm_start, \n",
    "                                 positive=positive, random_state=random_state, selection=selection)\n",
    "    \n",
    "    regr_elasticNet.fit(x_train , y_train)\n",
    "\n",
    "    y_pred_elasticNet =pd.DataFrame(regr_elasticNet.predict(x_test))\n",
    "    \n",
    "#    print(name +\" Coefficient \", regr_elasticNet.coef_) \n",
    "#    print(name + \" Intercept \" , regr_elasticNet.intercept_,\"\\n\") ##\n",
    "#    print(\"****\"*5+\"Accuracy Test Model Fitting \"+\"****\"*5)\n",
    "#    print(name + \"Score for train data set :\",regr_elasticNet.score(x_train,y_train))\n",
    "#    #Return the coefficient of determination R^2 of the prediction.\n",
    "#    print(name + \"Score for test data Set\",regr_elasticNet.score(x_test,y_test))\n",
    "#    print(name + \"Score for Predictecd data Set\",regr_elasticNet.score(x_test,y_pred_elasticNet)) ##\n",
    "#    #print(\"\\n\"+\"****\"*5+\"R2 Score\"+\"****\"*5)\n",
    "#    #print(name + \"R2 Score for test is = \", r2_score(y_test,y_pred_sgd)) ##\n",
    "#    print(\"\\n\"+\"****\"*5+\"Mean Absolute Error\"+\"****\"*5)\n",
    "#    print(name+ \"Mean Absolute Error of Test = \", mean_absolute_error(y_test,y_pred_elasticNet)) ##\n",
    "#    print(name +\"Mean Absolute Error on Train\",mean_absolute_error(y_train,pd.DataFrame(regr_elasticNet.predict(x_train))))\n",
    "#    print(\"\\n\"+\"****\"*5+\" Mean Squared Error\"+\"****\"*5)\n",
    "#    print(name + \"Mean Squared Error of Test = \",mean_squared_error(y_test,y_pred_elasticNet)) ##\n",
    "#    print(name+\"Mean Squared Error on Train = \",mean_squared_error(y_train,pd.DataFrame(regr_elasticNet.predict(x_train))))\n",
    "#    print(\"\\n\"+\"****\"*5+\" Co Relation\"+\"****\"*5)\n",
    "#    print(name + \"Correlation Test Data \",stats.pearsonr(y_test[\"RL\"],y_pred_elasticNet[0])[0])\n",
    "#    print(name + \"Correlation Original Data \",stats.pearsonr(y_train[\"RL\"],pd.DataFrame(regr_elasticNet.predict(x_train))[0])[0])\n",
    "    \n",
    "    return  regr_elasticNet.score(x_test,y_test) ,stats.pearsonr(y_test.RL,pd.DataFrame(regr_elasticNet.predict(x_test))[0])[0]"
   ]
  },
  {
   "cell_type": "markdown",
   "metadata": {},
   "source": [
    "## Function for Elastic NetCV  **** glmnet in R ***"
   ]
  },
  {
   "cell_type": "code",
   "execution_count": 12,
   "metadata": {},
   "outputs": [],
   "source": [
    "def enet_cv(l1_ratio=0.5, eps=0.001, n_alphas=100, alphas=None, fit_intercept=True, normalize=False, precompute='auto',\n",
    "            max_iter=1000, tol=0.0001, cv=None, copy_X=True, verbose=0, n_jobs=None, positive=False, random_state=None,\n",
    "            selection='cyclic'):\n",
    "    \n",
    "    from sklearn.linear_model import ElasticNetCV\n",
    "    global x_train,x_test,y_train, y_test , regr_enetcv , y_pred_elasticnetcv\n",
    "    name = \"ElasticnetCV --> \"\n",
    "\n",
    "    regr_enetcv = ElasticNetCV(l1_ratio=l1_ratio, eps=eps, n_alphas=n_alphas, alphas=alphas, fit_intercept=fit_intercept,\n",
    "                               normalize=normalize,precompute=precompute, max_iter=max_iter, tol=tol, cv=cv,copy_X=copy_X,\n",
    "                               verbose=verbose, n_jobs=n_jobs,positive=positive, random_state=random_state, selection=selection)\n",
    "    \n",
    "    regr_enetcv.fit(x_train,y_train)\n",
    "\n",
    "    y_pred_elasticnetcv =pd.DataFrame(regr_enetcv.predict(x_test))\n",
    "    \n",
    "#    print(name +\" Coefficient \", regr_enetcv.coef_) \n",
    "#    print(name + \" Intercept \" , regr_enetcv.intercept_,\"\\n\") ##\n",
    "#    \n",
    "#    print(\"****\"*5+\"Accuracy Test Model Fitting \"+\"****\"*5)\n",
    "#    print(name + \"Score for train data set :\",regr_enetcv.score(x_train,y_train))\n",
    "#    #Return the coefficient of determination R^2 of the prediction.\n",
    "#    print(name + \"Score for test data Set\",regr_enetcv.score(x_test,y_test))\n",
    "#    print(name + \"Score for Predictecd data Set\",regr_enetcv.score(x_test,y_pred_elasticnetcv)) ##\n",
    "#    \n",
    "#    #print(\"\\n\"+\"****\"*5+\"R2 Score\"+\"****\"*5)\n",
    "#    #print(name + \"R2 Score for test is = \", r2_score(y_test,y_pred_elasticnetcv)) ##\n",
    "#    \n",
    "#    print(\"\\n\"+\"****\"*5+\"Mean Absolute Error\"+\"****\"*5)\n",
    "#    print(name+ \"Mean Absolute Error of Test = \", mean_absolute_error(y_test,y_pred_elasticnetcv)) ##\n",
    "#    print(name +\"Mean Absolute Error on Train\",mean_absolute_error(y_train,pd.DataFrame(regr_enetcv.predict(x_train))))\n",
    "#    print(\"\\n\"+\"****\"*5+\" Mean Squared Error\"+\"****\"*5)\n",
    "#    print(name + \"Mean Squared Error of Test = \",mean_squared_error(y_test,y_pred_elasticnetcv)) ##\n",
    "#    print(name+\"Mean Squared Error on Train = \",mean_squared_error(y_train,pd.DataFrame(regr_enetcv.predict(x_train))))\n",
    "#    print(\"\\n\"+\"****\"*5+\" Co Relation\"+\"****\"*5)\n",
    "#    print(name + \"Correlation Test Data \",stats.pearsonr(y_test[\"RL\"],y_pred_elasticnetcv[0])[0])\n",
    "#    print(name + \"Correlation Original Data \",stats.pearsonr(y_train[\"RL\"],pd.DataFrame(regr_enetcv.predict(x_train))[0])[0])\n",
    "    \n",
    "    return regr_enetcv.score(x_test,y_test) ,stats.pearsonr(y_test.RL,pd.DataFrame(regr_enetcv.predict(x_test))[0])[0]"
   ]
  },
  {
   "cell_type": "markdown",
   "metadata": {},
   "source": [
    "## Function For Bayesian "
   ]
  },
  {
   "cell_type": "code",
   "execution_count": 13,
   "metadata": {},
   "outputs": [],
   "source": [
    "def bayesian_ridge(n_iter=300, tol=0.001, alpha_1=1e-06, alpha_2=1e-06, lambda_1=1e-06, lambda_2=1e-06,\n",
    "                compute_score=False, fit_intercept=True, normalize=False,copy_X=True, verbose=False):\n",
    " \n",
    "    from sklearn.linear_model import BayesianRidge\n",
    "    global x_train,x_test,y_train, y_test , regr_enetcv , y_pred_elasticnetcv,clf_bay , y_pred_bay\n",
    "    \n",
    "    name = \"BayesianRidge\"\n",
    "    clf_bay = BayesianRidge(n_iter=n_iter, tol=tol, alpha_1=alpha_1, alpha_2=alpha_2, lambda_1=lambda_1, lambda_2=lambda_2,\n",
    "                        compute_score=compute_score,fit_intercept=fit_intercept,normalize=normalize,copy_X=copy_X,\n",
    "                            verbose=verbose).fit(x_train , y_train)\n",
    "    \n",
    "    y_pred_bay = pd.DataFrame(clf_bay.predict(x_test))\n",
    "    \n",
    "#    print(name +\"Coefficient \",clf_bay.coef_) \n",
    "#    print(name + \" Intercept \" , clf_bay.intercept_,\"\\n\") ##\n",
    "#    print(\"****\"*5+\"Accuracy Test Model Fitting \"+\"****\"*5)\n",
    "#    print(name + \"Score for train data set :\",clf_bay.score(x_train,y_train))\n",
    "    #Return the coefficient of determination R^2 of the prediction.\n",
    "#    print(name + \"Score for test data Set\",clf_bay.score(x_test,y_test))\n",
    "#    print(name + \"Score for Predictecd data Set\",clf_bay.score(x_test,y_pred_bay)) ##\n",
    "    #print(\"\\n\"+\"****\"*5+\"R2 Score\"+\"****\"*5)\n",
    "    #print(name + \"R2 Score for test is = \", r2_score(y_test,y_pred_bay)) ##\n",
    "#    print(\"\\n\"+\"****\"*5+\"Mean Absolute Error\"+\"****\"*5)\n",
    "#    print(name+ \"Mean Absolute Error of Test = \", mean_absolute_error(y_test,y_pred_bay)) ##\n",
    "#    print(name +\"Mean Absolute Error on Train\",mean_absolute_error(y_train,pd.DataFrame(clf_bay.predict(x_train))))\n",
    "#    print(\"\\n\"+\"****\"*5+\" Mean Squared Error\"+\"****\"*5)\n",
    "#    print(name + \"Mean Squared Error of Test = \",mean_squared_error(y_test,y_pred_bay)) ##\n",
    "#    print(name+\"Mean Squared Error on Train = \",mean_squared_error(y_train,pd.DataFrame(clf_bay.predict(x_train))))\n",
    "#    print(\"\\n\"+\"****\"*5+\" Co Relation\"+\"****\"*5)\n",
    "#    print(name + \"Correlation Test Data \",stats.pearsonr(y_test[\"RL\"],y_pred_bay[0])[0])\n",
    "#    print(name + \"Correlation Original Data \",stats.pearsonr(y_train[\"RL\"],pd.DataFrame(clf_bay.predict(x_train))[0])[0])\n",
    "    return clf_bay.score(x_test,y_test) ,stats.pearsonr(y_test.RL,pd.DataFrame(clf_bay.predict(x_test))[0])[0]"
   ]
  },
  {
   "cell_type": "markdown",
   "metadata": {},
   "source": [
    "### Call different with different Parameter"
   ]
  },
  {
   "cell_type": "code",
   "execution_count": 14,
   "metadata": {},
   "outputs": [],
   "source": [
    "train_test(size = 0.2 , random_state=5,shuffle =False)"
   ]
  },
  {
   "cell_type": "markdown",
   "metadata": {},
   "source": [
    "### Call the Ridge Function in  with different Parameter"
   ]
  },
  {
   "cell_type": "code",
   "execution_count": 15,
   "metadata": {},
   "outputs": [
    {
     "data": {
      "text/plain": [
       "(0.7445836649738835, 0.8725949100719352)"
      ]
     },
     "execution_count": 15,
     "metadata": {},
     "output_type": "execute_result"
    }
   ],
   "source": [
    "train_test(size = 0.2 , random_state=5,shuffle =False)\n",
    "#***********************************************************\n",
    "ridge(alpha=0.8,copy_X=True,fit_intercept=True, max_iter=10000, normalize=True)"
   ]
  },
  {
   "cell_type": "code",
   "execution_count": 16,
   "metadata": {},
   "outputs": [
    {
     "name": "stdout",
     "output_type": "stream",
     "text": [
      "(0.7059587620026707, 0.8500134069667098)\n"
     ]
    }
   ],
   "source": [
    "#alpha 0 is low result\n",
    "#max_iter = 1000 is not influencing in the result\n",
    "#Normalize False Reduce the Result\n",
    "print(ridge(alpha=0.8,copy_X=True,fit_intercept=True, max_iter=1, normalize= False))"
   ]
  },
  {
   "cell_type": "code",
   "execution_count": null,
   "metadata": {},
   "outputs": [],
   "source": [
    "#Check with Suffle True \n",
    "#This also Reduce the Result so Best Ridge is \n",
    "#train_test(size = 0.2 , random_state=5,shuffle =True)\n",
    "#ridge(alpha=0.8,copy_X=True,fit_intercept=True, max_iter=1, normalize=True)"
   ]
  },
  {
   "cell_type": "markdown",
   "metadata": {},
   "source": [
    "#### Best Ridge Parameter"
   ]
  },
  {
   "cell_type": "code",
   "execution_count": 17,
   "metadata": {},
   "outputs": [
    {
     "data": {
      "text/plain": [
       "(0.7445836649738835, 0.8725949100719352)"
      ]
     },
     "execution_count": 17,
     "metadata": {},
     "output_type": "execute_result"
    }
   ],
   "source": [
    "#train_test(size = 0.2 , random_state=5,shuffle =False)\n",
    "#***********************************************************\n",
    "ridge(alpha=0.8,copy_X=True,fit_intercept=True, max_iter=10, normalize=True)"
   ]
  },
  {
   "cell_type": "markdown",
   "metadata": {},
   "source": [
    "#### Bayesian For Testing"
   ]
  },
  {
   "cell_type": "code",
   "execution_count": null,
   "metadata": {},
   "outputs": [],
   "source": [
    "train_test(size = 0.2 , random_state=5,shuffle = False)\n",
    "#***********************************************************\n",
    "bayesian_ridge(n_iter=300, tol=0.0001, alpha_1=1e-06, alpha_2=1e-06, lambda_1=1e-06, lambda_2=1e-06,compute_score=True,\n",
    "               fit_intercept=True, normalize=True,copy_X=True, verbose=False)"
   ]
  },
  {
   "cell_type": "code",
   "execution_count": null,
   "metadata": {},
   "outputs": [],
   "source": [
    "#change Shuffle True low result\n",
    "train_test(size = 0.2 , random_state=5,shuffle = True)\n",
    "#***********************************************************\n",
    "bayesian_ridge(n_iter=300, tol=0.0001, alpha_1=1e-06, alpha_2=1e-06, lambda_1=1e-06, lambda_2=1e-06,compute_score=True,\n",
    "               fit_intercept=True, normalize=True,copy_X=True, verbose=False)"
   ]
  },
  {
   "cell_type": "code",
   "execution_count": null,
   "metadata": {},
   "outputs": [],
   "source": [
    "#change shuffle to False and increase n_iter to 1000,10000 not a very much different so we fixed to 1000\n",
    "\n",
    "#train_test(size = 0.2 , random_state=5,shuffle = False)\n",
    "#***********************************************************\n",
    "bayesian_ridge(n_iter=10000, tol=0.0001, alpha_1=1e-06, alpha_2=1e-06, lambda_1=1e-06, lambda_2=1e-06,compute_score=True,\n",
    "               fit_intercept=True, normalize=True,copy_X=True, verbose=False)"
   ]
  },
  {
   "cell_type": "markdown",
   "metadata": {},
   "source": [
    "### Call the   Lasso Regression with seprate Parameter"
   ]
  },
  {
   "cell_type": "code",
   "execution_count": 18,
   "metadata": {},
   "outputs": [],
   "source": [
    "train_test(size=0.20,random_state=10, shuffle=True) #We are testing with same data  But different Parameter"
   ]
  },
  {
   "cell_type": "code",
   "execution_count": 19,
   "metadata": {
    "scrolled": true
   },
   "outputs": [
    {
     "data": {
      "text/plain": [
       "(0.6509064516377885, 0.8220546130757027)"
      ]
     },
     "execution_count": 19,
     "metadata": {},
     "output_type": "execute_result"
    }
   ],
   "source": [
    "#We have 2 Function  warm_state --> True\n",
    "lasso( alpha=0, fit_intercept=True, normalize=False, precompute=False, copy_X=True,max_iter=1000,\n",
    "      tol=0.0001,warm_start=True, positive=False,selection='random')"
   ]
  },
  {
   "cell_type": "code",
   "execution_count": 20,
   "metadata": {},
   "outputs": [
    {
     "data": {
      "text/plain": [
       "(0.691175473142714, 0.8419249138871023)"
      ]
     },
     "execution_count": 20,
     "metadata": {},
     "output_type": "execute_result"
    }
   ],
   "source": [
    "#Change positive = True \n",
    "lasso(alpha=0, fit_intercept=True, normalize=False, precompute=False, copy_X=True,max_iter=1000,\n",
    "      tol=0.0001,warm_start=False,positive=True,selection='cyclic')"
   ]
  },
  {
   "cell_type": "code",
   "execution_count": 21,
   "metadata": {},
   "outputs": [
    {
     "data": {
      "text/plain": [
       "(0.6977286137247007, 0.8439557448532988)"
      ]
     },
     "execution_count": 21,
     "metadata": {},
     "output_type": "execute_result"
    }
   ],
   "source": [
    "#Change normalize = True Give low Result as Compared to above 0.6940006394147187, 0.8436065326019351)\n",
    "#again change precompute = True also Give low result (0.6940006394147056, 0.8436065326019332)\n",
    "# max_iter to 100 also low result\n",
    "# max_iter to 10000 our data size Time Consuming but Result is little better in Test Data Set \n",
    "lasso(alpha=0, fit_intercept=True, normalize=False, precompute=False, copy_X=True,max_iter=10000,\n",
    "      tol=0.0001,warm_start=False,positive=True,selection='cyclic')"
   ]
  },
  {
   "cell_type": "code",
   "execution_count": 22,
   "metadata": {},
   "outputs": [
    {
     "data": {
      "text/plain": [
       "(0.6977958519291378, 0.8439773056709008)"
      ]
     },
     "execution_count": 22,
     "metadata": {},
     "output_type": "execute_result"
    }
   ],
   "source": [
    "lasso(alpha=0, fit_intercept=True, normalize=False, precompute=False, copy_X=True,max_iter=1000,\n",
    "      tol=0.0001,warm_start=False,positive=True,selection='random')"
   ]
  },
  {
   "cell_type": "code",
   "execution_count": null,
   "metadata": {},
   "outputs": [],
   "source": [
    "#We have 2 Function \n",
    "train_test(size=0.20,random_state=10, shuffle=True)\n",
    "#***********************************************************\n",
    "lasso( alpha=0, fit_intercept=True, normalize=False, precompute=False, copy_X=True,max_iter=1000, tol=0.00001,warm_start=False, positive=False,selection='cyclic')"
   ]
  },
  {
   "cell_type": "code",
   "execution_count": null,
   "metadata": {},
   "outputs": [],
   "source": [
    "out = 0\n",
    "for i in range(100):\n",
    "    print(i*10)\n",
    "    #We have 2 Function \n",
    "    #train_test(size=0.10,random_state=10, shuffle=True)\n",
    "#***********************************************************\n",
    "    a,b = lasso( alpha=0.01*i, fit_intercept=True, normalize=False, precompute=False,\n",
    "          copy_X=True,max_iter=10, tol=0.0001,warm_start=False, positive=False,selection='cyclic')\n",
    "    print(i,a,b)"
   ]
  },
  {
   "cell_type": "markdown",
   "metadata": {},
   "source": [
    "## Elastic Net Regression  (Time Consuming)"
   ]
  },
  {
   "cell_type": "code",
   "execution_count": null,
   "metadata": {},
   "outputs": [],
   "source": [
    "#train_test(size = 0.2 , random_state=580,shuffle = True)\n",
    "#***********************************************************\n",
    "enet(alpha=0, l1_ratio=0.01, fit_intercept=True, normalize=False,precompute=False, max_iter=1000,\n",
    "         copy_X=True, tol=0.0001, warm_start=False, positive=False, random_state=None, selection='random')"
   ]
  },
  {
   "cell_type": "markdown",
   "metadata": {},
   "source": [
    "## Bayesian Ridge Regression"
   ]
  },
  {
   "cell_type": "code",
   "execution_count": 23,
   "metadata": {
    "scrolled": true
   },
   "outputs": [
    {
     "data": {
      "text/plain": [
       "(0.717292371464948, 0.8470718005445379)"
      ]
     },
     "execution_count": 23,
     "metadata": {},
     "output_type": "execute_result"
    }
   ],
   "source": [
    "train_test(size = 0.2 , random_state=580,shuffle = True)\n",
    "#***********************************************************\n",
    "bayesian_ridge(n_iter=100, tol=0.0001, alpha_1=1e-03, alpha_2=1e-03, lambda_1=1e-03, lambda_2=1e-03,compute_score=True,\n",
    "               fit_intercept=True, normalize=True,copy_X=True, verbose=False)"
   ]
  },
  {
   "cell_type": "code",
   "execution_count": null,
   "metadata": {},
   "outputs": [],
   "source": [
    "train_test(size = 0.20 , random_state=580,shuffle = True)\n",
    "#***********************************************************\n",
    "bayesian_ridge(n_iter=100, tol=0.0001, alpha_1=1e-06, alpha_2=1e-06, lambda_1=1e-06, lambda_2=1e-06,compute_score=True,\n",
    "               fit_intercept=True, normalize=True,copy_X=True, verbose=False)"
   ]
  },
  {
   "cell_type": "code",
   "execution_count": null,
   "metadata": {},
   "outputs": [],
   "source": [
    "#Verbose True May take long time\n",
    "\n",
    "train_test(size = 0.10 , random_state=580,shuffle = True)\n",
    "#***********************************************************\n",
    "bayesian_ridge(n_iter=100, tol=0.0001, alpha_1=1e-06, alpha_2=1e-06, lambda_1=1e-06, lambda_2=1e-06,compute_score=True,\n",
    "               fit_intercept=True, normalize=True,copy_X=True, verbose=True) #verbose True"
   ]
  },
  {
   "cell_type": "code",
   "execution_count": null,
   "metadata": {},
   "outputs": [],
   "source": [
    "train_test(size = 0.10 , random_state=580,shuffle = True)\n",
    "#***********************************************************\n",
    "bayesian_ridge(n_iter=100, tol=0.0001, alpha_1=1e-06, alpha_2=1e-06, lambda_1=1e-06, lambda_2=1e-06,compute_score=True,\n",
    "               fit_intercept=True, normalize=True,copy_X=True, verbose=False) #verbose True"
   ]
  },
  {
   "cell_type": "markdown",
   "metadata": {},
   "source": [
    "## Elastic Net CV ** Glmnet ** R\n",
    "#### take long Time\n",
    "## Reduce the sample Size while Testing this Method"
   ]
  },
  {
   "cell_type": "code",
   "execution_count": null,
   "metadata": {},
   "outputs": [],
   "source": [
    "df.shape"
   ]
  },
  {
   "cell_type": "code",
   "execution_count": 35,
   "metadata": {},
   "outputs": [
    {
     "data": {
      "text/plain": [
       "(0.6938879452827396, 0.8454710218264059)"
      ]
     },
     "execution_count": 35,
     "metadata": {},
     "output_type": "execute_result"
    }
   ],
   "source": [
    "train_test(size = 0.2 , random_state=580,shuffle = True)\n",
    "##***********************************************************\n",
    "enet_cv(l1_ratio=0.2, eps=0.001, n_alphas=10, alphas=None, fit_intercept=True, normalize=False, precompute=True,\n",
    "            max_iter=1000, tol=0.0001, cv=10, copy_X=True, verbose=0, n_jobs=None, positive=False, random_state=None,\n",
    "            selection='random')"
   ]
  },
  {
   "cell_type": "code",
   "execution_count": 41,
   "metadata": {},
   "outputs": [
    {
     "data": {
      "text/plain": [
       "(0.6908473475323162, 0.8440305089982454)"
      ]
     },
     "execution_count": 41,
     "metadata": {},
     "output_type": "execute_result"
    }
   ],
   "source": [
    "#Change l1_ration to 1\n",
    "#Change selection random or cyclic\n",
    "##***********************************************************\n",
    "enet_cv(l1_ratio=0.2, eps=0.001, n_alphas=10, alphas=None, fit_intercept=True, normalize=False, precompute=True,\n",
    "            max_iter=1000, tol=0.0001, cv=10, copy_X=True, verbose=0, n_jobs=None, positive=False, random_state=None,\n",
    "            selection='cyclic') "
   ]
  },
  {
   "cell_type": "code",
   "execution_count": 42,
   "metadata": {},
   "outputs": [
    {
     "data": {
      "text/plain": [
       "(0.706936659079988, 0.8505544306387687)"
      ]
     },
     "execution_count": 42,
     "metadata": {},
     "output_type": "execute_result"
    }
   ],
   "source": [
    "#l1_ratio high reducing the Accuracy\n",
    "#La_ratio reduce to 0.1\n",
    "enet_cv(l1_ratio=0.1, eps=0.001, n_alphas=10, alphas=None, fit_intercept=True, normalize=True, precompute=True,\n",
    "            max_iter=1000, tol=0.0001, cv=10, copy_X=True, verbose=0, n_jobs=None, positive=False, random_state=None,\n",
    "            selection='random')"
   ]
  },
  {
   "cell_type": "code",
   "execution_count": 44,
   "metadata": {},
   "outputs": [
    {
     "data": {
      "text/plain": [
       "(8000, 3880)"
      ]
     },
     "execution_count": 44,
     "metadata": {},
     "output_type": "execute_result"
    }
   ],
   "source": []
  },
  {
   "cell_type": "markdown",
   "metadata": {},
   "source": [
    "### Testing Our new data with the Model developed "
   ]
  },
  {
   "cell_type": "code",
   "execution_count": 24,
   "metadata": {},
   "outputs": [],
   "source": [
    "y_pred_ridge.head()\n",
    "test_x = pd.read_csv(\"../tsrl900.csv\")\n",
    "test_x = test_x.iloc[:,1:]\n",
    "\n",
    "test_y = pd.read_csv(\"../ffyrgc900.csv\")\n",
    "test_y = test_y.iloc[:,1:]*100"
   ]
  },
  {
   "cell_type": "code",
   "execution_count": 45,
   "metadata": {
    "scrolled": true
   },
   "outputs": [
    {
     "name": "stdout",
     "output_type": "stream",
     "text": [
      "Correlation with Ridge Reg Pred 0.8634330761372677\n",
      "Correlation with Bay Reg Pred 0.8635354689164587\n",
      "Correlation with Lasso Pred 0.8551005961414272\n",
      "Correlation with Enet CV  0.8607536899428633\n"
     ]
    }
   ],
   "source": [
    "print(\"Correlation with Ridge Reg Pred\",stats.pearsonr(test_y[\"V1\"],pd.DataFrame(clf_ridge.predict(test_x))[0])[0])\n",
    "print(\"Correlation with Bay Reg Pred\",stats.pearsonr(test_y[\"V1\"],pd.DataFrame(clf_bay.predict(test_x))[0])[0])\n",
    "print(\"Correlation with Lasso Pred\",stats.pearsonr(test_y[\"V1\"],pd.DataFrame(clf_lasso.predict(test_x))[0])[0])\n",
    "print(\"Correlation with Enet CV \",stats.pearsonr(test_y[\"V1\"],pd.DataFrame(regr_enetcv.predict(test_x))[0])[0])\n"
   ]
  },
  {
   "cell_type": "code",
   "execution_count": 47,
   "metadata": {},
   "outputs": [],
   "source": [
    "ridge_rl = pd.DataFrame(clf_ridge.predict(test_x))\n",
    "bay_rl = pd.DataFrame(clf_bay.predict(test_x))\n",
    "enet_rl = pd.DataFrame(regr_enetcv.predict(test_x))"
   ]
  },
  {
   "cell_type": "code",
   "execution_count": 29,
   "metadata": {},
   "outputs": [
    {
     "data": {
      "text/html": [
       "<div>\n",
       "<style scoped>\n",
       "    .dataframe tbody tr th:only-of-type {\n",
       "        vertical-align: middle;\n",
       "    }\n",
       "\n",
       "    .dataframe tbody tr th {\n",
       "        vertical-align: top;\n",
       "    }\n",
       "\n",
       "    .dataframe thead th {\n",
       "        text-align: right;\n",
       "    }\n",
       "</style>\n",
       "<table border=\"1\" class=\"dataframe\">\n",
       "  <thead>\n",
       "    <tr style=\"text-align: right;\">\n",
       "      <th></th>\n",
       "      <th>V1</th>\n",
       "    </tr>\n",
       "  </thead>\n",
       "  <tbody>\n",
       "    <tr>\n",
       "      <td>0</td>\n",
       "      <td>11.757538</td>\n",
       "    </tr>\n",
       "    <tr>\n",
       "      <td>1</td>\n",
       "      <td>12.110057</td>\n",
       "    </tr>\n",
       "    <tr>\n",
       "      <td>2</td>\n",
       "      <td>8.760571</td>\n",
       "    </tr>\n",
       "    <tr>\n",
       "      <td>3</td>\n",
       "      <td>8.592814</td>\n",
       "    </tr>\n",
       "    <tr>\n",
       "      <td>4</td>\n",
       "      <td>11.492376</td>\n",
       "    </tr>\n",
       "  </tbody>\n",
       "</table>\n",
       "</div>"
      ],
      "text/plain": [
       "          V1\n",
       "0  11.757538\n",
       "1  12.110057\n",
       "2   8.760571\n",
       "3   8.592814\n",
       "4  11.492376"
      ]
     },
     "execution_count": 29,
     "metadata": {},
     "output_type": "execute_result"
    }
   ],
   "source": [
    "test_y.head()"
   ]
  },
  {
   "cell_type": "code",
   "execution_count": 51,
   "metadata": {},
   "outputs": [
    {
     "data": {
      "text/html": [
       "<div>\n",
       "<style scoped>\n",
       "    .dataframe tbody tr th:only-of-type {\n",
       "        vertical-align: middle;\n",
       "    }\n",
       "\n",
       "    .dataframe tbody tr th {\n",
       "        vertical-align: top;\n",
       "    }\n",
       "\n",
       "    .dataframe thead th {\n",
       "        text-align: right;\n",
       "    }\n",
       "</style>\n",
       "<table border=\"1\" class=\"dataframe\">\n",
       "  <thead>\n",
       "    <tr style=\"text-align: right;\">\n",
       "      <th></th>\n",
       "      <th>0</th>\n",
       "    </tr>\n",
       "  </thead>\n",
       "  <tbody>\n",
       "    <tr>\n",
       "      <td>0</td>\n",
       "      <td>7.870367</td>\n",
       "    </tr>\n",
       "    <tr>\n",
       "      <td>1</td>\n",
       "      <td>11.901022</td>\n",
       "    </tr>\n",
       "    <tr>\n",
       "      <td>2</td>\n",
       "      <td>12.613933</td>\n",
       "    </tr>\n",
       "    <tr>\n",
       "      <td>3</td>\n",
       "      <td>8.762404</td>\n",
       "    </tr>\n",
       "    <tr>\n",
       "      <td>4</td>\n",
       "      <td>13.393478</td>\n",
       "    </tr>\n",
       "  </tbody>\n",
       "</table>\n",
       "</div>"
      ],
      "text/plain": [
       "           0\n",
       "0   7.870367\n",
       "1  11.901022\n",
       "2  12.613933\n",
       "3   8.762404\n",
       "4  13.393478"
      ]
     },
     "execution_count": 51,
     "metadata": {},
     "output_type": "execute_result"
    }
   ],
   "source": [
    "ridge_rl.head()"
   ]
  },
  {
   "cell_type": "markdown",
   "metadata": {},
   "source": [
    "## Result By Old Programming Concept"
   ]
  },
  {
   "cell_type": "code",
   "execution_count": 31,
   "metadata": {},
   "outputs": [],
   "source": [
    "df_old = pd.read_csv(\"../corr_out_900\",sep=\"\\t\",nrows=900)\n",
    "df_old = df_old.iloc[:900,1:]\n",
    "y_pred_old = df_old[\"Predicted FF\"].astype(float)*100\n",
    "y_test_old = df_old[\"Standard FF\"].astype(float)*100"
   ]
  },
  {
   "cell_type": "code",
   "execution_count": 32,
   "metadata": {},
   "outputs": [
    {
     "data": {
      "text/html": [
       "<div>\n",
       "<style scoped>\n",
       "    .dataframe tbody tr th:only-of-type {\n",
       "        vertical-align: middle;\n",
       "    }\n",
       "\n",
       "    .dataframe tbody tr th {\n",
       "        vertical-align: top;\n",
       "    }\n",
       "\n",
       "    .dataframe thead th {\n",
       "        text-align: right;\n",
       "    }\n",
       "</style>\n",
       "<table border=\"1\" class=\"dataframe\">\n",
       "  <thead>\n",
       "    <tr style=\"text-align: right;\">\n",
       "      <th></th>\n",
       "      <th>0</th>\n",
       "    </tr>\n",
       "  </thead>\n",
       "  <tbody>\n",
       "    <tr>\n",
       "      <td>0</td>\n",
       "      <td>11.703654</td>\n",
       "    </tr>\n",
       "    <tr>\n",
       "      <td>1</td>\n",
       "      <td>10.747002</td>\n",
       "    </tr>\n",
       "  </tbody>\n",
       "</table>\n",
       "</div>"
      ],
      "text/plain": [
       "           0\n",
       "0  11.703654\n",
       "1  10.747002"
      ]
     },
     "execution_count": 32,
     "metadata": {},
     "output_type": "execute_result"
    }
   ],
   "source": [
    "gc_pred_y = pd.read_csv(\"ridge_pred.csv\",header = None)\n",
    "new_pred = pd.DataFrame((gc_pred_y[0]+ridge_rl[0])/2)\n",
    "gc_pred_y.head(2)"
   ]
  },
  {
   "cell_type": "code",
   "execution_count": 33,
   "metadata": {},
   "outputs": [
    {
     "name": "stdout",
     "output_type": "stream",
     "text": [
      "Co rrelation with New Model 0.9179442588031144\n",
      "Co relation with Old Model 0.9101507263893257\n",
      "\n",
      "********************R2 Score********************\n",
      "R2 of New Model  0.8042175253774206\n",
      "R2 of Old Model  0.7998711754829443\n",
      "\n",
      "********************Mean Absolute Error********************\n",
      "Mean Absolute Error of Old =  1.3368891694449778\n",
      "Mean Absolute Error of New =  1.3334588927342679\n",
      "\n",
      "******************** Mean Squared Error********************\n",
      "Mean Squared Error of Old =  3.2415920434758694\n",
      "Mean Squared Error of New =  3.1711919236026014\n"
     ]
    }
   ],
   "source": [
    "#y_test_old.head() # Is same as test_y\n",
    "#y_pred_old.head()\n",
    "print(\"Co rrelation with New Model\",stats.pearsonr(test_y[\"V1\"],new_pred[0])[0])\n",
    "print(\"Co relation with Old Model\" ,stats.pearsonr(test_y[\"V1\"],y_pred_old)[0])\n",
    "\n",
    "print(\"\\n\"+\"****\"*5+\"R2 Score\"+\"****\"*5)\n",
    "print(\"R2 of New Model \" ,r2_score(test_y, new_pred))\n",
    "print(\"R2 of Old Model \" , r2_score(test_y, y_pred_old))\n",
    "\n",
    "print(\"\\n\"+\"****\"*5+\"Mean Absolute Error\"+\"****\"*5)\n",
    "print(\"Mean Absolute Error of Old = \", mean_absolute_error(test_y,y_pred_old))\n",
    "print(\"Mean Absolute Error of New = \", mean_absolute_error(test_y,new_pred))\n",
    "\n",
    "print(\"\\n\"+\"****\"*5+\" Mean Squared Error\"+\"****\"*5)\n",
    "print(\"Mean Squared Error of Old = \",mean_squared_error(test_y,y_pred_old))\n",
    "print(\"Mean Squared Error of New = \",mean_squared_error(test_y,new_pred))"
   ]
  }
 ],
 "metadata": {
  "kernelspec": {
   "display_name": "Python 3.7.4 64-bit ('base': conda)",
   "language": "python",
   "name": "python37464bitbaseconda67970ada4b5d499c879aef5e70dc73ee"
  },
  "language_info": {
   "codemirror_mode": {
    "name": "ipython",
    "version": 3
   },
   "file_extension": ".py",
   "mimetype": "text/x-python",
   "name": "python",
   "nbconvert_exporter": "python",
   "pygments_lexer": "ipython3",
   "version": "3.7.4"
  }
 },
 "nbformat": 4,
 "nbformat_minor": 2
}
