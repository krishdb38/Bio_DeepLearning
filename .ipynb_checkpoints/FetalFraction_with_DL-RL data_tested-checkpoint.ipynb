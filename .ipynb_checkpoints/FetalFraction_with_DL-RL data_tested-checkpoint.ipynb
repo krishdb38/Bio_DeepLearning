{
 "cells": [
  {
   "cell_type": "markdown",
   "metadata": {},
   "source": [
    "### Import Required Library "
   ]
  },
  {
   "cell_type": "code",
   "execution_count": 1,
   "metadata": {},
   "outputs": [],
   "source": [
    "import pandas as pd\n",
    "import numpy as np\n",
    "from scipy import stats\n",
    "\n",
    "from sklearn.model_selection import train_test_split , cross_val_score\n",
    "from sklearn.metrics import r2_score , mean_squared_error , mean_absolute_error,accuracy_score"
   ]
  },
  {
   "cell_type": "markdown",
   "metadata": {},
   "source": [
    "## Library for Visualization"
   ]
  },
  {
   "cell_type": "code",
   "execution_count": 2,
   "metadata": {},
   "outputs": [],
   "source": [
    "#import seaborn as sns\n",
    "#from matplotlib import pyplot as plt\n",
    "#sns.set_style(\"whitegrid\")\n",
    "#%matplotlib inline"
   ]
  },
  {
   "cell_type": "markdown",
   "metadata": {},
   "source": [
    "#### Filter all the Warnings"
   ]
  },
  {
   "cell_type": "code",
   "execution_count": 3,
   "metadata": {},
   "outputs": [],
   "source": [
    "import warnings\n",
    "warnings.filterwarnings(\"ignore\")"
   ]
  },
  {
   "cell_type": "markdown",
   "metadata": {},
   "source": [
    "## Read X and Y Parameter"
   ]
  },
  {
   "cell_type": "code",
   "execution_count": 4,
   "metadata": {},
   "outputs": [],
   "source": [
    "#x = pd.read_csv(\"../tsrl10000.csv\")\n",
    "#x = x.iloc[:,1:]\n",
    "#\n",
    "#y = pd.read_csv(\"../srlbininfo_10000\",sep =\"\\t\",header =None )\n",
    "#\n",
    "#y = pd.DataFrame(y.iloc[:,1])\n",
    "#y.columns = [\"RL\"]\n",
    "#\n",
    "#df = pd.concat([y,x],axis =1)\n",
    "#\n",
    "#df = df[df.RL < 25] #Ignore values more than 25\n",
    "#y = pd.DataFrame(df.iloc[:,0])\n",
    "#x = df.iloc[:,1:]"
   ]
  },
  {
   "cell_type": "code",
   "execution_count": 5,
   "metadata": {},
   "outputs": [],
   "source": [
    "#df.to_csv(\"../RL_df_10000.csv\",index = False) #When Memory Problem Just Load the data"
   ]
  },
  {
   "cell_type": "markdown",
   "metadata": {},
   "source": [
    "## check nrows for fast Processing"
   ]
  },
  {
   "cell_type": "code",
   "execution_count": 6,
   "metadata": {},
   "outputs": [],
   "source": [
    "df = pd.read_csv(\"../RL_df_10000.csv\",nrows= 5000)\n",
    "y = pd.DataFrame(df.iloc[:,0])\n",
    "x = df.iloc[:,1:]"
   ]
  },
  {
   "cell_type": "code",
   "execution_count": 7,
   "metadata": {},
   "outputs": [],
   "source": [
    "#print(x.shape, y.shape)\n",
    "#display(x.head(2))\n",
    "#display(y.head(2))"
   ]
  },
  {
   "cell_type": "markdown",
   "metadata": {},
   "source": [
    "## Split the data to training and Testing set"
   ]
  },
  {
   "cell_type": "code",
   "execution_count": 8,
   "metadata": {},
   "outputs": [
    {
     "data": {
      "text/plain": [
       "((4000, 3880), (4000, 1), (1000, 3880), (1000, 1))"
      ]
     },
     "execution_count": 8,
     "metadata": {},
     "output_type": "execute_result"
    }
   ],
   "source": [
    "x_train,x_test,y_train, y_test= train_test_split(x,y,test_size=0.2)\n",
    "x_train.shape,y_train.shape, x_test.shape , y_test.shape"
   ]
  },
  {
   "cell_type": "markdown",
   "metadata": {},
   "source": [
    "## Linear Regression Starts Here"
   ]
  },
  {
   "cell_type": "markdown",
   "metadata": {},
   "source": [
    "### Classical Linear Regressors\n",
    "###### We used Following 4 Regression Methods First"
   ]
  },
  {
   "cell_type": "markdown",
   "metadata": {},
   "source": [
    "1. **LinearRegression**([…])-->Ordinary least squares Linear Regression. <br>\n",
    "2. **Ridge**([alpha, fit_intercept, …]) -->Linear least squares with l2 regularization.<br>\n",
    "3. **RidgeCV**([alphas, …]) -->Ridge regression with built-in cross-validation.<br>\n",
    "4. **SGDRegressor**([loss, penalty, …]) -->Linear model fitted by minimizing a regularized empirical loss with SGD<br>"
   ]
  },
  {
   "cell_type": "markdown",
   "metadata": {},
   "source": [
    "### 1.1 LinearRegression()\n",
    "class sklearn.linear_model.LinearRegression(fit_intercept=True, normalize=False, copy_X=True, n_jobs=None)"
   ]
  },
  {
   "cell_type": "code",
   "execution_count": 9,
   "metadata": {},
   "outputs": [],
   "source": [
    "from sklearn.linear_model import LinearRegression"
   ]
  },
  {
   "cell_type": "code",
   "execution_count": 10,
   "metadata": {},
   "outputs": [],
   "source": [
    "name = \"Linear _Regression--> \"\n",
    "lr = LinearRegression().fit(x_train,y_train)\n",
    "y_pred = pd.DataFrame(lr.predict(x_test))"
   ]
  },
  {
   "cell_type": "code",
   "execution_count": 11,
   "metadata": {},
   "outputs": [
    {
     "name": "stdout",
     "output_type": "stream",
     "text": [
      "Linear _Regression-->  Coefficient  [[0.43481714 0.52455927 1.13778602 ... 0.         0.         0.        ]]\n",
      "Linear _Regression-->  Intercept  [-2324.17115576] \n",
      "\n",
      "********************Accuracy Test Model Fitting ********************\n",
      "Linear _Regression--> Score for train data set : 0.9520917236660364\n",
      "Linear _Regression--> Score for test data Set -0.11785888504221598\n",
      "Linear _Regression--> Score for Predictecd data Set 1.0\n",
      "\n",
      "********************R2 Score********************\n",
      "Linear _Regression--> R2 Score for test is =  -0.11785888504221598\n",
      "\n",
      "********************Mean Absolute Error********************\n",
      "Linear _Regression--> Mean Absolute Error of Test =  3.2402279354773103\n",
      "Linear _Regression--> Mean Absolute Error on Train 0.6802735033438837\n",
      "\n",
      "******************** Mean Squared Error********************\n",
      "Linear _Regression--> Mean Squared Error of Test =  16.502500619862897\n",
      "Linear _Regression--> Mean Squared Error on Train =  0.7497819391198604\n",
      "\n",
      "******************** Co Relation********************\n",
      "Linear _Regression--> Correlation Test Data  0.6560895654385248\n",
      "Linear _Regression--> Correlation Original Data  0.9757518762230825\n"
     ]
    }
   ],
   "source": [
    "print(name +\" Coefficient \", lr.coef_) \n",
    "print(name + \" Intercept \" , lr.intercept_,\"\\n\") ##\n",
    "print(\"****\"*5+\"Accuracy Test Model Fitting \"+\"****\"*5)\n",
    "print(name + \"Score for train data set :\",lr.score(x_train,y_train))\n",
    "print(name + \"Score for test data Set\",lr.score(x_test,y_test))\n",
    "\n",
    "print(name + \"Score for Predictecd data Set\",lr.score(x_test,y_pred)) ##\n",
    "    \n",
    "print(\"\\n\"+\"****\"*5+\"R2 Score\"+\"****\"*5)\n",
    "print(name + \"R2 Score for test is = \", r2_score(y_test,y_pred)) ##\n",
    "    \n",
    "print(\"\\n\"+\"****\"*5+\"Mean Absolute Error\"+\"****\"*5)\n",
    "print(name+ \"Mean Absolute Error of Test = \", mean_absolute_error(y_test,y_pred)) ##\n",
    "print(name +\"Mean Absolute Error on Train\",mean_absolute_error(y_train,pd.DataFrame(lr.predict(x_train))))\n",
    "    \n",
    "print(\"\\n\"+\"****\"*5+\" Mean Squared Error\"+\"****\"*5)\n",
    "print(name + \"Mean Squared Error of Test = \",mean_squared_error(y_test,y_pred)) ##\n",
    "print(name+\"Mean Squared Error on Train = \",mean_squared_error(y_train,pd.DataFrame(lr.predict(x_train))))\n",
    "    \n",
    "print(\"\\n\"+\"****\"*5+\" Co Relation\"+\"****\"*5)\n",
    "print(name + \"Correlation Test Data \",stats.pearsonr(y_test[\"RL\"],y_pred[0])[0])\n",
    "print(name + \"Correlation Original Data \",stats.pearsonr(y_train[\"RL\"],pd.DataFrame(lr.predict(x_train))[0])[0])"
   ]
  },
  {
   "cell_type": "markdown",
   "metadata": {},
   "source": [
    "#### This is for Visualizing"
   ]
  },
  {
   "cell_type": "code",
   "execution_count": 12,
   "metadata": {},
   "outputs": [],
   "source": [
    "#y_pred = lr.predict(x_train)\n",
    "#fig,ax = plt.subplots()\n",
    "#ax.scatter(y_train,y_pred,edgecolor=(\"r\"))\n",
    "#ax.plot([y_train.min(),y_train.max()],[y_train.min(),y_train.max()],\"b\",lw=2)\n",
    "#ax.set_xlabel(\"Measured\")\n",
    "#ax.set_ylabel(\"Predicted\")\n",
    "#plt.show()\n",
    "#\n",
    "#fit(self,X,y[sample_weight])\n",
    "#get_params(self[,deep])\n",
    "#predict(self,X)\n",
    "#score(self,X,Y[,sample_weight])\n",
    "#set_params(self,\\)"
   ]
  },
  {
   "cell_type": "code",
   "execution_count": 13,
   "metadata": {
    "scrolled": true
   },
   "outputs": [],
   "source": [
    "#y_pred = lr.predict(x_train)\n",
    "#fig,ax = plt.subplots()\n",
    "#ax.scatter(y_train,y_pred,edgecolor=(\"r\"))\n",
    "##ax.plot([y_train.min(),y_train.max()],[y_train.min(),y_train.max()],\"b\",lw=2)\n",
    "#ax.set_xlabel(\"Measured\")\n",
    "#ax.set_ylabel(\"Predicted\")\n",
    "#plt.show()"
   ]
  },
  {
   "cell_type": "markdown",
   "metadata": {},
   "source": [
    "## Feature Scalling"
   ]
  },
  {
   "cell_type": "code",
   "execution_count": 14,
   "metadata": {},
   "outputs": [],
   "source": [
    "#from sklearn.preprocessing import StandardScaler\n",
    "#scaler = StandardScaler()\n",
    "#\n",
    "#print(scaler.fit(x_train))\n",
    "#print(\"Scaler Mean\",scaler.mean_)\n",
    "#print(\"Scaler Variance\",scaler.var_)\n",
    "#\n",
    "#scaled_x_train = scaler.transform(x_train)\n",
    "#scaled_x_test = scaler.transform(x_test)\n",
    "#\n",
    "#slr = linear_model.LinearRegression()\n",
    "#slr.fit(scaled_x_train,y_train)\n",
    "#\n"
   ]
  },
  {
   "cell_type": "code",
   "execution_count": 15,
   "metadata": {},
   "outputs": [],
   "source": [
    "#print(\"Coeff_\",slr.coef_)\n",
    "#print(\"intercept_\",slr.intercept_)\n",
    "#print(\"R2 Score for train Set:{:.3f}\".format(slr.score(scaled_x_train,y_train)))\n",
    "#print(\"R2 Score for test set :{:.3f}\".format(slr.score(scaled_x_test,y_test)))"
   ]
  },
  {
   "cell_type": "markdown",
   "metadata": {},
   "source": [
    "###### polynomial Features"
   ]
  },
  {
   "cell_type": "code",
   "execution_count": 16,
   "metadata": {},
   "outputs": [],
   "source": [
    "#from sklearn.preprocessing import PolynomialFeatures\n",
    "#poly = PolynomialFeatures(2)\n",
    "#x_train_poly = poly.fit_transform(x_train)\n",
    "#x_test_poly = poly.transform(x_test)\n",
    "#print(x_train.shape , x_train_poly.shape)"
   ]
  },
  {
   "cell_type": "code",
   "execution_count": 17,
   "metadata": {},
   "outputs": [],
   "source": [
    "# For this big Data Memory Error Occured"
   ]
  },
  {
   "cell_type": "markdown",
   "metadata": {},
   "source": [
    "# Regularization"
   ]
  },
  {
   "cell_type": "markdown",
   "metadata": {},
   "source": [
    "With as many as 306 features in the model it is natural for the model to get quite complex. The model sticks too much to the data and the model has probably learned the background noise which results in high variance while being fit, which leads to **Overfitting**. This results in poor prediction and generalization power when applied o data outside the training set. To overcome this problem **regularization technique** is used. \n",
    "\n",
    "To find the best model, the common method in machine learning is to define a loss or cost function that describes how well the model fits the data. The goal is to find the model that minimzes this loss function. The idea is to penalize this loss function by adding a complexity term that would give a bigger loss for more complex models. \n",
    "\n",
    "**Regularization** allows to shrink the coefficients to zero by introducing a tuning parameter **'lambda'** or **'alpha'**. This ensures:\n",
    "- Shrinking of parameters, therefore it is mostly used to prevent multicollinearity.\n",
    "- Reduces the model complexity by coefficient shrinkage."
   ]
  },
  {
   "cell_type": "markdown",
   "metadata": {},
   "source": [
    "The two popular methods used to regularize parameters are:\n",
    "- Ridge Regression\n",
    "- Lasso Regression\n",
    "\n",
    "**Ridge Regression:** Ridge regression uses L2 penalty to penalize coefficients. L2 penalty is the penalty equivalent to **square of the magnitude of coefficients** \n",
    "\n",
    "**Lasso Regression:** Lasso regression uses L1 penalty which is the **absolute value of the magnitude of coefficients**\n",
    "\n",
    "Let us apply Ridge and Lasso models to our data"
   ]
  },
  {
   "cell_type": "markdown",
   "metadata": {},
   "source": [
    "## 1.2 Ridge() Regression"
   ]
  },
  {
   "cell_type": "markdown",
   "metadata": {},
   "source": [
    "`class sklearn.linear_model.Ridge(alpha=1.0, fit_intercept=True, normalize=False, copy_X=True, max_iter=None, tol=0.001, solver='auto', random_state=None)` **Default**"
   ]
  },
  {
   "cell_type": "markdown",
   "metadata": {},
   "source": [
    "#### ||y - Xw||^2_2 + alpha * ||w||^2_2 Objective Function"
   ]
  },
  {
   "cell_type": "markdown",
   "metadata": {},
   "source": [
    "##### Methods\n",
    "**fit**(self, X, y[, sample_weight])-->Fit Ridge regression model.<br>\n",
    "**get_params**(self[, deep])--> Get parameters for this estimator.<br>\n",
    "**predict**(self, X)--> Predict using the linear model.<br>\n",
    "**score**(self, X, y[, sample_weight])--> Return the coefficient of determination R^2 of the prediction.<br>\n",
    "**set_params**(self, \\*\\*params) --> Set the parameters of this estimator."
   ]
  },
  {
   "cell_type": "code",
   "execution_count": 18,
   "metadata": {},
   "outputs": [],
   "source": [
    "name = \"Ridge -->\"\n",
    "from sklearn.linear_model import Ridge\n",
    "clf_ridge = Ridge(alpha=0.1)\n",
    "clf_ridge.fit(x_test,y_test)\n",
    "y_pred_ridge = pd.DataFrame(clf_ridge.predict(x_test))"
   ]
  },
  {
   "cell_type": "code",
   "execution_count": 19,
   "metadata": {},
   "outputs": [
    {
     "name": "stdout",
     "output_type": "stream",
     "text": [
      "Ridge --> Coefficient  [[ 0.49849779 -0.01724076  0.18130538 ...  0.          0.\n",
      "   0.        ]]\n",
      "Ridge --> Intercept  [-1082.69891601] \n",
      "\n",
      "********************Accuracy Test Model Fitting ********************\n",
      "Ridge -->Score for train data set : 0.5714956079622555\n",
      "Ridge -->Score for test data Set 0.9997214527008327\n",
      "Ridge -->Score for Predictecd data Set 1.0\n",
      "\n",
      "********************R2 Score********************\n",
      "Ridge -->R2 Score for test is =  0.9997214527008327\n",
      "\n",
      "********************Mean Absolute Error********************\n",
      "Ridge -->Mean Absolute Error of Test =  0.046443464972737276\n",
      "Ridge -->Mean Absolute Error on Train 2.0188905789224116\n",
      "\n",
      "******************** Mean Squared Error********************\n",
      "Ridge -->Mean Squared Error of Test =  0.004112081621997958\n",
      "Ridge -->Mean Squared Error on Train =  6.706249495260358\n",
      "\n",
      "******************** Co Relation********************\n",
      "Ridge -->Correlation Test Data  0.9999123306673379\n",
      "Ridge -->Correlation Original Data  0.7564712805215119\n"
     ]
    }
   ],
   "source": [
    "print(name +\" Coefficient \", clf_ridge.coef_) \n",
    "print(name + \" Intercept \" , clf_ridge.intercept_,\"\\n\") ##\n",
    "print(\"****\"*5+\"Accuracy Test Model Fitting \"+\"****\"*5)\n",
    "print(name + \"Score for train data set :\",clf_ridge.score(x_train,y_train))\n",
    "    #Return the coefficient of determination R^2 of the prediction.\n",
    "    \n",
    "print(name + \"Score for test data Set\",clf_ridge.score(x_test,y_test))\n",
    "\n",
    "print(name + \"Score for Predictecd data Set\",clf_ridge.score(x_test,y_pred_ridge)) ##\n",
    "    \n",
    "print(\"\\n\"+\"****\"*5+\"R2 Score\"+\"****\"*5)\n",
    "print(name + \"R2 Score for test is = \", r2_score(y_test, y_pred_ridge)) ##\n",
    "    \n",
    "print(\"\\n\"+\"****\"*5+\"Mean Absolute Error\"+\"****\"*5)\n",
    "print(name+ \"Mean Absolute Error of Test = \", mean_absolute_error(y_test,y_pred_ridge)) ##\n",
    "print(name +\"Mean Absolute Error on Train\",mean_absolute_error(y_train,pd.DataFrame(clf_ridge.predict(x_train))))\n",
    "    \n",
    "print(\"\\n\"+\"****\"*5+\" Mean Squared Error\"+\"****\"*5)\n",
    "print(name + \"Mean Squared Error of Test = \",mean_squared_error(y_test,y_pred_ridge)) ##\n",
    "print(name+\"Mean Squared Error on Train = \",mean_squared_error(y_train,pd.DataFrame(clf_ridge.predict(x_train))))\n",
    "    \n",
    "print(\"\\n\"+\"****\"*5+\" Co Relation\"+\"****\"*5)\n",
    "print(name + \"Correlation Test Data \",stats.pearsonr(y_test[\"RL\"],y_pred_ridge[0])[0])\n",
    "print(name + \"Correlation Original Data \",stats.pearsonr(y_train[\"RL\"],pd.DataFrame(clf_ridge.predict(x_train))[0])[0])\n",
    "    "
   ]
  },
  {
   "cell_type": "markdown",
   "metadata": {},
   "source": [
    "## 1.3 RidgeCV\n",
    "\n",
    "`class sklearn.linear_model.RidgeCV(alphas=(0.1, 1.0, 10.0), fit_intercept=True, normalize=False, scoring=None, cv=None, gcv_mode=None, store_cv_values=False)`\n",
    "\n",
    "**fit**(self, X, y[, sample_weight]) --> Fit Ridge regression model with cv. <br>\n",
    "\n",
    "**get_params**(self[, deep])--> Get parameters for this estimator. <br>\n",
    "\n",
    "**predict**(self, X)--> Predict using the linear model.<br>\n",
    "\n",
    "**score**(self, X, y[, sample_weight]) --> Return the coefficient of determination R^2 of the prediction.<br>\n",
    "\n",
    "**set_params**(self, \\*\\*params) --> Set the parameters of this estimator.<br>"
   ]
  },
  {
   "cell_type": "code",
   "execution_count": 20,
   "metadata": {},
   "outputs": [],
   "source": [
    "# Import Library\n",
    "from sklearn.linear_model import RidgeCV\n",
    "\n",
    "name = \"RidgeCV --> \"\n",
    "#Object Creation\n",
    "clf_ridgecv = RidgeCV(alphas= [1e-3, 1e-2, 1e-1, 1]).fit(x_train , y_train)\n",
    "y_pred_ridgecv = pd.DataFrame(clf_ridgecv.predict(x_test))"
   ]
  },
  {
   "cell_type": "code",
   "execution_count": 21,
   "metadata": {},
   "outputs": [
    {
     "name": "stdout",
     "output_type": "stream",
     "text": [
      "RidgeCV -->  Coefficient  [[-0.17896925  1.04678031  1.03333482 ...  0.          0.\n",
      "   0.        ]]\n",
      "RidgeCV -->  Intercept  [-1932.88110735] \n",
      "\n",
      "********************Accuracy Test Model Fitting ********************\n",
      "RidgeCV --> Score for train data set : 0.9315640159198294\n",
      "RidgeCV --> Score for test data Set 0.6166317815723881\n",
      "RidgeCV --> Score for Predictecd data Set 1.0\n",
      "\n",
      "********************R2 Score********************\n",
      "RidgeCV --> R2 Score for test is =  0.6166317815723881\n",
      "\n",
      "********************Mean Absolute Error********************\n",
      "RidgeCV --> Mean Absolute Error of Test =  1.8997632360912513\n",
      "RidgeCV --> Mean Absolute Error on Train 0.7993589431629466\n",
      "\n",
      "******************** Mean Squared Error********************\n",
      "RidgeCV --> Mean Squared Error of Test =  5.659510647444986\n",
      "RidgeCV --> Mean Squared Error on Train =  1.0710480270990166\n",
      "\n",
      "******************** Co Relation********************\n",
      "RidgeCV --> Correlation Test Data  0.8122673664392612\n",
      "RidgeCV --> Correlation Original Data  0.9662351853793343\n"
     ]
    }
   ],
   "source": [
    "print(name +\" Coefficient \", clf_ridgecv.coef_) \n",
    "print(name + \" Intercept \" , clf_ridgecv.intercept_,\"\\n\") ##\n",
    "print(\"****\"*5+\"Accuracy Test Model Fitting \"+\"****\"*5)\n",
    "print(name + \"Score for train data set :\",clf_ridgecv.score(x_train,y_train))\n",
    "#Return the coefficient of determination R^2 of the prediction.\n",
    "print(name + \"Score for test data Set\",clf_ridgecv.score(x_test,y_test))\n",
    "print(name + \"Score for Predictecd data Set\",clf_ridgecv.score(x_test,y_pred_ridgecv)) ##\n",
    "print(\"\\n\"+\"****\"*5+\"R2 Score\"+\"****\"*5)\n",
    "print(name + \"R2 Score for test is = \", r2_score(y_test, y_pred_ridgecv)) ##\n",
    "print(\"\\n\"+\"****\"*5+\"Mean Absolute Error\"+\"****\"*5)\n",
    "print(name+ \"Mean Absolute Error of Test = \", mean_absolute_error(y_test,y_pred_ridgecv)) ##\n",
    "print(name +\"Mean Absolute Error on Train\",mean_absolute_error(y_train,pd.DataFrame(clf_ridgecv.predict(x_train))))\n",
    "print(\"\\n\"+\"****\"*5+\" Mean Squared Error\"+\"****\"*5)\n",
    "print(name + \"Mean Squared Error of Test = \",mean_squared_error(y_test,y_pred_ridgecv)) ##\n",
    "print(name+\"Mean Squared Error on Train = \",mean_squared_error(y_train,pd.DataFrame(clf_ridgecv.predict(x_train))))\n",
    "print(\"\\n\"+\"****\"*5+\" Co Relation\"+\"****\"*5)\n",
    "print(name + \"Correlation Test Data \",stats.pearsonr(y_test[\"RL\"],y_pred_ridgecv[0])[0])\n",
    "print(name + \"Correlation Original Data \",stats.pearsonr(y_train[\"RL\"],pd.DataFrame(clf_ridgecv.predict(x_train))[0])[0])"
   ]
  },
  {
   "cell_type": "markdown",
   "metadata": {},
   "source": [
    "### 1.4 SGDRegressor()"
   ]
  },
  {
   "cell_type": "markdown",
   "metadata": {},
   "source": [
    "`class sklearn.linear_model.SGDRegressor(loss='squared_loss', penalty='l2', alpha=0.0001, l1_ratio=0.15, fit_intercept=True, max_iter=1000, tol=0.001, shuffle=True, verbose=0, epsilon=0.1, random_state=None, learning_rate='invscaling', eta0=0.01, power_t=0.25, early_stopping=False, validation_fraction=0.1, n_iter_no_change=5, warm_start=False, average=False)`"
   ]
  },
  {
   "cell_type": "markdown",
   "metadata": {},
   "source": [
    "#### Methods\n",
    "\n",
    "**densify**(self) --> Convert coefficient matrix to dense array format.<br>\n",
    "\n",
    "**fit**(self, X, y[, coef_init, intercept_init, …])--> Fit linear model with Stochastic Gradient Descent.<br>\n",
    "\n",
    "**get_params**(self[, deep])--> Get parameters for this estimator.<br>\n",
    "\n",
    "**partial_fit**(self, X, y[, sample_weight])--> Perform one epoch of stochastic gradient descent on given samples.<br>\n",
    "\n",
    "**predict**(self, X) --> Predict using the linear model<br>\n",
    "\n",
    "**score**(self, X, y[, sample_weight])--> Return the coefficient of determination R^2 of the prediction.<br>\n",
    "\n",
    "**set_params**(self, \\*\\*kwargs)--> Set and validate the parameters of estimator.<br>\n",
    "\n",
    "**sparsify**(self) --> Convert coefficient matrix to sparse format.<br>"
   ]
  },
  {
   "cell_type": "code",
   "execution_count": 22,
   "metadata": {},
   "outputs": [],
   "source": [
    "from sklearn.linear_model import SGDRegressor\n",
    "name = \"SGDRegressor-->\"\n",
    "\n",
    "clf_sgd = SGDRegressor(max_iter = 50000, tol = 1e-3)\n",
    "clf_sgd.fit(x_train, y_train)\n",
    "\n",
    "y_pred_sgd =pd.DataFrame(clf_sgd.predict(x_test))"
   ]
  },
  {
   "cell_type": "code",
   "execution_count": 23,
   "metadata": {},
   "outputs": [
    {
     "name": "stdout",
     "output_type": "stream",
     "text": [
      "SGDRegressor--> Coefficient  [1.08912893e+09 2.45876247e+09 1.41971704e+09 ... 0.00000000e+00\n",
      " 0.00000000e+00 0.00000000e+00]\n",
      "SGDRegressor--> Intercept  [-3.08069852e+08] \n",
      "\n",
      "********************Accuracy Test Model Fitting ********************\n",
      "SGDRegressor-->Score for train data set : -1.3855607770804103e+19\n",
      "SGDRegressor-->Score for test data Set -1.3964805363153322e+19\n",
      "SGDRegressor-->Score for Predictecd data Set 1.0\n",
      "\n",
      "********************R2 Score********************\n",
      "SGDRegressor-->R2 Score for test is =  -1.3964805363153322e+19\n",
      "\n",
      "********************Mean Absolute Error********************\n",
      "SGDRegressor-->Mean Absolute Error of Test =  11584494315.296942\n",
      "SGDRegressor-->Mean Absolute Error on Train 11705880945.978876\n",
      "\n",
      "******************** Mean Squared Error********************\n",
      "SGDRegressor-->Mean Squared Error of Test =  2.0615679872061787e+20\n",
      "SGDRegressor-->Mean Squared Error on Train =  2.168452980787553e+20\n",
      "\n",
      "******************** Co Relation********************\n",
      "SGDRegressor-->Correlation Test Data  0.038994586698729586\n",
      "SGDRegressor-->Correlation Original Data  0.0016596949069175478\n"
     ]
    }
   ],
   "source": [
    "print(name +\" Coefficient \", clf_sgd.coef_) \n",
    "print(name + \" Intercept \" , clf_sgd.intercept_,\"\\n\") ##\n",
    "print(\"****\"*5+\"Accuracy Test Model Fitting \"+\"****\"*5)\n",
    "print(name + \"Score for train data set :\",clf_sgd.score(x_train,y_train))\n",
    "#Return the coefficient of determination R^2 of the prediction.\n",
    "print(name + \"Score for test data Set\",clf_sgd.score(x_test,y_test))\n",
    "print(name + \"Score for Predictecd data Set\",clf_sgd.score(x_test,y_pred_sgd)) ##\n",
    "print(\"\\n\"+\"****\"*5+\"R2 Score\"+\"****\"*5)\n",
    "print(name + \"R2 Score for test is = \", r2_score(y_test,y_pred_sgd)) ##\n",
    "print(\"\\n\"+\"****\"*5+\"Mean Absolute Error\"+\"****\"*5)\n",
    "print(name+ \"Mean Absolute Error of Test = \", mean_absolute_error(y_test,y_pred_sgd)) ##\n",
    "print(name +\"Mean Absolute Error on Train\",mean_absolute_error(y_train,pd.DataFrame(clf_sgd.predict(x_train))))\n",
    "print(\"\\n\"+\"****\"*5+\" Mean Squared Error\"+\"****\"*5)\n",
    "print(name + \"Mean Squared Error of Test = \",mean_squared_error(y_test,y_pred_sgd)) ##\n",
    "print(name+\"Mean Squared Error on Train = \",mean_squared_error(y_train,pd.DataFrame(clf_sgd.predict(x_train))))\n",
    "print(\"\\n\"+\"****\"*5+\" Co Relation\"+\"****\"*5)\n",
    "print(name + \"Correlation Test Data \",stats.pearsonr(y_test[\"RL\"],y_pred_sgd[0])[0])\n",
    "print(name + \"Correlation Original Data \",stats.pearsonr(y_train[\"RL\"],pd.DataFrame(clf_sgd.predict(x_train))[0])[0])"
   ]
  },
  {
   "cell_type": "markdown",
   "metadata": {},
   "source": [
    "### The Above Method is Use less"
   ]
  },
  {
   "cell_type": "markdown",
   "metadata": {},
   "source": [
    "## ********************** Part 2 **************************************"
   ]
  },
  {
   "cell_type": "markdown",
   "metadata": {},
   "source": [
    "### Regressors with variable selection"
   ]
  },
  {
   "cell_type": "markdown",
   "metadata": {},
   "source": [
    "\n",
    "**1.ElasticNet**([alpha, l1_ratio, …]) \n",
    "Linear regression with combined L1 and L2 priors as regularizer.<br>\n",
    "**2.ElasticNetCV**([l1_ratio, eps, …])\n",
    "Elastic Net model with iterative fitting along a regularization path.<br>\n",
    "**3.Lars**([fit_intercept, verbose, …])\n",
    "Least Angle Regression model a.k.a.<br>\n",
    "**4.LarsCV**([fit_intercept, …])\n",
    "Cross-validated Least Angle Regression model.<br>\n",
    "**5.Lasso**([alpha, fit_intercept, …])\n",
    "Linear Model trained with L1 prior as regularizer (aka the Lasso)<br>\n",
    "**6.LassoCV**([eps, n_alphas, …])\n",
    "Lasso linear model with iterative fitting along a regularization path.<br>\n",
    "**7.LassoLars**([alpha, …])\n",
    "Lasso model fit with Least Angle Regression a.k.a.<br>\n",
    "**8.LassoLarsCV**([fit_intercept, …])\n",
    "Cross-validated Lasso, using the LARS algorithm.<br>\n",
    "**9.LassoLarsIC**([criterion, …])\n",
    "Lasso model fit with Lars using BIC or AIC for model selection<br>\n",
    "**10.OrthogonalMatchingPursuit**([…])\n",
    "Orthogonal Matching Pursuit model (OMP) <br>\n",
    "**11.OrthogonalMatchingPursuitCV**([…])\n",
    "Cross-validated Orthogonal Matching Pursuit model (OMP).<br>"
   ]
  },
  {
   "cell_type": "markdown",
   "metadata": {},
   "source": [
    "### 2.1 ElasticNet"
   ]
  },
  {
   "cell_type": "markdown",
   "metadata": {},
   "source": [
    "class sklearn.linear_model.**ElasticNet**(alpha=1.0, l1_ratio=0.5, fit_intercept=True, normalize=False, precompute=False, max_iter=1000, copy_X=True, tol=0.0001, warm_start=False, positive=False, random_state=None, selection='cyclic')"
   ]
  },
  {
   "cell_type": "markdown",
   "metadata": {},
   "source": [
    "##### Methods\n",
    "\n",
    "**fit**(self, X, y[, check_input]) --> Fit model with coordinate descent.\n",
    "\n",
    "**get_params**(self[, deep])--> Get parameters for this estimator.\n",
    "\n",
    "**path**(X, y[, l1_ratio, eps, n_alphas, …])--> Compute elastic net path with coordinate descent.\n",
    "\n",
    "**predict**(self, X)Predict using the linear model.\n",
    "\n",
    "**score**(self, X, y[, sample_weight]) --> Return the coefficient of determination R^2 of the prediction.\n",
    "\n",
    "**set_params**(self, \\*\\*params)--> Set the parameters of this estimator."
   ]
  },
  {
   "cell_type": "code",
   "execution_count": 24,
   "metadata": {},
   "outputs": [],
   "source": [
    "from sklearn.linear_model import ElasticNet\n",
    "name = \"Elastic net--> \"\n",
    "regr_elasticNet = ElasticNet(alpha=0.01,l1_ratio=10,max_iter=50000,random_state=0)\n",
    "regr_elasticNet.fit(x_train , y_train)\n",
    "\n",
    "y_pred_elasticNet = pd.DataFrame(regr_elasticNet.predict(x_test))"
   ]
  },
  {
   "cell_type": "code",
   "execution_count": 25,
   "metadata": {},
   "outputs": [
    {
     "name": "stdout",
     "output_type": "stream",
     "text": [
      "Elastic net-->  Coefficient  [0. 0. 0. ... 0. 0. 0.]\n",
      "Elastic net-->  Intercept  [10.49521861] \n",
      "\n",
      "********************Accuracy Test Model Fitting ********************\n",
      "Elastic net--> Score for train data set : 0.0\n",
      "Elastic net--> Score for test data Set -0.005666605660469504\n",
      "Elastic net--> Score for Predictecd data Set 1.0\n",
      "\n",
      "********************R2 Score********************\n",
      "Elastic net--> R2 Score for test is =  -1.3964805363153322e+19\n",
      "\n",
      "********************Mean Absolute Error********************\n",
      "Elastic net--> Mean Absolute Error of Test =  3.119762038105483\n",
      "Elastic net--> Mean Absolute Error on Train 3.1605390329181464\n",
      "\n",
      "******************** Mean Squared Error********************\n",
      "Elastic net--> Mean Squared Error of Test =  14.846251172982864\n",
      "Elastic net--> Mean Squared Error on Train =  15.65036349655348\n",
      "\n",
      "******************** Co Relation********************\n",
      "Elastic net--> Correlation Test Data  nan\n",
      "Elastic net--> Correlation Original Data  nan\n"
     ]
    }
   ],
   "source": [
    "print(name +\" Coefficient \", regr_elasticNet.coef_) \n",
    "print(name + \" Intercept \" , regr_elasticNet.intercept_,\"\\n\") ##\n",
    "print(\"****\"*5+\"Accuracy Test Model Fitting \"+\"****\"*5)\n",
    "print(name + \"Score for train data set :\",regr_elasticNet.score(x_train,y_train))\n",
    "#Return the coefficient of determination R^2 of the prediction.\n",
    "print(name + \"Score for test data Set\",regr_elasticNet.score(x_test,y_test))\n",
    "print(name + \"Score for Predictecd data Set\",regr_elasticNet.score(x_test,y_pred_elasticNet)) ##\n",
    "print(\"\\n\"+\"****\"*5+\"R2 Score\"+\"****\"*5)\n",
    "print(name + \"R2 Score for test is = \", r2_score(y_test,y_pred_sgd)) ##\n",
    "print(\"\\n\"+\"****\"*5+\"Mean Absolute Error\"+\"****\"*5)\n",
    "print(name+ \"Mean Absolute Error of Test = \", mean_absolute_error(y_test,y_pred_elasticNet)) ##\n",
    "print(name +\"Mean Absolute Error on Train\",mean_absolute_error(y_train,pd.DataFrame(regr_elasticNet.predict(x_train))))\n",
    "print(\"\\n\"+\"****\"*5+\" Mean Squared Error\"+\"****\"*5)\n",
    "print(name + \"Mean Squared Error of Test = \",mean_squared_error(y_test,y_pred_elasticNet)) ##\n",
    "print(name+\"Mean Squared Error on Train = \",mean_squared_error(y_train,pd.DataFrame(regr_elasticNet.predict(x_train))))\n",
    "print(\"\\n\"+\"****\"*5+\" Co Relation\"+\"****\"*5)\n",
    "print(name + \"Correlation Test Data \",stats.pearsonr(y_test[\"RL\"],y_pred_elasticNet[0])[0])\n",
    "print(name + \"Correlation Original Data \",stats.pearsonr(y_train[\"RL\"],pd.DataFrame(regr_elasticNet.predict(x_train))[0])[0])"
   ]
  },
  {
   "cell_type": "markdown",
   "metadata": {},
   "source": [
    "### 2.2 ElasticnetCV()   ---------->> **glmnet** in R<<-----------"
   ]
  },
  {
   "cell_type": "markdown",
   "metadata": {},
   "source": [
    "class sklearn.linear_model.**ElasticNetCV**(l1_ratio=0.5, eps=0.001, n_alphas=100, alphas=None, fit_intercept=True, normalize=False, precompute='auto', max_iter=1000, tol=0.0001, cv=None, copy_X=True, verbose=0, n_jobs=None, positive=False, random_state=None, selection='cyclic')<br>\n",
    "`Elastic Net model with iterative fitting along a regularization path`"
   ]
  },
  {
   "cell_type": "code",
   "execution_count": 26,
   "metadata": {},
   "outputs": [],
   "source": [
    "from sklearn.linear_model import ElasticNetCV\n",
    "name = \"ElasticnetCV --> \"\n",
    "regr_enetcv = ElasticNetCV(cv=10, random_state=0)\n",
    "regr_enetcv.fit(x_train,y_train)\n",
    "\n",
    "y_pred_elasticnetcv =pd.DataFrame(regr_enetcv.predict(x_test))"
   ]
  },
  {
   "cell_type": "code",
   "execution_count": 27,
   "metadata": {},
   "outputs": [
    {
     "name": "stdout",
     "output_type": "stream",
     "text": [
      "ElasticnetCV -->  Coefficient  [-0.25472672  0.53437512  0.43474978 ...  0.          0.\n",
      "  0.        ]\n",
      "ElasticnetCV -->  Intercept  -1389.5485018415059 \n",
      "\n",
      "********************Accuracy Test Model Fitting ********************\n",
      "ElasticnetCV --> Score for train data set : 0.8770107396871348\n",
      "ElasticnetCV --> Score for test data Set 0.7056469279426525\n",
      "ElasticnetCV --> Score for Predictecd data Set 1.0\n",
      "\n",
      "********************R2 Score********************\n",
      "ElasticnetCV --> R2 Score for test is =  0.7056469279426525\n",
      "\n",
      "********************Mean Absolute Error********************\n",
      "ElasticnetCV --> Mean Absolute Error of Test =  1.6547015239922684\n",
      "ElasticnetCV --> Mean Absolute Error on Train 1.0526943821053227\n",
      "\n",
      "******************** Mean Squared Error********************\n",
      "ElasticnetCV --> Mean Squared Error of Test =  4.345415883062449\n",
      "ElasticnetCV --> Mean Squared Error on Train =  1.9248266300685786\n",
      "\n",
      "******************** Co Relation********************\n",
      "ElasticnetCV --> Correlation Test Data  0.840463442090424\n",
      "ElasticnetCV --> Correlation Original Data  0.9436952379650809\n"
     ]
    }
   ],
   "source": [
    "print(name +\" Coefficient \", regr_enetcv.coef_) \n",
    "print(name + \" Intercept \" , regr_enetcv.intercept_,\"\\n\") ##\n",
    "print(\"****\"*5+\"Accuracy Test Model Fitting \"+\"****\"*5)\n",
    "print(name + \"Score for train data set :\",regr_enetcv.score(x_train,y_train))\n",
    "#Return the coefficient of determination R^2 of the prediction.\n",
    "print(name + \"Score for test data Set\",regr_enetcv.score(x_test,y_test))\n",
    "print(name + \"Score for Predictecd data Set\",regr_enetcv.score(x_test,y_pred_elasticnetcv)) ##\n",
    "print(\"\\n\"+\"****\"*5+\"R2 Score\"+\"****\"*5)\n",
    "print(name + \"R2 Score for test is = \", r2_score(y_test,y_pred_elasticnetcv)) ##\n",
    "print(\"\\n\"+\"****\"*5+\"Mean Absolute Error\"+\"****\"*5)\n",
    "print(name+ \"Mean Absolute Error of Test = \", mean_absolute_error(y_test,y_pred_elasticnetcv)) ##\n",
    "print(name +\"Mean Absolute Error on Train\",mean_absolute_error(y_train,pd.DataFrame(regr_enetcv.predict(x_train))))\n",
    "print(\"\\n\"+\"****\"*5+\" Mean Squared Error\"+\"****\"*5)\n",
    "print(name + \"Mean Squared Error of Test = \",mean_squared_error(y_test,y_pred_elasticnetcv)) ##\n",
    "print(name+\"Mean Squared Error on Train = \",mean_squared_error(y_train,pd.DataFrame(regr_enetcv.predict(x_train))))\n",
    "print(\"\\n\"+\"****\"*5+\" Co Relation\"+\"****\"*5)\n",
    "print(name + \"Correlation Test Data \",stats.pearsonr(y_test[\"RL\"],y_pred_elasticnetcv[0])[0])\n",
    "print(name + \"Correlation Original Data \",stats.pearsonr(y_train[\"RL\"],pd.DataFrame(regr_enetcv.predict(x_train))[0])[0])"
   ]
  },
  {
   "cell_type": "markdown",
   "metadata": {},
   "source": [
    "#### 2.3 Lars() "
   ]
  },
  {
   "cell_type": "markdown",
   "metadata": {},
   "source": [
    "##### class sklearn.linear_model.Lars(fit_intercept=True, verbose=False, normalize=True, precompute='auto', n_nonzero_coefs=500, eps=2.220446049250313e-16, copy_X=True, fit_path=True)[source]¶"
   ]
  },
  {
   "cell_type": "markdown",
   "metadata": {},
   "source": [
    "#### Methods\n",
    "\n",
    "**fit**(self, X, y[, Xy])-->Fit the model using X, y as training data.\n",
    "\n",
    "**get_params**(self[, deep])--Get parameters for this estimator.\n",
    "\n",
    "**predict**(self, X)--Predict using the linear model.\n",
    "\n",
    "**score**(self, X, y[, sample_weight])--Return the coefficient of determination R^2 of the prediction.\n",
    "\n",
    "**set_params**(self, \\*\\*params)--Set the parameters of this estimator."
   ]
  },
  {
   "cell_type": "code",
   "execution_count": 28,
   "metadata": {},
   "outputs": [],
   "source": [
    "from sklearn.linear_model import Lars\n",
    "\n",
    "name = \"Lars -->\"\n",
    "reg_lars = Lars()\n",
    "\n",
    "reg_lars.fit(x_train, y_train)\n",
    "\n",
    "y_pred_lars = pd.DataFrame(reg_lars.predict(x_test))"
   ]
  },
  {
   "cell_type": "code",
   "execution_count": 29,
   "metadata": {},
   "outputs": [
    {
     "name": "stdout",
     "output_type": "stream",
     "text": [
      "Lars --> Coefficient  [0. 0. 0. ... 0. 0. 0.]\n",
      "Lars --> Intercept  [-404.1551898] \n",
      "\n",
      "********************Accuracy Test Model Fitting ********************\n",
      "Lars -->Score for train data set : 0.576173649581829\n",
      "Lars -->Score for test data Set 0.4950484243369921\n",
      "Lars -->Score for Predictecd data Set 1.0\n",
      "\n",
      "********************R2 Score********************\n",
      "Lars -->R2 Score for test is =  0.49504842433699214\n",
      "\n",
      "********************Mean Absolute Error********************\n",
      "Lars -->Mean Absolute Error of Test =  2.165398249863793\n",
      "Lars -->Mean Absolute Error on Train 2.006431805142849\n",
      "\n",
      "******************** Mean Squared Error********************\n",
      "Lars -->Mean Squared Error of Test =  7.454396795410218\n",
      "Lars -->Mean Squared Error on Train =  6.633036443462028\n",
      "\n",
      "******************** Co Relation********************\n",
      "Lars -->Correlation Test Data  0.7235448011837433\n",
      "Lars -->Correlation Original Data  0.7915715860990336\n"
     ]
    }
   ],
   "source": [
    "print(name +\" Coefficient \", reg_lars.coef_) \n",
    "print(name + \" Intercept \" , reg_lars.intercept_,\"\\n\") ##\n",
    "print(\"****\"*5+\"Accuracy Test Model Fitting \"+\"****\"*5)\n",
    "print(name + \"Score for train data set :\",reg_lars.score(x_train,y_train))\n",
    "#Return the coefficient of determination R^2 of the prediction.\n",
    "print(name + \"Score for test data Set\",reg_lars.score(x_test,y_test))\n",
    "print(name + \"Score for Predictecd data Set\",reg_lars.score(x_test,y_pred_lars)) ##\n",
    "print(\"\\n\"+\"****\"*5+\"R2 Score\"+\"****\"*5)\n",
    "print(name + \"R2 Score for test is = \", r2_score(y_test,y_pred_lars)) ##\n",
    "print(\"\\n\"+\"****\"*5+\"Mean Absolute Error\"+\"****\"*5)\n",
    "print(name+ \"Mean Absolute Error of Test = \", mean_absolute_error(y_test,y_pred_lars)) ##\n",
    "print(name +\"Mean Absolute Error on Train\",mean_absolute_error(y_train,pd.DataFrame(reg_lars.predict(x_train))))\n",
    "print(\"\\n\"+\"****\"*5+\" Mean Squared Error\"+\"****\"*5)\n",
    "print(name + \"Mean Squared Error of Test = \",mean_squared_error(y_test,y_pred_lars)) ##\n",
    "print(name+\"Mean Squared Error on Train = \",mean_squared_error(y_train,pd.DataFrame(reg_lars.predict(x_train))))\n",
    "print(\"\\n\"+\"****\"*5+\" Co Relation\"+\"****\"*5)\n",
    "print(name + \"Correlation Test Data \",stats.pearsonr(y_test[\"RL\"],y_pred_lars[0])[0])\n",
    "print(name + \"Correlation Original Data \",stats.pearsonr(y_train[\"RL\"],pd.DataFrame(reg_lars.predict(x_train))[0])[0])"
   ]
  },
  {
   "cell_type": "markdown",
   "metadata": {},
   "source": [
    "### 2.4 LarsCV() \n",
    "\n",
    "class sklearn.linear_model.**LarsCV**(fit_intercept=True, verbose=False, max_iter=500, normalize=True, precompute='auto', cv=None, max_n_alphas=1000, n_jobs=None, eps=2.220446049250313e-16, copy_X=True) <br>\n",
    "\n",
    "\n",
    "**fit(self, X, y)** --> Fit the model using X, y as training data.<br>\n",
    "\n",
    "**get_params(self[, deep])** --> Get parameters for this estimator.<br>\n",
    "\n",
    "**predict(self, X)** --> Predict using the linear model.<br>\n",
    "\n",
    "**score(self, X, y[, sample_weight])** --> Return the coefficient of determination R^2 of the prediction.<br>\n",
    "\n",
    "**set_params(self, \\*\\*params)** --> Set the parameters of this estimator.<br>"
   ]
  },
  {
   "cell_type": "code",
   "execution_count": 30,
   "metadata": {},
   "outputs": [],
   "source": [
    "#import Library\n",
    "from sklearn.linear_model import LarsCV\n",
    "\n",
    "name = \"LarsCV-->\"\n",
    "\n",
    "reg_larsCV = LarsCV(cv=10).fit(x_train, y_train)\n",
    "\n",
    "y_predict_larscv = pd.DataFrame(reg_larsCV.predict(x_test))"
   ]
  },
  {
   "cell_type": "code",
   "execution_count": 31,
   "metadata": {},
   "outputs": [
    {
     "name": "stdout",
     "output_type": "stream",
     "text": [
      "LarsCV--> Coefficient  [0. 0. 0. ... 0. 0. 0.]\n",
      "LarsCV--> Intercept  -392.4538232356313 \n",
      "\n",
      "********************Accuracy Test Model Fitting ********************\n",
      "LarsCV-->Score for train data set : 0.5693804401332341\n",
      "LarsCV-->Score for test data Set 0.4901154322092287\n",
      "LarsCV-->Score for Predictecd data Set 1.0\n",
      "\n",
      "********************R2 Score********************\n",
      "LarsCV-->R2 Score for test is =  0.4901154322092287\n",
      "\n",
      "********************Mean Absolute Error********************\n",
      "LarsCV-->Mean Absolute Error of Test =  2.176876370625282\n",
      "LarsCV-->Mean Absolute Error on Train 2.022926719557977\n",
      "\n",
      "******************** Mean Squared Error********************\n",
      "LarsCV-->Mean Squared Error of Test =  7.52722057194899\n",
      "LarsCV-->Mean Squared Error on Train =  6.739352640640759\n",
      "\n",
      "******************** Co Relation********************\n",
      "LarsCV-->Correlation Test Data  0.7209229537123661\n",
      "LarsCV-->Correlation Original Data  0.7879261207549555\n"
     ]
    }
   ],
   "source": [
    "print(name +\" Coefficient \", reg_larsCV.coef_) \n",
    "print(name + \" Intercept \" , reg_larsCV.intercept_,\"\\n\") ##\n",
    "print(\"****\"*5+\"Accuracy Test Model Fitting \"+\"****\"*5)\n",
    "print(name + \"Score for train data set :\",reg_larsCV.score(x_train,y_train))\n",
    "#Return the coefficient of determination R^2 of the prediction.\n",
    "print(name + \"Score for test data Set\",reg_larsCV.score(x_test,y_test))\n",
    "print(name + \"Score for Predictecd data Set\",reg_larsCV.score(x_test,y_predict_larscv)) ##\n",
    "print(\"\\n\"+\"****\"*5+\"R2 Score\"+\"****\"*5)\n",
    "print(name + \"R2 Score for test is = \", r2_score(y_test,y_predict_larscv)) ##\n",
    "print(\"\\n\"+\"****\"*5+\"Mean Absolute Error\"+\"****\"*5)\n",
    "print(name+ \"Mean Absolute Error of Test = \", mean_absolute_error(y_test,y_predict_larscv)) ##\n",
    "print(name +\"Mean Absolute Error on Train\",mean_absolute_error(y_train,pd.DataFrame(reg_larsCV.predict(x_train))))\n",
    "print(\"\\n\"+\"****\"*5+\" Mean Squared Error\"+\"****\"*5)\n",
    "print(name + \"Mean Squared Error of Test = \",mean_squared_error(y_test,y_predict_larscv)) ##\n",
    "print(name+\"Mean Squared Error on Train = \",mean_squared_error(y_train,pd.DataFrame(reg_larsCV.predict(x_train))))\n",
    "print(\"\\n\"+\"****\"*5+\" Co Relation\"+\"****\"*5)\n",
    "print(name + \"Correlation Test Data \",stats.pearsonr(y_test[\"RL\"],y_predict_larscv[0])[0])\n",
    "print(name + \"Correlation Original Data \",stats.pearsonr(y_train[\"RL\"],pd.DataFrame(reg_larsCV.predict(x_train))[0])[0])"
   ]
  },
  {
   "cell_type": "markdown",
   "metadata": {},
   "source": [
    "### 2.5 Lasso \n",
    "class sklearn.linear_model.**Lasso**(alpha=1.0, fit_intercept=True, normalize=False, precompute=False, copy_X=True, max_iter=1000, tol=0.0001, warm_start=False, positive=False, random_state=None, selection='cyclic')\n",
    "\n",
    "**(1 / (2 * n_samples)) * ||y - Xw||^2_2 + alpha * ||w||_1** <br>\n",
    "**Linear Model trained with L1 prior as regularizer (aka the Lasso)**"
   ]
  },
  {
   "cell_type": "markdown",
   "metadata": {},
   "source": [
    "  "
   ]
  },
  {
   "cell_type": "code",
   "execution_count": 32,
   "metadata": {},
   "outputs": [],
   "source": [
    "# Import Library\n",
    "from sklearn.linear_model import Lasso\n",
    "name = \"Lasso --> \"\n",
    "\n",
    "clf_lasso = Lasso(alpha = 0.1).fit(x_train,y_train)\n",
    "\n",
    "y_predict_lasso = pd.DataFrame(clf_lasso.predict(x_test))"
   ]
  },
  {
   "cell_type": "code",
   "execution_count": 33,
   "metadata": {},
   "outputs": [
    {
     "name": "stdout",
     "output_type": "stream",
     "text": [
      "Lasso -->  Coefficient  [0. 0. 0. ... 0. 0. 0.]\n",
      "Lasso -->  Intercept  [17.11146106] \n",
      "\n",
      "********************Accuracy Test Model Fitting ********************\n",
      "Lasso --> Score for train data set : 0.08490076400403435\n",
      "Lasso --> Score for test data Set 0.0861618342222099\n",
      "Lasso --> Score for Predictecd data Set 1.0\n",
      "\n",
      "********************R2 Score********************\n",
      "Lasso --> R2 Score for test is =  0.08616183422220991\n",
      "\n",
      "********************Mean Absolute Error********************\n",
      "Lasso --> Mean Absolute Error of Test =  2.9496429317675523\n",
      "Lasso --> Mean Absolute Error on Train 3.0129926715804576\n",
      "\n",
      "******************** Mean Squared Error********************\n",
      "Lasso --> Mean Squared Error of Test =  13.490624889234418\n",
      "Lasso --> Mean Squared Error on Train =  14.32163567875524\n",
      "\n",
      "******************** Co Relation********************\n",
      "Lasso --> Correlation Test Data  0.30717094891034197\n",
      "Lasso --> Correlation Original Data  0.29726423568815086\n"
     ]
    }
   ],
   "source": [
    "print(name +\" Coefficient \",clf_lasso.coef_) \n",
    "print(name + \" Intercept \" , clf_lasso.intercept_,\"\\n\") ##\n",
    "print(\"****\"*5+\"Accuracy Test Model Fitting \"+\"****\"*5)\n",
    "print(name + \"Score for train data set :\",clf_lasso.score(x_train,y_train))\n",
    "#Return the coefficient of determination R^2 of the prediction.\n",
    "print(name + \"Score for test data Set\",clf_lasso.score(x_test,y_test))\n",
    "print(name + \"Score for Predictecd data Set\",clf_lasso.score(x_test,y_predict_lasso)) ##\n",
    "print(\"\\n\"+\"****\"*5+\"R2 Score\"+\"****\"*5)\n",
    "print(name + \"R2 Score for test is = \", r2_score(y_test,y_predict_lasso)) ##\n",
    "print(\"\\n\"+\"****\"*5+\"Mean Absolute Error\"+\"****\"*5)\n",
    "print(name+ \"Mean Absolute Error of Test = \", mean_absolute_error(y_test,y_predict_lasso)) ##\n",
    "print(name +\"Mean Absolute Error on Train\",mean_absolute_error(y_train,pd.DataFrame(clf_lasso.predict(x_train))))\n",
    "print(\"\\n\"+\"****\"*5+\" Mean Squared Error\"+\"****\"*5)\n",
    "print(name + \"Mean Squared Error of Test = \",mean_squared_error(y_test,y_predict_lasso)) ##\n",
    "print(name+\"Mean Squared Error on Train = \",mean_squared_error(y_train,pd.DataFrame(clf_lasso.predict(x_train))))\n",
    "print(\"\\n\"+\"****\"*5+\" Co Relation\"+\"****\"*5)\n",
    "print(name + \"Correlation Test Data \",stats.pearsonr(y_test[\"RL\"],y_predict_lasso[0])[0])\n",
    "print(name + \"Correlation Original Data \",stats.pearsonr(y_train[\"RL\"],pd.DataFrame(clf_lasso.predict(x_train))[0])[0])"
   ]
  },
  {
   "cell_type": "markdown",
   "metadata": {},
   "source": [
    "### 2.6  Lasso CV\n",
    "\n",
    "**Lasso linear model with iterative fitting along a regularization path.**<br>\n",
    "**(1 / (2 * n_samples)) * ||y - Xw||^2_2 + alpha * ||w||_1**\n",
    "\n",
    "class sklearn.linear_model.**LassoCV**(eps=0.001, n_alphas=100, alphas=None, fit_intercept=True, normalize=False, precompute='auto', max_iter=1000, tol=0.0001, copy_X=True, cv=None, verbose=False, n_jobs=None, positive=False, random_state=None, selection='cyclic')\n",
    "\n",
    "**fit(self, X, y)** --> Fit linear model with coordinate descent <br>\n",
    "**get_params(self[, deep])**--> Get parameters for this estimator.<br>\n",
    "**path(X, y[, eps, n_alphas, alphas, …])**--> Compute Lasso path with coordinate descent<br>\n",
    "**predict(self, X)**--> Predict using the linear model.<br>\n",
    "**score(self, X, y[, sample_weight])** --> Return the coefficient of determination R^2 of the prediction.<br>\n",
    "**set_params(self, \\*\\*params)** -->Set the parameters of this estimator.<br>"
   ]
  },
  {
   "cell_type": "code",
   "execution_count": 34,
   "metadata": {},
   "outputs": [],
   "source": [
    "# Import library \n",
    "from sklearn.linear_model import LassoCV\n",
    "\n",
    "name = \"LassoCV\"\n",
    "\n",
    "#make a object\n",
    "reg_LassoCV = LassoCV(cv =10 , random_state = 0).fit(x_train,y_train)\n",
    "y_predict_reg_lassoCV = pd.DataFrame(reg_LassoCV.predict(x_test))\n",
    "\n",
    "#alpha value can be passed seprately to compare results"
   ]
  },
  {
   "cell_type": "code",
   "execution_count": 35,
   "metadata": {},
   "outputs": [
    {
     "name": "stdout",
     "output_type": "stream",
     "text": [
      "LassoCV Coefficient  [-0.03281311  1.18988927  1.02343364 ...  0.          0.\n",
      "  0.        ]\n",
      "LassoCV Intercept  -1342.5564165314258 \n",
      "\n",
      "********************Accuracy Test Model Fitting ********************\n",
      "LassoCVScore for train data set : 0.8755270668161962\n",
      "LassoCVScore for test data Set 0.6449584287668848\n",
      "LassoCVScore for Predictecd data Set 1.0\n",
      "\n",
      "********************R2 Score********************\n",
      "LassoCVR2 Score for test is =  0.6449584287668848\n",
      "\n",
      "********************Mean Absolute Error********************\n",
      "LassoCVMean Absolute Error of Test =  1.8157922597525262\n",
      "LassoCVMean Absolute Error on Train 1.074335589618555\n",
      "\n",
      "******************** Mean Squared Error********************\n",
      "LassoCVMean Squared Error of Test =  5.24133576048851\n",
      "LassoCVMean Squared Error on Train =  1.948046649808743\n",
      "\n",
      "******************** Co Relation********************\n",
      "LassoCVCorrelation Test Data  0.8061709237062102\n",
      "LassoCVCorrelation Original Data  0.9406922335787623\n"
     ]
    }
   ],
   "source": [
    "print(name +\" Coefficient \",reg_LassoCV .coef_) \n",
    "print(name + \" Intercept \" , reg_LassoCV .intercept_,\"\\n\") ##\n",
    "print(\"****\"*5+\"Accuracy Test Model Fitting \"+\"****\"*5)\n",
    "print(name + \"Score for train data set :\",reg_LassoCV .score(x_train,y_train))\n",
    "#Return the coefficient of determination R^2 of the prediction.\n",
    "print(name + \"Score for test data Set\",reg_LassoCV .score(x_test,y_test))\n",
    "print(name + \"Score for Predictecd data Set\",reg_LassoCV .score(x_test,y_predict_reg_lassoCV)) ##\n",
    "print(\"\\n\"+\"****\"*5+\"R2 Score\"+\"****\"*5)\n",
    "print(name + \"R2 Score for test is = \", r2_score(y_test,y_predict_reg_lassoCV)) ##\n",
    "print(\"\\n\"+\"****\"*5+\"Mean Absolute Error\"+\"****\"*5)\n",
    "print(name+ \"Mean Absolute Error of Test = \", mean_absolute_error(y_test,y_predict_reg_lassoCV)) ##\n",
    "print(name +\"Mean Absolute Error on Train\",mean_absolute_error(y_train,pd.DataFrame(reg_LassoCV.predict(x_train))))\n",
    "print(\"\\n\"+\"****\"*5+\" Mean Squared Error\"+\"****\"*5)\n",
    "print(name + \"Mean Squared Error of Test = \",mean_squared_error(y_test,y_predict_reg_lassoCV)) ##\n",
    "print(name+\"Mean Squared Error on Train = \",mean_squared_error(y_train,pd.DataFrame(reg_LassoCV.predict(x_train))))\n",
    "print(\"\\n\"+\"****\"*5+\" Co Relation\"+\"****\"*5)\n",
    "print(name + \"Correlation Test Data \",stats.pearsonr(y_test[\"RL\"],y_predict_reg_lassoCV[0])[0])\n",
    "print(name + \"Correlation Original Data \",stats.pearsonr(y_train[\"RL\"],pd.DataFrame(reg_LassoCV .predict(x_train))[0])[0])"
   ]
  },
  {
   "cell_type": "markdown",
   "metadata": {},
   "source": [
    "### 2.7 LassoLars\n",
    "class sklearn.linear_model.**LassoLars**(alpha=1.0, fit_intercept=True, verbose=False, normalize=True, precompute='auto', max_iter=500, eps=2.220446049250313e-16, copy_X=True, fit_path=True, positive=False)\n",
    "\n",
    "**Lasso model fit with Least Angle Regression a.k.a. Lars\n",
    "It is a Linear Model trained with an L1 prior as regularizer.**\n",
    "\n",
    "**`(1 / (2 * n_samples)) * ||y - Xw||^2_2 + alpha * ||w||_1`**\n",
    "#### Methods\n",
    "* **fit(self, X, y[, Xy])**--> Fit the model using X, y as training data.\n",
    "\n",
    "* **get_params(self[, deep])**--> Get parameters for this estimator.\n",
    "\n",
    "* **predict(self, X)**--> Predict using the linear model.\n",
    "\n",
    "* **score(self, X, y[, sample_weight])**-->Return the coefficient of determination R^2 of the prediction.\n",
    "\n",
    "* **set_params(self, \\*\\*params)**--> Set the parameters of this estimator."
   ]
  },
  {
   "cell_type": "code",
   "execution_count": 36,
   "metadata": {},
   "outputs": [],
   "source": [
    "# Import the Library \n",
    "from sklearn.linear_model import LassoLars\n",
    "name = \"LassoLars -->\"\n",
    "reg_Lasso_lars = LassoLars(alpha = 0.1).fit(x_train, y_train)\n",
    "\n",
    "y_pred_lasso_lars =  pd.DataFrame(reg_Lasso_lars.predict(x_test))\n"
   ]
  },
  {
   "cell_type": "code",
   "execution_count": 37,
   "metadata": {},
   "outputs": [
    {
     "name": "stdout",
     "output_type": "stream",
     "text": [
      "LassoLars -->Coefficient  [0. 0. 0. ... 0. 0. 0.]\n",
      "LassoLars --> Intercept  [10.49521861] \n",
      "\n",
      "********************Accuracy Test Model Fitting ********************\n",
      "LassoLars -->Score for train data set : 0.0\n",
      "LassoLars -->Score for test data Set -0.005666605660469504\n",
      "LassoLars -->Score for Predictecd data Set 1.0\n",
      "\n",
      "********************R2 Score********************\n",
      "LassoLars -->R2 Score for test is =  -0.005666605660469504\n",
      "\n",
      "********************Mean Absolute Error********************\n",
      "LassoLars -->Mean Absolute Error of Test =  3.119762038105483\n",
      "LassoLars -->Mean Absolute Error on Train 3.1605390329181464\n",
      "\n",
      "******************** Mean Squared Error********************\n",
      "LassoLars -->Mean Squared Error of Test =  14.846251172982864\n",
      "LassoLars -->Mean Squared Error on Train =  15.65036349655348\n",
      "\n",
      "******************** Co Relation********************\n",
      "LassoLars -->Correlation Test Data  nan\n",
      "LassoLars -->Correlation Original Data  nan\n"
     ]
    }
   ],
   "source": [
    "print(name +\"Coefficient \",reg_Lasso_lars.coef_) \n",
    "print(name + \" Intercept \" , reg_Lasso_lars.intercept_,\"\\n\") ##\n",
    "print(\"****\"*5+\"Accuracy Test Model Fitting \"+\"****\"*5)\n",
    "print(name + \"Score for train data set :\",reg_Lasso_lars.score(x_train,y_train))\n",
    "#Return the coefficient of determination R^2 of the prediction.\n",
    "print(name + \"Score for test data Set\",reg_Lasso_lars.score(x_test,y_test))\n",
    "print(name + \"Score for Predictecd data Set\",reg_Lasso_lars.score(x_test,y_pred_lasso_lars)) ##\n",
    "print(\"\\n\"+\"****\"*5+\"R2 Score\"+\"****\"*5)\n",
    "print(name + \"R2 Score for test is = \", r2_score(y_test,y_pred_lasso_lars)) ##\n",
    "print(\"\\n\"+\"****\"*5+\"Mean Absolute Error\"+\"****\"*5)\n",
    "print(name+ \"Mean Absolute Error of Test = \", mean_absolute_error(y_test,y_pred_lasso_lars)) ##\n",
    "print(name +\"Mean Absolute Error on Train\",mean_absolute_error(y_train,pd.DataFrame(reg_Lasso_lars.predict(x_train))))\n",
    "print(\"\\n\"+\"****\"*5+\" Mean Squared Error\"+\"****\"*5)\n",
    "print(name + \"Mean Squared Error of Test = \",mean_squared_error(y_test,y_pred_lasso_lars)) ##\n",
    "print(name+\"Mean Squared Error on Train = \",mean_squared_error(y_train,pd.DataFrame(reg_Lasso_lars.predict(x_train))))\n",
    "print(\"\\n\"+\"****\"*5+\" Co Relation\"+\"****\"*5)\n",
    "print(name + \"Correlation Test Data \",stats.pearsonr(y_test[\"RL\"],y_pred_lasso_lars[0])[0])\n",
    "print(name + \"Correlation Original Data \",stats.pearsonr(y_train[\"RL\"],pd.DataFrame(reg_Lasso_lars.predict(x_train))[0])[0])"
   ]
  },
  {
   "cell_type": "markdown",
   "metadata": {},
   "source": [
    "### 2.8 LassoLarsCV\n",
    "**Lasso linear model with iterative fitting along a regularization path**\n",
    "**The best model is selected by cross-validation.**\n",
    "**The optimization objective for Lasso is** \n",
    "\n",
    "**`(1 / (2 * n_samples)) * ||y - Xw||^2_2 + alpha * ||w||_1`**\n",
    "\n",
    "class sklearn.linear_model.**LassoCV**(eps=0.001, n_alphas=100, alphas=None, fit_intercept=True, normalize=False, precompute='auto', max_iter=1000, tol=0.0001, copy_X=True, cv=None, verbose=False, n_jobs=None, positive=False, random_state=None, selection='cyclic')"
   ]
  },
  {
   "cell_type": "code",
   "execution_count": 38,
   "metadata": {},
   "outputs": [],
   "source": [
    "# Import the library\n",
    "from sklearn.linear_model import LassoLarsCV\n",
    "name = \"LassoLars-->\"\n",
    "\n",
    "reg_lassoLarsCV = LassoLarsCV(cv = 10).fit(x_train, y_train)\n",
    "\n",
    "y_pred_lassoLarsCV =pd.DataFrame(reg_lassoLarsCV.predict(x_test))"
   ]
  },
  {
   "cell_type": "code",
   "execution_count": 39,
   "metadata": {},
   "outputs": [
    {
     "name": "stdout",
     "output_type": "stream",
     "text": [
      "LassoLars-->Coefficient  [0. 0. 0. ... 0. 0. 0.]\n",
      "LassoLars--> Intercept  -384.5144293466549 \n",
      "\n",
      "********************Accuracy Test Model Fitting ********************\n",
      "LassoLars-->Score for train data set : 0.5737998803202404\n",
      "LassoLars-->Score for test data Set 0.49527862163412484\n",
      "LassoLars-->Score for Predictecd data Set 1.0\n",
      "\n",
      "********************R2 Score********************\n",
      "LassoLars-->R2 Score for test is =  0.49527862163412484\n",
      "\n",
      "********************Mean Absolute Error********************\n",
      "LassoLars-->Mean Absolute Error of Test =  2.170609334333642\n",
      "LassoLars-->Mean Absolute Error on Train 2.0103610333226327\n",
      "\n",
      "******************** Mean Squared Error********************\n",
      "LassoLars-->Mean Squared Error of Test =  7.450998485400382\n",
      "LassoLars-->Mean Squared Error on Train =  6.670186795262833\n",
      "\n",
      "******************** Co Relation********************\n",
      "LassoLars-->Correlation Test Data  0.7283248507186585\n",
      "LassoLars-->Correlation Original Data  0.7948744836079739\n"
     ]
    }
   ],
   "source": [
    "print(name +\"Coefficient \",reg_lassoLarsCV.coef_) \n",
    "print(name + \" Intercept \" , reg_lassoLarsCV.intercept_,\"\\n\") ##\n",
    "print(\"****\"*5+\"Accuracy Test Model Fitting \"+\"****\"*5)\n",
    "print(name + \"Score for train data set :\",reg_lassoLarsCV.score(x_train,y_train))\n",
    "#Return the coefficient of determination R^2 of the prediction.\n",
    "print(name + \"Score for test data Set\",reg_lassoLarsCV.score(x_test,y_test))\n",
    "print(name + \"Score for Predictecd data Set\",reg_lassoLarsCV.score(x_test,y_pred_lassoLarsCV)) ##\n",
    "print(\"\\n\"+\"****\"*5+\"R2 Score\"+\"****\"*5)\n",
    "print(name + \"R2 Score for test is = \", r2_score(y_test,y_pred_lassoLarsCV)) ##\n",
    "print(\"\\n\"+\"****\"*5+\"Mean Absolute Error\"+\"****\"*5)\n",
    "print(name+ \"Mean Absolute Error of Test = \", mean_absolute_error(y_test,y_pred_lassoLarsCV)) ##\n",
    "print(name +\"Mean Absolute Error on Train\",mean_absolute_error(y_train,pd.DataFrame(reg_lassoLarsCV.predict(x_train))))\n",
    "print(\"\\n\"+\"****\"*5+\" Mean Squared Error\"+\"****\"*5)\n",
    "print(name + \"Mean Squared Error of Test = \",mean_squared_error(y_test,y_pred_lassoLarsCV)) ##\n",
    "print(name+\"Mean Squared Error on Train = \",mean_squared_error(y_train,pd.DataFrame(reg_lassoLarsCV.predict(x_train))))\n",
    "print(\"\\n\"+\"****\"*5+\" Co Relation\"+\"****\"*5)\n",
    "print(name + \"Correlation Test Data \",stats.pearsonr(y_test[\"RL\"],y_pred_lassoLarsCV[0])[0])\n",
    "print(name + \"Correlation Original Data \",stats.pearsonr(y_train[\"RL\"],pd.DataFrame(reg_lassoLarsCV.predict(x_train))[0])[0])"
   ]
  },
  {
   "cell_type": "markdown",
   "metadata": {},
   "source": [
    "### 2.9 LassoLarsIC\n",
    "**Lasso model fit with Lars using `BIC or AIC` for model selection** <br>\n",
    "The optimization objective for Lasso is:<br>\n",
    "**```(1 / (2 * n_samples)) * ||y - Xw||^2_2 + alpha * ||w||_1```**\n",
    "\n",
    "``class sklearn.linear_model.**LassoLarsIC**((criterion='aic', fit_intercept=True, verbose=False, normalize=True, precompute='auto', max_iter=500, eps=2.220446049250313e-16, copy_X=True, positive=False``"
   ]
  },
  {
   "cell_type": "code",
   "execution_count": 40,
   "metadata": {},
   "outputs": [],
   "source": [
    "#Import the Model\n",
    "from sklearn.linear_model import LassoLarsIC \n",
    "name = \"LassoLarsIC-->\"\n",
    "#Create a object\n",
    "reg_LassoLarsIC = LassoLarsIC(criterion='bic').fit(x_train,y_train)\n",
    "\n",
    "y_pred_lassoLarsIC = pd.DataFrame(reg_LassoLarsIC.predict(x_test))"
   ]
  },
  {
   "cell_type": "code",
   "execution_count": 41,
   "metadata": {},
   "outputs": [
    {
     "name": "stdout",
     "output_type": "stream",
     "text": [
      "LassoLarsIC-->Coefficient  [0. 0. 0. ... 0. 0. 0.]\n",
      "LassoLarsIC--> Intercept  -25.186038296150837 \n",
      "\n",
      "********************Accuracy Test Model Fitting ********************\n",
      "LassoLarsIC-->Score for train data set : 0.20275734512168686\n",
      "LassoLarsIC-->Score for test data Set 0.1866089755252549\n",
      "LassoLarsIC-->Score for Predictecd data Set 1.0\n",
      "\n",
      "********************R2 Score********************\n",
      "LassoLarsIC-->R2 Score for test is =  0.1866089755252549\n",
      "\n",
      "********************Mean Absolute Error********************\n",
      "LassoLarsIC-->Mean Absolute Error of Test =  2.791343112753912\n",
      "LassoLarsIC-->Mean Absolute Error on Train 2.799459366181587\n",
      "\n",
      "******************** Mean Squared Error********************\n",
      "LassoLarsIC-->Mean Squared Error of Test =  12.007764186692024\n",
      "LassoLarsIC-->Mean Squared Error on Train =  12.477137343802937\n",
      "\n",
      "******************** Co Relation********************\n",
      "LassoLarsIC-->Correlation Test Data  0.4810119322254628\n",
      "LassoLarsIC-->Correlation Original Data  0.5044354957349134\n"
     ]
    }
   ],
   "source": [
    "print(name +\"Coefficient \",reg_LassoLarsIC.coef_) \n",
    "print(name + \" Intercept \" , reg_LassoLarsIC.intercept_,\"\\n\") ##\n",
    "print(\"****\"*5+\"Accuracy Test Model Fitting \"+\"****\"*5)\n",
    "print(name + \"Score for train data set :\",reg_LassoLarsIC.score(x_train,y_train))\n",
    "#Return the coefficient of determination R^2 of the prediction.\n",
    "print(name + \"Score for test data Set\",reg_LassoLarsIC.score(x_test,y_test))\n",
    "print(name + \"Score for Predictecd data Set\",reg_LassoLarsIC.score(x_test,y_pred_lassoLarsIC)) ##\n",
    "print(\"\\n\"+\"****\"*5+\"R2 Score\"+\"****\"*5)\n",
    "print(name + \"R2 Score for test is = \", r2_score(y_test,y_pred_lassoLarsIC)) ##\n",
    "print(\"\\n\"+\"****\"*5+\"Mean Absolute Error\"+\"****\"*5)\n",
    "print(name+ \"Mean Absolute Error of Test = \", mean_absolute_error(y_test,y_pred_lassoLarsIC)) ##\n",
    "print(name +\"Mean Absolute Error on Train\",mean_absolute_error(y_train,pd.DataFrame(reg_LassoLarsIC.predict(x_train))))\n",
    "print(\"\\n\"+\"****\"*5+\" Mean Squared Error\"+\"****\"*5)\n",
    "print(name + \"Mean Squared Error of Test = \",mean_squared_error(y_test,y_pred_lassoLarsIC)) ##\n",
    "print(name+\"Mean Squared Error on Train = \",mean_squared_error(y_train,pd.DataFrame(reg_LassoLarsIC.predict(x_train))))\n",
    "print(\"\\n\"+\"****\"*5+\" Co Relation\"+\"****\"*5)\n",
    "print(name + \"Correlation Test Data \",stats.pearsonr(y_test[\"RL\"],y_pred_lassoLarsIC[0])[0])\n",
    "print(name + \"Correlation Original Data \",stats.pearsonr(y_train[\"RL\"],pd.DataFrame(reg_LassoLarsIC.predict(x_train))[0])[0])"
   ]
  },
  {
   "cell_type": "markdown",
   "metadata": {},
   "source": [
    "### 2.10  OrthogonalMatchingPursuit \n",
    "**`Orthogonal Matching Pursuit model (OMP)`**\n",
    "class sklearn.linear_model.**OrthogonalMatchingPursuit**(n_nonzero_coefs=None, tol=None, fit_intercept=True, normalize=True, precompute='auto')"
   ]
  },
  {
   "cell_type": "code",
   "execution_count": 42,
   "metadata": {},
   "outputs": [],
   "source": [
    "# Import the Model\n",
    "from sklearn.linear_model import OrthogonalMatchingPursuit\n",
    "\n",
    "name = \"OPM --> \"\n",
    "#Create a Object\n",
    "reg_opm = OrthogonalMatchingPursuit().fit(x_train , y_train)\n",
    "\n",
    "y_pred_opm = pd.DataFrame(reg_opm.predict(x_test))"
   ]
  },
  {
   "cell_type": "code",
   "execution_count": 43,
   "metadata": {},
   "outputs": [
    {
     "name": "stdout",
     "output_type": "stream",
     "text": [
      "OPM --> Coefficient  [0. 0. 0. ... 0. 0. 0.]\n",
      "OPM -->  Intercept  [-1011.72434388] \n",
      "\n",
      "********************Accuracy Test Model Fitting ********************\n",
      "OPM --> Score for train data set : 0.7504082107585206\n",
      "OPM --> Score for test data Set 0.39414124328691624\n",
      "OPM --> Score for Predictecd data Set 1.0\n",
      "\n",
      "********************R2 Score********************\n",
      "OPM --> R2 Score for test is =  0.39414124328691624\n",
      "\n",
      "********************Mean Absolute Error********************\n",
      "OPM --> Mean Absolute Error of Test =  2.3981365922083926\n",
      "OPM --> Mean Absolute Error on Train 1.5712771172617364\n",
      "\n",
      "******************** Mean Squared Error********************\n",
      "OPM --> Mean Squared Error of Test =  8.944048879505438\n",
      "OPM --> Mean Squared Error on Train =  3.9062022273843184\n",
      "\n",
      "******************** Co Relation********************\n",
      "OPM --> Correlation Test Data  0.6850650898163236\n",
      "OPM --> Correlation Original Data  0.8662610523153633\n"
     ]
    }
   ],
   "source": [
    "print(name +\"Coefficient \",reg_opm .coef_) \n",
    "print(name + \" Intercept \" , reg_opm .intercept_,\"\\n\") ##\n",
    "print(\"****\"*5+\"Accuracy Test Model Fitting \"+\"****\"*5)\n",
    "print(name + \"Score for train data set :\",reg_opm.score(x_train,y_train))\n",
    "#Return the coefficient of determination R^2 of the prediction.\n",
    "print(name + \"Score for test data Set\",reg_opm.score(x_test,y_test))\n",
    "print(name + \"Score for Predictecd data Set\",reg_opm.score(x_test,y_pred_opm)) ##\n",
    "print(\"\\n\"+\"****\"*5+\"R2 Score\"+\"****\"*5)\n",
    "print(name + \"R2 Score for test is = \", r2_score(y_test,y_pred_opm)) ##\n",
    "print(\"\\n\"+\"****\"*5+\"Mean Absolute Error\"+\"****\"*5)\n",
    "print(name+ \"Mean Absolute Error of Test = \", mean_absolute_error(y_test,y_pred_opm)) ##\n",
    "print(name +\"Mean Absolute Error on Train\",mean_absolute_error(y_train,pd.DataFrame(reg_opm.predict(x_train))))\n",
    "print(\"\\n\"+\"****\"*5+\" Mean Squared Error\"+\"****\"*5)\n",
    "print(name + \"Mean Squared Error of Test = \",mean_squared_error(y_test,y_pred_opm)) ##\n",
    "print(name+\"Mean Squared Error on Train = \",mean_squared_error(y_train,pd.DataFrame(reg_opm.predict(x_train))))\n",
    "print(\"\\n\"+\"****\"*5+\" Co Relation\"+\"****\"*5)\n",
    "print(name + \"Correlation Test Data \",stats.pearsonr(y_test[\"RL\"],y_pred_opm[0])[0])\n",
    "print(name + \"Correlation Original Data \",stats.pearsonr(y_train[\"RL\"],pd.DataFrame(reg_opm.predict(x_train))[0])[0])"
   ]
  },
  {
   "cell_type": "markdown",
   "metadata": {},
   "source": [
    "### 2.11 OrthogonalMatchingPursuitCV\n",
    "class sklearn.linear_model.**OrthogonalMatchingPursuitCV**(copy=True, fit_intercept=True, normalize=True, max_iter=None, cv=None, n_jobs=None, verbose=False)\n",
    "**Cross-validated Orthogonal Matching Pursuit model (OMP)**<br>\n",
    "**fit(self, X, y)**--> Fit the model using X, y as training data.<br>\n",
    "**get_params(self[, deep])**--> Get parameters for this estimator.<br>\n",
    "**predict(self, X)**--> Predict using the linear model.<br>\n",
    "**score(self, X, y[, sample_weight])**--> Return the coefficient of determination R^2 of the prediction.<br>\n",
    "**set_params(self, \\*\\*params)**--> Set the parameters of this estimator.<br>"
   ]
  },
  {
   "cell_type": "code",
   "execution_count": 44,
   "metadata": {},
   "outputs": [],
   "source": [
    "# import the Library\n",
    "from sklearn.linear_model import OrthogonalMatchingPursuitCV\n",
    "\n",
    "name = \"OPM CV -->\"\n",
    "reg_opmCV = OrthogonalMatchingPursuitCV(cv = 10).fit(x_train, y_train)\n",
    "\n",
    "y_pred_opmCV = pd.DataFrame(reg_opmCV.predict(x_test))"
   ]
  },
  {
   "cell_type": "code",
   "execution_count": 45,
   "metadata": {},
   "outputs": [
    {
     "name": "stdout",
     "output_type": "stream",
     "text": [
      "OPM CV -->Coefficient  [0. 0. 0. ... 0. 0. 0.]\n",
      "OPM CV --> Intercept  -899.6548828683831 \n",
      "\n",
      "********************Accuracy Test Model Fitting ********************\n",
      "OPM CV -->Score for train data set : 0.7163851995052081\n",
      "OPM CV -->Score for test data Set 0.38172329491714085\n",
      "OPM CV -->Score for Predictecd data Set 1.0\n",
      "\n",
      "********************R2 Score********************\n",
      "OPM CV -->R2 Score for test is =  0.38172329491714085\n",
      "\n",
      "********************Mean Absolute Error********************\n",
      "OPM CV -->Mean Absolute Error of Test =  2.399175936595323\n",
      "OPM CV -->Mean Absolute Error on Train 1.6754153963070844\n",
      "\n",
      "******************** Mean Squared Error********************\n",
      "OPM CV -->Mean Squared Error of Test =  9.12737005126667\n",
      "OPM CV -->Mean Squared Error on Train =  4.43867472074599\n",
      "\n",
      "******************** Co Relation********************\n",
      "OPM CV -->Correlation Test Data  0.6718170524919538\n",
      "OPM CV -->Correlation Original Data  0.8463954155743095\n"
     ]
    }
   ],
   "source": [
    "print(name +\"Coefficient \",reg_opmCV .coef_) \n",
    "print(name + \" Intercept \" , reg_opmCV .intercept_,\"\\n\") ##\n",
    "print(\"****\"*5+\"Accuracy Test Model Fitting \"+\"****\"*5)\n",
    "print(name + \"Score for train data set :\",reg_opmCV.score(x_train,y_train))\n",
    "#Return the coefficient of determination R^2 of the prediction.\n",
    "print(name + \"Score for test data Set\",reg_opmCV.score(x_test,y_test))\n",
    "print(name + \"Score for Predictecd data Set\",reg_opmCV.score(x_test,y_pred_opmCV)) ##\n",
    "print(\"\\n\"+\"****\"*5+\"R2 Score\"+\"****\"*5)\n",
    "print(name + \"R2 Score for test is = \", r2_score(y_test,y_pred_opmCV)) ##\n",
    "print(\"\\n\"+\"****\"*5+\"Mean Absolute Error\"+\"****\"*5)\n",
    "print(name+ \"Mean Absolute Error of Test = \", mean_absolute_error(y_test,y_pred_opmCV)) ##\n",
    "print(name +\"Mean Absolute Error on Train\",mean_absolute_error(y_train,pd.DataFrame(reg_opmCV.predict(x_train))))\n",
    "print(\"\\n\"+\"****\"*5+\" Mean Squared Error\"+\"****\"*5)\n",
    "print(name + \"Mean Squared Error of Test = \",mean_squared_error(y_test,y_pred_opmCV)) ##\n",
    "print(name+\"Mean Squared Error on Train = \",mean_squared_error(y_train,pd.DataFrame(reg_opmCV.predict(x_train))))\n",
    "print(\"\\n\"+\"****\"*5+\" Co Relation\"+\"****\"*5)\n",
    "print(name + \"Correlation Test Data \",stats.pearsonr(y_test[\"RL\"],y_pred_opmCV[0])[0])\n",
    "print(name + \"Correlation Original Data \",stats.pearsonr(y_train[\"RL\"],pd.DataFrame(reg_opmCV.predict(x_train))[0])[0])"
   ]
  },
  {
   "cell_type": "markdown",
   "metadata": {},
   "source": [
    "# Part 3 . Bayesian Regressors"
   ]
  },
  {
   "cell_type": "markdown",
   "metadata": {},
   "source": [
    "### 3.1 ARDRegression --> bayesian ARD regression\n",
    "\n",
    "```class sklearn.linear_model.ARDRegression(n_iter=300, tol=0.001, alpha_1=1e-06, alpha_2=1e-06, lambda_1=1e-06,\n",
    "lambda_2=1e-06, compute_score=False, threshold_lambda=10000.0, fit_intercept=True, normalize=False, copy_X=True, verbose=False)```\n",
    "\n",
    "http://www.utstat.toronto.edu/~rsalakhu/sta4273/notes/Lecture2.pdf#page=15\n"
   ]
  },
  {
   "cell_type": "code",
   "execution_count": 46,
   "metadata": {},
   "outputs": [],
   "source": [
    "#import library\n",
    "from sklearn.linear_model import ARDRegression\n",
    "\n",
    "name  = \"ARDRegression\"\n",
    "clf_ard = ARDRegression()\n",
    "\n",
    "clf_ard.fit(x_train,y_train)\n",
    "y_pred_ard = pd.DataFrame(clf_ard.predict(x_test))"
   ]
  },
  {
   "cell_type": "code",
   "execution_count": 47,
   "metadata": {},
   "outputs": [
    {
     "name": "stdout",
     "output_type": "stream",
     "text": [
      "ARDRegressionCoefficient  [-0.00203561  0.88195891  1.09942481 ...  0.          0.\n",
      "  0.        ]\n",
      "ARDRegression Intercept  -1719.3219687511446 \n",
      "\n",
      "********************Accuracy Test Model Fitting ********************\n",
      "ARDRegressionScore for train data set : 0.9092074605736508\n",
      "ARDRegressionScore for test data Set 0.487597909073179\n",
      "ARDRegressionScore for Predictecd data Set 1.0\n",
      "\n",
      "********************R2 Score********************\n",
      "ARDRegressionR2 Score for test is =  0.487597909073179\n",
      "\n",
      "********************Mean Absolute Error********************\n",
      "ARDRegressionMean Absolute Error of Test =  2.2067113071240883\n",
      "ARDRegressionMean Absolute Error on Train 0.927400603992516\n",
      "\n",
      "******************** Mean Squared Error********************\n",
      "ARDRegressionMean Squared Error of Test =  7.564385752339009\n",
      "ARDRegressionMean Squared Error on Train =  1.4209362447975291\n",
      "\n",
      "******************** Co Relation********************\n",
      "ARDRegressionCorrelation Test Data  0.7521113597464882\n",
      "ARDRegressionCorrelation Original Data  0.9542761728997406\n"
     ]
    }
   ],
   "source": [
    "print(name +\"Coefficient \",clf_ard.coef_) \n",
    "print(name + \" Intercept \" , clf_ard.intercept_,\"\\n\") ##\n",
    "print(\"****\"*5+\"Accuracy Test Model Fitting \"+\"****\"*5)\n",
    "print(name + \"Score for train data set :\",clf_ard.score(x_train,y_train))\n",
    "#Return the coefficient of determination R^2 of the prediction.\n",
    "print(name + \"Score for test data Set\",clf_ard.score(x_test,y_test))\n",
    "print(name + \"Score for Predictecd data Set\",clf_ard.score(x_test,y_pred_ard)) ##\n",
    "print(\"\\n\"+\"****\"*5+\"R2 Score\"+\"****\"*5)\n",
    "print(name + \"R2 Score for test is = \", r2_score(y_test,y_pred_ard )) ##\n",
    "print(\"\\n\"+\"****\"*5+\"Mean Absolute Error\"+\"****\"*5)\n",
    "print(name+ \"Mean Absolute Error of Test = \", mean_absolute_error(y_test,y_pred_ard )) ##\n",
    "print(name +\"Mean Absolute Error on Train\",mean_absolute_error(y_train,pd.DataFrame(clf_ard.predict(x_train))))\n",
    "print(\"\\n\"+\"****\"*5+\" Mean Squared Error\"+\"****\"*5)\n",
    "print(name + \"Mean Squared Error of Test = \",mean_squared_error(y_test,y_pred_ard)) ##\n",
    "print(name+\"Mean Squared Error on Train = \",mean_squared_error(y_train,pd.DataFrame(clf_ard.predict(x_train))))\n",
    "print(\"\\n\"+\"****\"*5+\" Co Relation\"+\"****\"*5)\n",
    "print(name + \"Correlation Test Data \",stats.pearsonr(y_test[\"RL\"],y_pred_ard[0])[0])\n",
    "print(name + \"Correlation Original Data \",stats.pearsonr(y_train[\"RL\"],pd.DataFrame(clf_ard.predict(x_train))[0])[0])"
   ]
  },
  {
   "cell_type": "markdown",
   "metadata": {},
   "source": [
    "## 3.2  BayesianRidge\n",
    "\n",
    "**```class sklearn.linear_model.BayesianRidge(n_iter=300, tol=0.001, alpha_1=1e-06, alpha_2=1e-06, lambda_1=1e-06, \n",
    "lambda_2=1e-06, alpha_init=None, lambda_init=None, compute_score=False, fit_intercept=True, normalize=False, \n",
    "copy_X=True, verbose=False)```**"
   ]
  },
  {
   "cell_type": "code",
   "execution_count": 48,
   "metadata": {},
   "outputs": [],
   "source": [
    "## Import the library\n",
    "from sklearn.linear_model import BayesianRidge\n",
    "name = \"BayesianRidge\"\n",
    "\n",
    "clf_bay = BayesianRidge().fit(x_train , y_train)\n",
    "\n",
    "y_pred_bay = pd.DataFrame(clf_bay.predict(x_test))"
   ]
  },
  {
   "cell_type": "code",
   "execution_count": 49,
   "metadata": {},
   "outputs": [
    {
     "name": "stdout",
     "output_type": "stream",
     "text": [
      "BayesianRidgeCoefficient  [-0.21906916  1.00384998  0.83390081 ...  0.          0.\n",
      "  0.        ]\n",
      "BayesianRidge Intercept  -1620.262121170943 \n",
      "\n",
      "********************Accuracy Test Model Fitting ********************\n",
      "BayesianRidgeScore for train data set : 0.8987662105838792\n",
      "BayesianRidgeScore for test data Set 0.7191259268639509\n",
      "BayesianRidgeScore for Predictecd data Set 1.0\n",
      "\n",
      "********************R2 Score********************\n",
      "BayesianRidgeR2 Score for test is =  0.7191259268639509\n",
      "\n",
      "********************Mean Absolute Error********************\n",
      "BayesianRidgeMean Absolute Error of Test =  1.6142809012020227\n",
      "BayesianRidgeMean Absolute Error on Train 0.953143132055877\n",
      "\n",
      "******************** Mean Squared Error********************\n",
      "BayesianRidgeMean Squared Error of Test =  4.14643084923552\n",
      "BayesianRidgeMean Squared Error on Train =  1.5843456024958391\n",
      "\n",
      "******************** Co Relation********************\n",
      "BayesianRidgeCorrelation Test Data  0.849223096255013\n",
      "BayesianRidgeCorrelation Original Data  0.9527198889655436\n"
     ]
    }
   ],
   "source": [
    "print(name +\"Coefficient \",clf_bay.coef_) \n",
    "print(name + \" Intercept \" , clf_bay.intercept_,\"\\n\") ##\n",
    "print(\"****\"*5+\"Accuracy Test Model Fitting \"+\"****\"*5)\n",
    "print(name + \"Score for train data set :\",clf_bay.score(x_train,y_train))\n",
    "#Return the coefficient of determination R^2 of the prediction.\n",
    "print(name + \"Score for test data Set\",clf_bay.score(x_test,y_test))\n",
    "print(name + \"Score for Predictecd data Set\",clf_bay.score(x_test,y_pred_bay)) ##\n",
    "print(\"\\n\"+\"****\"*5+\"R2 Score\"+\"****\"*5)\n",
    "print(name + \"R2 Score for test is = \", r2_score(y_test,y_pred_bay)) ##\n",
    "print(\"\\n\"+\"****\"*5+\"Mean Absolute Error\"+\"****\"*5)\n",
    "print(name+ \"Mean Absolute Error of Test = \", mean_absolute_error(y_test,y_pred_bay)) ##\n",
    "print(name +\"Mean Absolute Error on Train\",mean_absolute_error(y_train,pd.DataFrame(clf_bay.predict(x_train))))\n",
    "print(\"\\n\"+\"****\"*5+\" Mean Squared Error\"+\"****\"*5)\n",
    "print(name + \"Mean Squared Error of Test = \",mean_squared_error(y_test,y_pred_bay)) ##\n",
    "print(name+\"Mean Squared Error on Train = \",mean_squared_error(y_train,pd.DataFrame(clf_bay.predict(x_train))))\n",
    "print(\"\\n\"+\"****\"*5+\" Co Relation\"+\"****\"*5)\n",
    "print(name + \"Correlation Test Data \",stats.pearsonr(y_test[\"RL\"],y_pred_bay[0])[0])\n",
    "print(name + \"Correlation Original Data \",stats.pearsonr(y_train[\"RL\"],pd.DataFrame(clf_bay.predict(x_train))[0])[0])"
   ]
  },
  {
   "cell_type": "markdown",
   "metadata": {},
   "source": [
    "## +++++++++++++++++++++++++++++++++++++++++"
   ]
  },
  {
   "cell_type": "markdown",
   "metadata": {},
   "source": [
    "## Part 4. MultiTask Linear Regressors with variable selection\n",
    "These estimators fit multiple regression problems (or tasks) jointly, while including sparse coefficients.While the inferred coefficients may differ between the tasks, they are constrained to agree on the features that are selected(non-zero coefficients)\n",
    "\n",
    "1. linear_model.**MultiTaskElasticNet([alpha, …])**--> Multi-task ElasticNet model trained with L1/L2 mixed-norm as regularizer\n",
    "\n",
    "2. linear_model.**MultiTaskElasticNetCV([…])**--> Multi-task L1/L2 ElasticNet with built-in cross-validation.\n",
    "\n",
    "3. linear_model.**MultiTaskLasso([alpha, …])**--> Multi-task Lasso model trained with L1/L2 mixed-norm as regularizer.\n",
    "\n",
    "4. linear_model.**MultiTaskLassoCV([eps, …])**--> Multi-task Lasso model trained with L1/L2 mixed-norm as regularizer."
   ]
  },
  {
   "cell_type": "markdown",
   "metadata": {},
   "source": [
    "## 4.1 MultiTaskElasticNet\n",
    "class sklearn.linear_model.**MultiTaskElasticNet**(alpha=1.0, l1_ratio=0.5, fit_intercept=True, normalize=False, copy_X=True, max_iter=1000, tol=0.0001, warm_start=False, random_state=None, selection='cyclic')\n",
    "\n",
    "**Multi-task ElasticNet Model trained with L1/L2 mixed-norm as regularizer**\n",
    "The optimization objective for MultiTaskElasticNet is : <br>\n",
    "\n",
    "(1 / (2 * n_samples)) * ||Y - XW||_Fro^2 + alpha * l1_ratio * ||W||_21+ 0.5 * alpha * (1 - l1_ratio) * ||W||_Fro^2\n",
    "<br> where <br>\n",
    "||W||_21 = sum_i sqrt(sum_j w_ij ^ 2)"
   ]
  },
  {
   "cell_type": "code",
   "execution_count": 50,
   "metadata": {},
   "outputs": [],
   "source": [
    "# import library\n",
    "from sklearn.linear_model import MultiTaskElasticNet\n",
    "\n",
    "name = \"MT_Enet\"\n",
    "reg_MT_Enet = MultiTaskElasticNet(alpha = 0.10).fit(x_train, y_train)\n",
    "\n",
    "y_pred_MT_Enet = pd.DataFrame(reg_MT_Enet.predict(x_test))"
   ]
  },
  {
   "cell_type": "code",
   "execution_count": 51,
   "metadata": {},
   "outputs": [
    {
     "name": "stdout",
     "output_type": "stream",
     "text": [
      "MT_EnetCoefficient  [[0. 0. 0. ... 0. 0. 0.]]\n",
      "MT_Enet Intercept  [16.59107186] \n",
      "\n",
      "********************Accuracy Test Model Fitting ********************\n",
      "MT_EnetScore for train data set : 0.08667594770382203\n",
      "MT_EnetScore for test data Set 0.08750857630410434\n",
      "MT_EnetScore for Predictecd data Set 1.0\n",
      "\n",
      "********************R2 Score********************\n",
      "MT_EnetR2 Score for test is =  0.08750857630410436\n",
      "\n",
      "********************Mean Absolute Error********************\n",
      "MT_EnetMean Absolute Error of Test =  2.9472774273997846\n",
      "MT_EnetMean Absolute Error on Train 3.0107316916862894\n",
      "\n",
      "******************** Mean Squared Error********************\n",
      "MT_EnetMean Squared Error of Test =  13.470743478138044\n",
      "MT_EnetMean Squared Error on Train =  14.293853408580405\n",
      "\n",
      "******************** Co Relation********************\n",
      "MT_EnetCorrelation Test Data  0.3181953523965807\n",
      "MT_EnetCorrelation Original Data  0.3094635938086876\n"
     ]
    }
   ],
   "source": [
    "print(name +\"Coefficient \",reg_MT_Enet.coef_) \n",
    "print(name + \" Intercept \" , reg_MT_Enet.intercept_,\"\\n\") ##\n",
    "print(\"****\"*5+\"Accuracy Test Model Fitting \"+\"****\"*5)\n",
    "print(name + \"Score for train data set :\",reg_MT_Enet.score(x_train,y_train))\n",
    "#Return the coefficient of determination R^2 of the prediction.\n",
    "print(name + \"Score for test data Set\",reg_MT_Enet.score(x_test,y_test))\n",
    "print(name + \"Score for Predictecd data Set\",reg_MT_Enet.score(x_test,y_pred_MT_Enet)) ##\n",
    "print(\"\\n\"+\"****\"*5+\"R2 Score\"+\"****\"*5)\n",
    "print(name + \"R2 Score for test is = \", r2_score(y_test,y_pred_MT_Enet)) ##\n",
    "print(\"\\n\"+\"****\"*5+\"Mean Absolute Error\"+\"****\"*5)\n",
    "print(name+ \"Mean Absolute Error of Test = \", mean_absolute_error(y_test,y_pred_MT_Enet)) ##\n",
    "print(name +\"Mean Absolute Error on Train\",mean_absolute_error(y_train,pd.DataFrame(reg_MT_Enet.predict(x_train))))\n",
    "print(\"\\n\"+\"****\"*5+\" Mean Squared Error\"+\"****\"*5)\n",
    "print(name + \"Mean Squared Error of Test = \",mean_squared_error(y_test,y_pred_MT_Enet)) ##\n",
    "print(name+\"Mean Squared Error on Train = \",mean_squared_error(y_train,pd.DataFrame(reg_MT_Enet.predict(x_train))))\n",
    "print(\"\\n\"+\"****\"*5+\" Co Relation\"+\"****\"*5)\n",
    "print(name + \"Correlation Test Data \",stats.pearsonr(y_test[\"RL\"],y_pred_MT_Enet[0])[0])\n",
    "print(name + \"Correlation Original Data \",stats.pearsonr(y_train[\"RL\"],pd.DataFrame(reg_MT_Enet.predict(x_train))[0])[0])"
   ]
  },
  {
   "cell_type": "markdown",
   "metadata": {},
   "source": [
    "## 4.2 MultiTaskElasticNetCV \n",
    "class sklearn.linear_model.**MultiTaskElasticNetCV**(l1_ratio=0.5, eps=0.001, n_alphas=100, alphas=None, fit_intercept=True, normalize=False, max_iter=1000, tol=0.0001, cv=None, copy_X=True, verbose=0, n_jobs=None, random_state=None, selection='cyclic')\n",
    "\n",
    "**Multi-task L1/L2 ElasticNet with built-in cross-validation.** "
   ]
  },
  {
   "cell_type": "markdown",
   "metadata": {},
   "source": [
    "r \"\"\"(1 / (2 * n_samples)) * ||Y - XW||^Fro_2\n",
    "+ alpha * l1_ratio * ||W||_21\n",
    "+ 0.5 * alpha * (1 - l1_ratio) * ||W||_Fro^2 \"\"\""
   ]
  },
  {
   "cell_type": "code",
   "execution_count": 53,
   "metadata": {},
   "outputs": [],
   "source": [
    "#import the Model\n",
    "\n",
    "# To much Time Consuming\n",
    "\n",
    "from sklearn.linear_model import MultiTaskElasticNetCV\n",
    "reg_MT_ECV = MultiTaskElasticNetCV(cv =10).fit(x_train , y_train)\n",
    "\n",
    "y_pred_MT_ECV = pd.DataFrame(reg_MT_ECV.predict(x_test))"
   ]
  },
  {
   "cell_type": "code",
   "execution_count": null,
   "metadata": {},
   "outputs": [],
   "source": [
    "print(name +\"Coefficient \",reg_MT_ECV.coef_) \n",
    "print(name + \" Intercept \" , reg_MT_ECV.intercept_,\"\\n\") ##\n",
    "print(\"****\"*5+\"Accuracy Test Model Fitting \"+\"****\"*5)\n",
    "print(name + \"Score for train data set :\",reg_MT_ECV.score(x_train,y_train))\n",
    "#Return the coefficient of determination R^2 of the prediction.\n",
    "print(name + \"Score for test data Set\",reg_MT_ECV.score(x_test,y_test))\n",
    "print(name + \"Score for Predictecd data Set\",reg_MT_ECV.score(x_test,y_pred_MT_ECV)) ##\n",
    "print(\"\\n\"+\"****\"*5+\"R2 Score\"+\"****\"*5)\n",
    "print(name + \"R2 Score for test is = \", r2_score(y_test,y_pred_MT_ECV)) ##\n",
    "print(\"\\n\"+\"****\"*5+\"Mean Absolute Error\"+\"****\"*5)\n",
    "print(name+ \"Mean Absolute Error of Test = \", mean_absolute_error(y_test,y_pred_MT_ECV)) ##\n",
    "print(name +\"Mean Absolute Error on Train\",mean_absolute_error(y_train,pd.DataFrame(reg_MT_ECV.predict(x_train))))\n",
    "print(\"\\n\"+\"****\"*5+\" Mean Squared Error\"+\"****\"*5)\n",
    "print(name + \"Mean Squared Error of Test = \",mean_squared_error(y_test,y_pred_MT_ECV)) ##\n",
    "print(name+\"Mean Squared Error on Train = \",mean_squared_error(y_train,pd.DataFrame(reg_MT_ECV.predict(x_train))))\n",
    "print(\"\\n\"+\"****\"*5+\" Co Relation\"+\"****\"*5)\n",
    "print(name + \"Correlation Test Data \",stats.pearsonr(y_test[\"RL\"],y_pred_MT_ECV[0])[0])\n",
    "print(name + \"Correlation Original Data \",stats.pearsonr(y_train[\"RL\"],pd.DataFrame(reg_MT_ECV.predict(x_train))[0])[0])"
   ]
  },
  {
   "cell_type": "markdown",
   "metadata": {},
   "source": [
    "## 4.3 MultiTaskLasso\n",
    "class sklearn.linear_model.MultiTaskLasso(alpha=1.0, fit_intercept=True, normalize=False, copy_X=True, max_iter=1000, tol=0.0001, warm_start=False, random_state=None, selection='cyclic')\n",
    "\n",
    "The optimization objective for Lasso is:<br>\n",
    "**(1 / (2 * n_samples)) * ||Y - XW||^2_Fro + alpha * ||W||_21**\n",
    "where<br>\n",
    "**||W||_21 = \\sum_i \\sqrt{\\sum_j w_{ij}^2}**"
   ]
  },
  {
   "cell_type": "code",
   "execution_count": 54,
   "metadata": {},
   "outputs": [],
   "source": [
    "#import the Library\n",
    "from sklearn.linear_model import MultiTaskLasso\n",
    "name = \"MT_Lasso\"\n",
    "#Create a object\n",
    "clf_MT_Lasso = MultiTaskLasso(alpha = 0.1).fit(x_train,y_train)\n",
    "\n",
    "y_pred_MT_Lasso =pd.DataFrame(clf_MT_Lasso.predict(x_test))"
   ]
  },
  {
   "cell_type": "code",
   "execution_count": 55,
   "metadata": {},
   "outputs": [
    {
     "name": "stdout",
     "output_type": "stream",
     "text": [
      "MT_LassoCoefficient  [[0. 0. 0. ... 0. 0. 0.]]\n",
      "MT_Lasso Intercept  [17.11146106] \n",
      "\n",
      "********************Accuracy Test Model Fitting ********************\n",
      "MT_LassoScore for train data set : 0.08490076400403435\n",
      "MT_LassoScore for test data Set 0.08616183422221002\n",
      "MT_LassoScore for Predictecd data Set 1.0\n",
      "\n",
      "********************R2 Score********************\n",
      "MT_LassoR2 Score for test is =  0.08616183422221002\n",
      "\n",
      "********************Mean Absolute Error********************\n",
      "MT_LassoMean Absolute Error of Test =  2.949642931767552\n",
      "MT_LassoMean Absolute Error on Train 3.012992671580457\n",
      "\n",
      "******************** Mean Squared Error********************\n",
      "MT_LassoMean Squared Error of Test =  13.490624889234416\n",
      "MT_LassoMean Squared Error on Train =  14.32163567875524\n",
      "\n",
      "******************** Co Relation********************\n",
      "MT_LassoCorrelation Test Data  0.307170948910342\n",
      "MT_LassoCorrelation Original Data  0.2972642356881509\n"
     ]
    }
   ],
   "source": [
    "print(name +\"Coefficient \",clf_MT_Lasso .coef_) \n",
    "print(name + \" Intercept \" , clf_MT_Lasso .intercept_,\"\\n\") ##\n",
    "print(\"****\"*5+\"Accuracy Test Model Fitting \"+\"****\"*5)\n",
    "print(name + \"Score for train data set :\",clf_MT_Lasso.score(x_train,y_train))\n",
    "#Return the coefficient of determination R^2 of the prediction.\n",
    "print(name + \"Score for test data Set\",clf_MT_Lasso.score(x_test,y_test))\n",
    "print(name + \"Score for Predictecd data Set\",clf_MT_Lasso .score(x_test,y_pred_MT_Lasso)) ##\n",
    "print(\"\\n\"+\"****\"*5+\"R2 Score\"+\"****\"*5)\n",
    "print(name + \"R2 Score for test is = \", r2_score(y_test,y_pred_MT_Lasso)) ##\n",
    "print(\"\\n\"+\"****\"*5+\"Mean Absolute Error\"+\"****\"*5)\n",
    "print(name+ \"Mean Absolute Error of Test = \", mean_absolute_error(y_test,y_pred_MT_Lasso)) ##\n",
    "print(name +\"Mean Absolute Error on Train\",mean_absolute_error(y_train,pd.DataFrame(clf_MT_Lasso.predict(x_train))))\n",
    "print(\"\\n\"+\"****\"*5+\" Mean Squared Error\"+\"****\"*5)\n",
    "print(name + \"Mean Squared Error of Test = \",mean_squared_error(y_test,y_pred_MT_Lasso)) ##\n",
    "print(name+\"Mean Squared Error on Train = \",mean_squared_error(y_train,pd.DataFrame(clf_MT_Lasso.predict(x_train))))\n",
    "print(\"\\n\"+\"****\"*5+\" Co Relation\"+\"****\"*5)\n",
    "print(name + \"Correlation Test Data \",stats.pearsonr(y_test[\"RL\"],y_pred_MT_Lasso[0])[0])\n",
    "print(name + \"Correlation Original Data \",stats.pearsonr(y_train[\"RL\"],pd.DataFrame(clf_MT_Lasso.predict(x_train))[0])[0])"
   ]
  },
  {
   "cell_type": "markdown",
   "metadata": {},
   "source": [
    "### 4.4 MultiTasklassoCV \n",
    "class sklearn.linear_model.**MultiTaskLassoCV**(eps=0.001, n_alphas=100, alphas=None, fit_intercept=True, normalize=False, max_iter=1000, tol=0.0001, copy_X=True, cv=None, verbose=False, n_jobs=None, random_state=None, selection='cyclic')\n",
    "<br>\n",
    "**Multi-task Lasso model trained with L1/L2 mixed-norm as regularizer**<br>\n",
    "(1 / (2 * n_samples)) * ||Y - XW||^Fro_2 + alpha * ||W||_21\n",
    "<br>\n",
    "Where<br>\n",
    "||W||_21 = \\sum_i \\sqrt{\\sum_j w_{ij}^2}"
   ]
  },
  {
   "cell_type": "code",
   "execution_count": 57,
   "metadata": {},
   "outputs": [],
   "source": [
    "#import the library\n",
    "#from sklearn.linear_model import MultiTaskLassoCV\n",
    "#\n",
    "#name = \"MT_LassoCV\"\n",
    "##Create a object\n",
    "#reg_MT_LassoCV = MultiTaskLassoCV(cv =10, random_state =0).fit(x_train,y_train)\n",
    "#\n",
    "#y_pred_MT_LassoCV =pd.DataFrame(reg_MT_LassoCV.predict(x_test))"
   ]
  },
  {
   "cell_type": "code",
   "execution_count": null,
   "metadata": {},
   "outputs": [],
   "source": [
    "print(name +\"Coefficient \",reg_MT_LassoCV.coef_) \n",
    "print(name + \" Intercept \" , reg_MT_LassoCV.intercept_,\"\\n\") ##\n",
    "print(\"****\"*5+\"Accuracy Test Model Fitting \"+\"****\"*5)\n",
    "print(name + \"Score for train data set :\",reg_MT_LassoCV.score(x_train,y_train))\n",
    "#Return the coefficient of determination R^2 of the prediction.\n",
    "print(name + \"Score for test data Set\",reg_MT_LassoCV.score(x_test,y_test))\n",
    "print(name + \"Score for Predictecd data Set\",reg_MT_LassoCV.score(x_test,y_pred_MT_LassoCV)) ##\n",
    "print(\"\\n\"+\"****\"*5+\"R2 Score\"+\"****\"*5)\n",
    "print(name + \"R2 Score for test is = \", r2_score(y_test,y_pred_MT_LassoCV)) ##\n",
    "print(\"\\n\"+\"****\"*5+\"Mean Absolute Error\"+\"****\"*5)\n",
    "print(name+ \"Mean Absolute Error of Test = \", mean_absolute_error(y_test,y_pred_MT_LassoCV)) ##\n",
    "print(name +\"Mean Absolute Error on Train\",mean_absolute_error(y_train,pd.DataFrame(reg_MT_LassoCV.predict(x_train))))\n",
    "print(\"\\n\"+\"****\"*5+\" Mean Squared Error\"+\"****\"*5)\n",
    "print(name + \"Mean Squared Error of Test = \",mean_squared_error(y_test,y_pred_MT_LassoCV)) ##\n",
    "print(name+\"Mean Squared Error on Train = \",mean_squared_error(y_train,pd.DataFrame(reg_MT_LassoCV.predict(x_train))))\n",
    "print(\"\\n\"+\"****\"*5+\" Co Relation\"+\"****\"*5)\n",
    "print(name + \"Correlation Test Data \",stats.pearsonr(y_test[\"RL\"],y_pred_MT_LassoCV[0])[0])\n",
    "print(name + \"Correlation Original Data \",stats.pearsonr(y_train[\"RL\"],pd.DataFrame(reg_MT_LassoCV.predict(x_train))[0])[0])"
   ]
  },
  {
   "cell_type": "markdown",
   "metadata": {},
   "source": [
    "# 5 Outlier-robust regressors\n",
    "`Any estimator using the Huber loss would also be robust to outliers, e.g. SGDRegressor with loss='huber'.`\n",
    "\n",
    "1. **linear_model.HuberRegressor([epsilon, …])--> Linear regression model that is robust to outliers.**\n",
    "\n",
    "2. **linear_model.RANSACRegressor([…])--> RANSAC (RANdom SAmple Consensus) algorithm.**\n",
    "\n",
    "3. **linear_model.TheilSenRegressor([…])--> Theil-Sen Estimator: robust multivariate regression model.**\n"
   ]
  },
  {
   "cell_type": "markdown",
   "metadata": {},
   "source": [
    "## 5.1 HuberRegressor()\n",
    "`class sklearn.linear_model.HuberRegressor(epsilon=1.35, max_iter=100, alpha=0.0001, warm_start=False, fit_intercept=True, tol=1e-05)`\n",
    "\n",
    "**Methods** <br>\n",
    "\n",
    "**fit(self, X, y[, sample_weight])**--> Fit the model according to the given training data.\n",
    "\n",
    "**get_params(self[, deep])**--> Get parameters for this estimator.\n",
    "\n",
    "**predict(self, X)**--> Predict using the linear model.\n",
    "\n",
    "**score(self, X, y[, sample_weight])**--> Return the coefficient of determination R^2 of the prediction.\n",
    "\n",
    "**set_params(self, \\*\\*params)**--> Set the parameters of this estimator."
   ]
  },
  {
   "cell_type": "code",
   "execution_count": 58,
   "metadata": {},
   "outputs": [],
   "source": [
    "# import Library\n",
    "from sklearn.linear_model import HuberRegressor , LinearRegression\n",
    "name = \"HuberRegressor\"\n",
    "\n",
    "huber = HuberRegressor().fit(x_train,y_train)\n",
    "y_pred_huber =pd.DataFrame(huber.predict(x_test))"
   ]
  },
  {
   "cell_type": "code",
   "execution_count": 59,
   "metadata": {},
   "outputs": [
    {
     "name": "stdout",
     "output_type": "stream",
     "text": [
      "HuberRegressorCoefficient  [-0.37313242  0.60874438  0.15680258 ...  0.          0.\n",
      "  0.        ]\n",
      "HuberRegressor Intercept  -0.4301457804817125 \n",
      "\n",
      "********************Accuracy Test Model Fitting ********************\n",
      "HuberRegressorScore for train data set : 0.6165714743671823\n",
      "HuberRegressorScore for test data Set 0.47286692433821986\n",
      "HuberRegressorScore for Predictecd data Set 1.0\n",
      "\n",
      "********************R2 Score********************\n",
      "HuberRegressorR2 Score for test is =  0.47286692433821986\n",
      "\n",
      "********************Mean Absolute Error********************\n",
      "HuberRegressorMean Absolute Error of Test =  2.2263913064836496\n",
      "HuberRegressorMean Absolute Error on Train 1.840016415528004\n",
      "\n",
      "******************** Mean Squared Error********************\n",
      "HuberRegressorMean Squared Error of Test =  7.781853348627491\n",
      "HuberRegressorMean Squared Error on Train =  6.00079580110117\n",
      "\n",
      "******************** Co Relation********************\n",
      "HuberRegressorCorrelation Test Data  0.6943863827879491\n",
      "HuberRegressorCorrelation Original Data  0.7937865862583429\n"
     ]
    }
   ],
   "source": [
    "print(name +\"Coefficient \",huber.coef_) \n",
    "print(name + \" Intercept \" , huber.intercept_,\"\\n\") ##\n",
    "print(\"****\"*5+\"Accuracy Test Model Fitting \"+\"****\"*5)\n",
    "print(name + \"Score for train data set :\",huber.score(x_train,y_train))\n",
    "#Return the coefficient of determination R^2 of the prediction.\n",
    "print(name + \"Score for test data Set\",huber.score(x_test,y_test))\n",
    "print(name + \"Score for Predictecd data Set\",huber.score(x_test,y_pred_huber)) ##\n",
    "print(\"\\n\"+\"****\"*5+\"R2 Score\"+\"****\"*5)\n",
    "print(name + \"R2 Score for test is = \", r2_score(y_test,y_pred_huber)) ##\n",
    "print(\"\\n\"+\"****\"*5+\"Mean Absolute Error\"+\"****\"*5)\n",
    "print(name+ \"Mean Absolute Error of Test = \", mean_absolute_error(y_test,y_pred_huber)) ##\n",
    "print(name +\"Mean Absolute Error on Train\",mean_absolute_error(y_train,pd.DataFrame(huber.predict(x_train))))\n",
    "print(\"\\n\"+\"****\"*5+\" Mean Squared Error\"+\"****\"*5)\n",
    "print(name + \"Mean Squared Error of Test = \",mean_squared_error(y_test,y_pred_huber)) ##\n",
    "print(name+\"Mean Squared Error on Train = \",mean_squared_error(y_train,pd.DataFrame(huber.predict(x_train))))\n",
    "print(\"\\n\"+\"****\"*5+\" Co Relation\"+\"****\"*5)\n",
    "print(name + \"Correlation Test Data \",stats.pearsonr(y_test[\"RL\"],y_pred_huber[0])[0])\n",
    "print(name + \"Correlation Original Data \",stats.pearsonr(y_train[\"RL\"],pd.DataFrame(huber.predict(x_train))[0])[0])"
   ]
  },
  {
   "cell_type": "markdown",
   "metadata": {},
   "source": [
    "## Deep Learning"
   ]
  },
  {
   "cell_type": "code",
   "execution_count": null,
   "metadata": {},
   "outputs": [],
   "source": [
    "#from tensorflow.python import keras\n",
    "#from tensorflow.python.keras.models import Sequential\n",
    "#from tensorflow.python.keras.layers import Dense, Flatten, Conv2D, Dropout"
   ]
  },
  {
   "cell_type": "code",
   "execution_count": null,
   "metadata": {},
   "outputs": [],
   "source": [
    "#import scipy\n",
    "#import numpy as np\n",
    "#import matplotlib as plt\n",
    "#import pandas as pd\n",
    "#import sklearn\n",
    "#import pydot\n",
    "#import h5py\n",
    "#import tensorflow\n",
    "#from tensorflow import keras\n",
    "##import theano"
   ]
  },
  {
   "cell_type": "code",
   "execution_count": null,
   "metadata": {},
   "outputs": [],
   "source": [
    "#print(\"SCIPY_Version\",scipy.__version__)\n",
    "#print(\"Numpy_Version\",np.__version__) #We imported as np so\n",
    "#print(\"matplotlib_Version\",plt.__version__) #we imported as plt so \n",
    "#print(\"pandas_Version\",pd.__version__)\n",
    "#print(\"Sk_learn_Version\",sklearn.__version__)\n",
    "#print(\"pydot_Version\",pydot.__version__)\n",
    "#print(\"h5py_Version\",h5py.__version__)\n",
    "##print(\"theano_Version\",theano.__version__)\n",
    "#print(\"tensorflow_Version\",tensorflow.__version__)"
   ]
  },
  {
   "cell_type": "markdown",
   "metadata": {},
   "source": [
    "## Checking Weather the basic Deep Learning Model is running or Not"
   ]
  },
  {
   "cell_type": "markdown",
   "metadata": {},
   "source": [
    "## Build the Model"
   ]
  },
  {
   "cell_type": "code",
   "execution_count": null,
   "metadata": {},
   "outputs": [],
   "source": []
  },
  {
   "cell_type": "code",
   "execution_count": null,
   "metadata": {},
   "outputs": [],
   "source": [
    "#model = keras.Sequential([\n",
    "#    keras.layers.Flatten(input_shape = (28,28)),\n",
    "#    \n",
    "#    keras.layers.Dense(128, activation = \"relu\",input_shape = [len(x_train)]),\n",
    "#    keras.layers.Dense(10,activation= \"softmax\")\n",
    "#    \n",
    "#    keras.Dense(1)\n",
    "#])"
   ]
  },
  {
   "cell_type": "code",
   "execution_count": null,
   "metadata": {},
   "outputs": [],
   "source": [
    "#model.summary()\n",
    "#len(x_train)"
   ]
  },
  {
   "cell_type": "markdown",
   "metadata": {},
   "source": [
    "## Compile the Model"
   ]
  },
  {
   "cell_type": "code",
   "execution_count": null,
   "metadata": {},
   "outputs": [],
   "source": [
    "#Loss Function --> This Measures how ccurate the Model is during training. We want to minimize this function to \"steer\"\n",
    "# the model tight direction\n",
    "\n",
    "# Optimizer --> This is how the model is updated based on the data it sees and its loss function \n",
    "\n",
    "#Metrics --> Used to monitor the training and testing steps\n",
    "#The Following example uses accuracy, the fraction of the images that are correctly classified."
   ]
  },
  {
   "cell_type": "code",
   "execution_count": null,
   "metadata": {},
   "outputs": [],
   "source": []
  },
  {
   "cell_type": "code",
   "execution_count": null,
   "metadata": {},
   "outputs": [],
   "source": []
  }
 ],
 "metadata": {
  "kernelspec": {
   "display_name": "Python 3.7.4 64-bit ('base': conda)",
   "language": "python",
   "name": "python37464bitbaseconda67970ada4b5d499c879aef5e70dc73ee"
  },
  "language_info": {
   "codemirror_mode": {
    "name": "ipython",
    "version": 3
   },
   "file_extension": ".py",
   "mimetype": "text/x-python",
   "name": "python",
   "nbconvert_exporter": "python",
   "pygments_lexer": "ipython3",
   "version": "3.7.4"
  }
 },
 "nbformat": 4,
 "nbformat_minor": 2
}
