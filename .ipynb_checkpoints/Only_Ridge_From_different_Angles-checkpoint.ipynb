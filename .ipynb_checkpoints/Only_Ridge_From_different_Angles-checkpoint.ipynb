{
 "cells": [
  {
   "cell_type": "code",
   "execution_count": 5,
   "metadata": {},
   "outputs": [],
   "source": [
    "import pandas as pd\n",
    "import numpy as np\n",
    "from scipy import stats\n",
    "\n",
    "from sklearn.model_selection import train_test_split , cross_val_score\n",
    "from sklearn.metrics import r2_score , mean_squared_error\n",
    "from sklearn.metrics import accuracy_score ,mean_absolute_error"
   ]
  },
  {
   "cell_type": "code",
   "execution_count": 6,
   "metadata": {},
   "outputs": [],
   "source": [
    "import warnings\n",
    "warnings.filterwarnings(\"ignore\")"
   ]
  },
  {
   "cell_type": "markdown",
   "metadata": {},
   "source": [
    "# Load the data"
   ]
  },
  {
   "cell_type": "code",
   "execution_count": 7,
   "metadata": {},
   "outputs": [],
   "source": [
    "x = pd.read_csv(\"../trgc10000.csv\")\n",
    "x = x.iloc[:,1:]\n",
    "y = pd.read_csv(\"../srlbininfo_10000\",sep =\"\\t\",header =None )\n",
    "y = pd.DataFrame(y.iloc[:,1])\n",
    "y.columns = [\"GC\"]\n",
    "\n",
    "df = pd.concat([y,x],axis =1)\n",
    "\n",
    "#df = df[df.GC < 20]             # !  Ignore values more than 25\n",
    "y = pd.DataFrame(df.loc[:,\"GC\"])\n",
    "\n",
    "x = df.iloc[:,1:]  #    ! * remove 8000 for original\n",
    "\n",
    "#Caution X Column up to 8000 above that outlier and y.GC Less than "
   ]
  },
  {
   "cell_type": "code",
   "execution_count": 8,
   "metadata": {},
   "outputs": [
    {
     "data": {
      "text/html": [
       "<div>\n",
       "<style scoped>\n",
       "    .dataframe tbody tr th:only-of-type {\n",
       "        vertical-align: middle;\n",
       "    }\n",
       "\n",
       "    .dataframe tbody tr th {\n",
       "        vertical-align: top;\n",
       "    }\n",
       "\n",
       "    .dataframe thead th {\n",
       "        text-align: right;\n",
       "    }\n",
       "</style>\n",
       "<table border=\"1\" class=\"dataframe\">\n",
       "  <thead>\n",
       "    <tr style=\"text-align: right;\">\n",
       "      <th></th>\n",
       "      <th>V1</th>\n",
       "      <th>V2</th>\n",
       "      <th>V3</th>\n",
       "      <th>V4</th>\n",
       "      <th>V5</th>\n",
       "      <th>V6</th>\n",
       "      <th>V7</th>\n",
       "      <th>V8</th>\n",
       "      <th>V9</th>\n",
       "      <th>V10</th>\n",
       "      <th>...</th>\n",
       "      <th>V10323</th>\n",
       "      <th>V10324</th>\n",
       "      <th>V10325</th>\n",
       "      <th>V10326</th>\n",
       "      <th>V10327</th>\n",
       "      <th>V10328</th>\n",
       "      <th>V10329</th>\n",
       "      <th>V10330</th>\n",
       "      <th>V10331</th>\n",
       "      <th>V10332</th>\n",
       "    </tr>\n",
       "  </thead>\n",
       "  <tbody>\n",
       "    <tr>\n",
       "      <td>0</td>\n",
       "      <td>0.879025</td>\n",
       "      <td>0.687329</td>\n",
       "      <td>0.983194</td>\n",
       "      <td>0.970820</td>\n",
       "      <td>0.900728</td>\n",
       "      <td>0.735702</td>\n",
       "      <td>0.960757</td>\n",
       "      <td>1.074772</td>\n",
       "      <td>1.597032</td>\n",
       "      <td>1.156174</td>\n",
       "      <td>...</td>\n",
       "      <td>0</td>\n",
       "      <td>0</td>\n",
       "      <td>0</td>\n",
       "      <td>0</td>\n",
       "      <td>0</td>\n",
       "      <td>0</td>\n",
       "      <td>0</td>\n",
       "      <td>0</td>\n",
       "      <td>0</td>\n",
       "      <td>0</td>\n",
       "    </tr>\n",
       "    <tr>\n",
       "      <td>1</td>\n",
       "      <td>0.869801</td>\n",
       "      <td>0.620215</td>\n",
       "      <td>1.008849</td>\n",
       "      <td>0.926203</td>\n",
       "      <td>0.884105</td>\n",
       "      <td>0.884811</td>\n",
       "      <td>1.020117</td>\n",
       "      <td>0.987255</td>\n",
       "      <td>1.335856</td>\n",
       "      <td>1.170143</td>\n",
       "      <td>...</td>\n",
       "      <td>0</td>\n",
       "      <td>0</td>\n",
       "      <td>0</td>\n",
       "      <td>0</td>\n",
       "      <td>0</td>\n",
       "      <td>0</td>\n",
       "      <td>0</td>\n",
       "      <td>0</td>\n",
       "      <td>0</td>\n",
       "      <td>0</td>\n",
       "    </tr>\n",
       "  </tbody>\n",
       "</table>\n",
       "<p>2 rows × 10332 columns</p>\n",
       "</div>"
      ],
      "text/plain": [
       "         V1        V2        V3        V4        V5        V6        V7  \\\n",
       "0  0.879025  0.687329  0.983194  0.970820  0.900728  0.735702  0.960757   \n",
       "1  0.869801  0.620215  1.008849  0.926203  0.884105  0.884811  1.020117   \n",
       "\n",
       "         V8        V9       V10  ...  V10323  V10324  V10325  V10326  V10327  \\\n",
       "0  1.074772  1.597032  1.156174  ...       0       0       0       0       0   \n",
       "1  0.987255  1.335856  1.170143  ...       0       0       0       0       0   \n",
       "\n",
       "   V10328  V10329  V10330  V10331  V10332  \n",
       "0       0       0       0       0       0  \n",
       "1       0       0       0       0       0  \n",
       "\n",
       "[2 rows x 10332 columns]"
      ]
     },
     "metadata": {},
     "output_type": "display_data"
    },
    {
     "data": {
      "text/html": [
       "<div>\n",
       "<style scoped>\n",
       "    .dataframe tbody tr th:only-of-type {\n",
       "        vertical-align: middle;\n",
       "    }\n",
       "\n",
       "    .dataframe tbody tr th {\n",
       "        vertical-align: top;\n",
       "    }\n",
       "\n",
       "    .dataframe thead th {\n",
       "        text-align: right;\n",
       "    }\n",
       "</style>\n",
       "<table border=\"1\" class=\"dataframe\">\n",
       "  <thead>\n",
       "    <tr style=\"text-align: right;\">\n",
       "      <th></th>\n",
       "      <th>GC</th>\n",
       "    </tr>\n",
       "  </thead>\n",
       "  <tbody>\n",
       "    <tr>\n",
       "      <td>0</td>\n",
       "      <td>19.052706</td>\n",
       "    </tr>\n",
       "    <tr>\n",
       "      <td>1</td>\n",
       "      <td>17.772070</td>\n",
       "    </tr>\n",
       "  </tbody>\n",
       "</table>\n",
       "</div>"
      ],
      "text/plain": [
       "          GC\n",
       "0  19.052706\n",
       "1  17.772070"
      ]
     },
     "metadata": {},
     "output_type": "display_data"
    }
   ],
   "source": [
    "display(x.head(2))\n",
    "display(y.head(2))"
   ]
  },
  {
   "cell_type": "code",
   "execution_count": 115,
   "metadata": {},
   "outputs": [],
   "source": [
    "x_train= None\n",
    "x_test = None\n",
    "y_train = None\n",
    "y_test = None\n",
    "y_pred_ridge = None\n",
    "clf_lasso = None ; y_pred_lasso = None"
   ]
  },
  {
   "cell_type": "code",
   "execution_count": 87,
   "metadata": {},
   "outputs": [],
   "source": [
    "def train_test(size = 0.25 , random_state=50,shuffle = True):\n",
    "    \"size = train size and random state is how the data are mixed and shuffle in to do mixing or not  \"\n",
    "    from sklearn.model_selection import train_test_split\n",
    "    global x_train,x_test,y_train, y_test\n",
    "    x_train= None; x_test = None; y_train = None; y_test = None\n",
    "    x_train,x_test,y_train, y_test = train_test_split(x,y,test_size= size,random_state = random_state , shuffle = shuffle)\n",
    "    \n",
    "    return x_train,x_test,y_train, y_test "
   ]
  },
  {
   "cell_type": "code",
   "execution_count": 196,
   "metadata": {},
   "outputs": [],
   "source": [
    "#train_test() # Calling The Function with default Parameter\n",
    "#print(y_train.shape)\n",
    "#display(y_train.head(2))\n",
    "#print(x_train.shape)\n",
    "#display(x_train.head())"
   ]
  },
  {
   "cell_type": "markdown",
   "metadata": {},
   "source": [
    "##  Create a Function for Lasso"
   ]
  },
  {
   "cell_type": "code",
   "execution_count": 147,
   "metadata": {},
   "outputs": [],
   "source": [
    "#Create a Lasso Model to automatically apply in the loop\n",
    "\n",
    "def lasso( alpha=1.0, fit_intercept=True, normalize=False, precompute=False, copy_X=True, \n",
    "                      max_iter=1000, tol=0.0001, warm_start=False, positive=False,selection='cyclic'):\n",
    "    \n",
    "    \"Just Pass Related values only\"\n",
    "    \n",
    "    from sklearn.linear_model import Lasso\n",
    "    from sklearn.model_selection import train_test_split\n",
    "    global x_train,x_test,y_train, y_test , clf_lasso , y_pred_lasso\n",
    "    \n",
    "    clf_lasso = Lasso(alpha=alpha, fit_intercept=fit_intercept , normalize=normalize, precompute=precompute, copy_X=copy_X, \n",
    "                      max_iter=max_iter, tol=tol, warm_start=warm_start, positive=positive,selection=selection).fit(x_test,y_test)\n",
    "    \n",
    "    y_pred_lasso = pd.DataFrame(clf_lasso.predict(x_test))\n",
    "    name = \"Lasso\"\n",
    "    # *****************************************************************\n",
    "    \n",
    "    print(name +\" Coefficient \", clf_lasso.coef_) \n",
    "    print(name + \" Intercept \" , clf_lasso.intercept_,\"\\n\") ##\n",
    "    print(\"****\"*5+\"Accuracy Test Model Fitting \"+\"****\"*5)\n",
    "    print(name + \"Score for train data set :\",clf_lasso.score(x_train,y_train))\n",
    "    print(name + \"Score for test data Set\",clf_lasso.score(x_test,y_test))\n",
    "\n",
    "    print(name + \"Score for Predictecd data Set\",clf_lasso.score(x_test,y_pred_lasso)) ##\n",
    "    \n",
    "    print(\"\\n\"+\"****\"*5+\"R2 Score\"+\"****\"*5)\n",
    "    print(name + \"R2 Score for test is = \", r2_score(y_test, y_pred_lasso)) ##\n",
    "    \n",
    "    print(\"\\n\"+\"****\"*5+\"Mean Absolute Error\"+\"****\"*5)\n",
    "    print(name+ \"Mean Absolute Error of Test = \", mean_absolute_error(y_test,y_pred_lasso)) ##\n",
    "    print(name +\"Mean Absolute Error on Train\",mean_absolute_error(y_train,pd.DataFrame(clf_lasso.predict(x_train))))\n",
    "    \n",
    "    print(\"\\n\"+\"****\"*5+\" Mean Squared Error\"+\"****\"*5)\n",
    "    print(name + \"Mean Squared Error of Test = \",mean_squared_error(y_test,y_pred_lasso)) ##\n",
    "    print(name+\"Mean Squared Error on Train = \",mean_squared_error(y_train,pd.DataFrame(clf_lasso.predict(x_train))))\n",
    "    \n",
    "    print(\"\\n\"+\"****\"*5+\" Co Relation\"+\"****\"*5)\n",
    "    print(name + \"Correlation Test Data \",stats.pearsonr(y_test[\"GC\"],y_pred_lasso[0])[0])\n",
    "    #print(name + \"Correlation Original Data \",stats.pearsonr(y_train[\"GC\"],pd.DataFrame(clf_lasso.predict(x_train))[0])[0])\n",
    "    \n",
    "    return clf_lasso"
   ]
  },
  {
   "cell_type": "code",
   "execution_count": null,
   "metadata": {},
   "outputs": [],
   "source": []
  },
  {
   "cell_type": "markdown",
   "metadata": {},
   "source": [
    "## Function For Ridge Regression"
   ]
  },
  {
   "cell_type": "code",
   "execution_count": null,
   "metadata": {},
   "outputs": [],
   "source": [
    "#Create a Model to automatically apply in the loop\n",
    "\n",
    "def ridge( alpha = 0.01,copy_X=True,fit_intercept=True, max_iter=None, normalize=False,\n",
    "      random_state=None, solver='auto', tol=0.001):\n",
    "    \"Just Pass alpha value only\"\n",
    "    \n",
    "    from sklearn.linear_model import Ridge\n",
    "    from sklearn.model_selection import train_test_split\n",
    "    global x_train,x_test,y_train, y_test , clf_ridge , y_pred_ridge\n",
    "    \n",
    "    clf_ridge = Ridge(alpha=alpha,copy_X=copy_X,fit_intercept=fit_intercept, max_iter=max_iter, normalize=normalize,\n",
    "      random_state=random_state, solver=solver, tol=tol).fit(x_test,y_test)\n",
    "    \n",
    "    y_pred_ridge = pd.DataFrame(clf_ridge.predict(x_test))\n",
    "    name = \"Ridge\"\n",
    "    # *****************************************************************\n",
    "    \n",
    "    print(name +\" Coefficient \", clf_ridge.coef_) \n",
    "    print(name + \" Intercept \" , clf_ridge.intercept_,\"\\n\") ##\n",
    "    print(\"****\"*5+\"Accuracy Test Model Fitting \"+\"****\"*5)\n",
    "    print(name + \"Score for train data set :\",clf_ridge.score(x_train,y_train))\n",
    "    print(name + \"Score for test data Set\",clf_ridge.score(x_test,y_test))\n",
    "\n",
    "    print(name + \"Score for Predictecd data Set\",clf_ridge.score(x_test,y_pred_ridge)) ##\n",
    "    \n",
    "    print(\"\\n\"+\"****\"*5+\"R2 Score\"+\"****\"*5)\n",
    "    print(name + \"R2 Score for test is = \", r2_score(y_test, y_pred_ridge)) ##\n",
    "    \n",
    "    print(\"\\n\"+\"****\"*5+\"Mean Absolute Error\"+\"****\"*5)\n",
    "    print(name+ \"Mean Absolute Error of Test = \", mean_absolute_error(y_test,y_pred_ridge)) ##\n",
    "    print(name +\"Mean Absolute Error on Train\",mean_absolute_error(y_train,pd.DataFrame(clf_ridge.predict(x_train))))\n",
    "    \n",
    "    print(\"\\n\"+\"****\"*5+\" Mean Squared Error\"+\"****\"*5)\n",
    "    print(name + \"Mean Squared Error of Test = \",mean_squared_error(y_test,y_pred_ridge)) ##\n",
    "    print(name+\"Mean Squared Error on Train = \",mean_squared_error(y_train,pd.DataFrame(clf_ridge.predict(x_train))))\n",
    "    \n",
    "    print(\"\\n\"+\"****\"*5+\" Co Relation\"+\"****\"*5)\n",
    "    print(name + \"Correlation Test Data \",stats.pearsonr(y_test[\"GC\"],y_pred_ridge[0])[0])\n",
    "    print(name + \"Correlation Original Data \",stats.pearsonr(y_train[\"GC\"],pd.DataFrame(clf_ridge.predict(x_train))[0])[0])\n",
    "    \n",
    "    return clf_ridge"
   ]
  },
  {
   "cell_type": "markdown",
   "metadata": {},
   "source": [
    "### Call the Function in  with different Parameter"
   ]
  },
  {
   "cell_type": "code",
   "execution_count": 195,
   "metadata": {},
   "outputs": [
    {
     "name": "stdout",
     "output_type": "stream",
     "text": [
      "Ridge Coefficient  [[0.39290559 0.30428421 0.31009699 ... 0.         0.         0.        ]]\n",
      "Ridge Intercept  0.0 \n",
      "\n",
      "********************Accuracy Test Model Fitting ********************\n",
      "RidgeScore for train data set : 0.5643029664571526\n",
      "RidgeScore for test data Set 0.9994317330946194\n",
      "RidgeScore for Predictecd data Set 1.0\n",
      "\n",
      "********************R2 Score********************\n",
      "RidgeR2 Score for test is =  0.9994317330946194\n",
      "\n",
      "********************Mean Absolute Error********************\n",
      "RidgeMean Absolute Error of Test =  0.07366038946150388\n",
      "RidgeMean Absolute Error on Train 1.9854445493485642\n",
      "\n",
      "******************** Mean Squared Error********************\n",
      "RidgeMean Squared Error of Test =  0.009139891764660213\n",
      "RidgeMean Squared Error on Train =  7.205606912374376\n",
      "\n",
      "******************** Co Relation********************\n",
      "RidgeCorrelation Test Data  0.9998390361199329\n",
      "RidgeCorrelation Original Data  0.7524815514516072\n"
     ]
    },
    {
     "data": {
      "text/plain": [
       "Ridge(alpha=0.5, copy_X=True, fit_intercept=False, max_iter=1000,\n",
       "      normalize=True, random_state=None, solver='auto', tol=0.001)"
      ]
     },
     "execution_count": 195,
     "metadata": {},
     "output_type": "execute_result"
    }
   ],
   "source": [
    "#We have 2 Function \n",
    "#x_train,x_test,y_train, y_test = train_test_split(x,y,\n",
    "\n",
    "#***********************************************************\n",
    "ridge(alpha=.5,copy_X=True,fit_intercept=False, max_iter=1000, normalize=True)"
   ]
  },
  {
   "cell_type": "code",
   "execution_count": 162,
   "metadata": {},
   "outputs": [
    {
     "data": {
      "text/plain": [
       "(8000, 10332)"
      ]
     },
     "execution_count": 162,
     "metadata": {},
     "output_type": "execute_result"
    }
   ],
   "source": [
    "x_test.shape\n",
    "x_train.shape"
   ]
  },
  {
   "cell_type": "code",
   "execution_count": 176,
   "metadata": {},
   "outputs": [],
   "source": [
    "new_test = pd.read_csv(\"../trgc1000.csv\")\n",
    "new_test = new_test.iloc[:,1:]"
   ]
  },
  {
   "cell_type": "code",
   "execution_count": 179,
   "metadata": {},
   "outputs": [
    {
     "data": {
      "text/html": [
       "<div>\n",
       "<style scoped>\n",
       "    .dataframe tbody tr th:only-of-type {\n",
       "        vertical-align: middle;\n",
       "    }\n",
       "\n",
       "    .dataframe tbody tr th {\n",
       "        vertical-align: top;\n",
       "    }\n",
       "\n",
       "    .dataframe thead th {\n",
       "        text-align: right;\n",
       "    }\n",
       "</style>\n",
       "<table border=\"1\" class=\"dataframe\">\n",
       "  <thead>\n",
       "    <tr style=\"text-align: right;\">\n",
       "      <th></th>\n",
       "      <th>V1</th>\n",
       "      <th>V2</th>\n",
       "      <th>V3</th>\n",
       "      <th>V4</th>\n",
       "      <th>V5</th>\n",
       "      <th>V6</th>\n",
       "      <th>V7</th>\n",
       "      <th>V8</th>\n",
       "      <th>V9</th>\n",
       "      <th>V10</th>\n",
       "      <th>...</th>\n",
       "      <th>V10323</th>\n",
       "      <th>V10324</th>\n",
       "      <th>V10325</th>\n",
       "      <th>V10326</th>\n",
       "      <th>V10327</th>\n",
       "      <th>V10328</th>\n",
       "      <th>V10329</th>\n",
       "      <th>V10330</th>\n",
       "      <th>V10331</th>\n",
       "      <th>V10332</th>\n",
       "    </tr>\n",
       "  </thead>\n",
       "  <tbody>\n",
       "    <tr>\n",
       "      <td>0</td>\n",
       "      <td>0.879025</td>\n",
       "      <td>0.687329</td>\n",
       "      <td>0.983194</td>\n",
       "      <td>0.970820</td>\n",
       "      <td>0.900728</td>\n",
       "      <td>0.735702</td>\n",
       "      <td>0.960757</td>\n",
       "      <td>1.074772</td>\n",
       "      <td>1.597032</td>\n",
       "      <td>1.156174</td>\n",
       "      <td>...</td>\n",
       "      <td>0</td>\n",
       "      <td>0</td>\n",
       "      <td>0</td>\n",
       "      <td>0</td>\n",
       "      <td>0</td>\n",
       "      <td>0</td>\n",
       "      <td>0</td>\n",
       "      <td>0</td>\n",
       "      <td>0</td>\n",
       "      <td>0</td>\n",
       "    </tr>\n",
       "    <tr>\n",
       "      <td>1</td>\n",
       "      <td>0.869801</td>\n",
       "      <td>0.620215</td>\n",
       "      <td>1.008849</td>\n",
       "      <td>0.926203</td>\n",
       "      <td>0.884105</td>\n",
       "      <td>0.884811</td>\n",
       "      <td>1.020117</td>\n",
       "      <td>0.987255</td>\n",
       "      <td>1.335856</td>\n",
       "      <td>1.170143</td>\n",
       "      <td>...</td>\n",
       "      <td>0</td>\n",
       "      <td>0</td>\n",
       "      <td>0</td>\n",
       "      <td>0</td>\n",
       "      <td>0</td>\n",
       "      <td>0</td>\n",
       "      <td>0</td>\n",
       "      <td>0</td>\n",
       "      <td>0</td>\n",
       "      <td>0</td>\n",
       "    </tr>\n",
       "    <tr>\n",
       "      <td>2</td>\n",
       "      <td>0.776000</td>\n",
       "      <td>0.859109</td>\n",
       "      <td>1.088169</td>\n",
       "      <td>0.999555</td>\n",
       "      <td>0.874939</td>\n",
       "      <td>0.900284</td>\n",
       "      <td>0.921841</td>\n",
       "      <td>1.000981</td>\n",
       "      <td>1.542597</td>\n",
       "      <td>1.187256</td>\n",
       "      <td>...</td>\n",
       "      <td>0</td>\n",
       "      <td>0</td>\n",
       "      <td>0</td>\n",
       "      <td>0</td>\n",
       "      <td>0</td>\n",
       "      <td>0</td>\n",
       "      <td>0</td>\n",
       "      <td>0</td>\n",
       "      <td>0</td>\n",
       "      <td>0</td>\n",
       "    </tr>\n",
       "    <tr>\n",
       "      <td>3</td>\n",
       "      <td>0.830294</td>\n",
       "      <td>0.607093</td>\n",
       "      <td>1.274800</td>\n",
       "      <td>0.874782</td>\n",
       "      <td>0.912154</td>\n",
       "      <td>0.830760</td>\n",
       "      <td>0.982844</td>\n",
       "      <td>1.022367</td>\n",
       "      <td>1.115530</td>\n",
       "      <td>1.213903</td>\n",
       "      <td>...</td>\n",
       "      <td>0</td>\n",
       "      <td>0</td>\n",
       "      <td>0</td>\n",
       "      <td>0</td>\n",
       "      <td>0</td>\n",
       "      <td>0</td>\n",
       "      <td>0</td>\n",
       "      <td>0</td>\n",
       "      <td>0</td>\n",
       "      <td>0</td>\n",
       "    </tr>\n",
       "    <tr>\n",
       "      <td>4</td>\n",
       "      <td>0.994159</td>\n",
       "      <td>0.765493</td>\n",
       "      <td>1.102799</td>\n",
       "      <td>0.936201</td>\n",
       "      <td>0.931106</td>\n",
       "      <td>0.787266</td>\n",
       "      <td>1.011050</td>\n",
       "      <td>1.124190</td>\n",
       "      <td>1.803787</td>\n",
       "      <td>1.229195</td>\n",
       "      <td>...</td>\n",
       "      <td>0</td>\n",
       "      <td>0</td>\n",
       "      <td>0</td>\n",
       "      <td>0</td>\n",
       "      <td>0</td>\n",
       "      <td>0</td>\n",
       "      <td>0</td>\n",
       "      <td>0</td>\n",
       "      <td>0</td>\n",
       "      <td>0</td>\n",
       "    </tr>\n",
       "  </tbody>\n",
       "</table>\n",
       "<p>5 rows × 10332 columns</p>\n",
       "</div>"
      ],
      "text/plain": [
       "         V1        V2        V3        V4        V5        V6        V7  \\\n",
       "0  0.879025  0.687329  0.983194  0.970820  0.900728  0.735702  0.960757   \n",
       "1  0.869801  0.620215  1.008849  0.926203  0.884105  0.884811  1.020117   \n",
       "2  0.776000  0.859109  1.088169  0.999555  0.874939  0.900284  0.921841   \n",
       "3  0.830294  0.607093  1.274800  0.874782  0.912154  0.830760  0.982844   \n",
       "4  0.994159  0.765493  1.102799  0.936201  0.931106  0.787266  1.011050   \n",
       "\n",
       "         V8        V9       V10  ...  V10323  V10324  V10325  V10326  V10327  \\\n",
       "0  1.074772  1.597032  1.156174  ...       0       0       0       0       0   \n",
       "1  0.987255  1.335856  1.170143  ...       0       0       0       0       0   \n",
       "2  1.000981  1.542597  1.187256  ...       0       0       0       0       0   \n",
       "3  1.022367  1.115530  1.213903  ...       0       0       0       0       0   \n",
       "4  1.124190  1.803787  1.229195  ...       0       0       0       0       0   \n",
       "\n",
       "   V10328  V10329  V10330  V10331  V10332  \n",
       "0       0       0       0       0       0  \n",
       "1       0       0       0       0       0  \n",
       "2       0       0       0       0       0  \n",
       "3       0       0       0       0       0  \n",
       "4       0       0       0       0       0  \n",
       "\n",
       "[5 rows x 10332 columns]"
      ]
     },
     "execution_count": 179,
     "metadata": {},
     "output_type": "execute_result"
    }
   ],
   "source": [
    "new_test.head()"
   ]
  },
  {
   "cell_type": "code",
   "execution_count": 177,
   "metadata": {},
   "outputs": [],
   "source": [
    "new_y = pd.read_csv(\"../rgcbininfo_1000\",sep =\"\\t\",header =None )\n",
    "new_y = pd.DataFrame(new_y.iloc[:,1])\n",
    "new_y.columns = [\"GC\"]"
   ]
  },
  {
   "cell_type": "code",
   "execution_count": 182,
   "metadata": {},
   "outputs": [
    {
     "data": {
      "text/html": [
       "<div>\n",
       "<style scoped>\n",
       "    .dataframe tbody tr th:only-of-type {\n",
       "        vertical-align: middle;\n",
       "    }\n",
       "\n",
       "    .dataframe tbody tr th {\n",
       "        vertical-align: top;\n",
       "    }\n",
       "\n",
       "    .dataframe thead th {\n",
       "        text-align: right;\n",
       "    }\n",
       "</style>\n",
       "<table border=\"1\" class=\"dataframe\">\n",
       "  <thead>\n",
       "    <tr style=\"text-align: right;\">\n",
       "      <th></th>\n",
       "      <th>GC</th>\n",
       "    </tr>\n",
       "  </thead>\n",
       "  <tbody>\n",
       "    <tr>\n",
       "      <td>0</td>\n",
       "      <td>19.052706</td>\n",
       "    </tr>\n",
       "    <tr>\n",
       "      <td>1</td>\n",
       "      <td>17.772070</td>\n",
       "    </tr>\n",
       "    <tr>\n",
       "      <td>2</td>\n",
       "      <td>14.987733</td>\n",
       "    </tr>\n",
       "    <tr>\n",
       "      <td>3</td>\n",
       "      <td>17.656184</td>\n",
       "    </tr>\n",
       "    <tr>\n",
       "      <td>4</td>\n",
       "      <td>7.967291</td>\n",
       "    </tr>\n",
       "    <tr>\n",
       "      <td>5</td>\n",
       "      <td>7.849717</td>\n",
       "    </tr>\n",
       "    <tr>\n",
       "      <td>6</td>\n",
       "      <td>14.039688</td>\n",
       "    </tr>\n",
       "    <tr>\n",
       "      <td>7</td>\n",
       "      <td>10.706711</td>\n",
       "    </tr>\n",
       "    <tr>\n",
       "      <td>8</td>\n",
       "      <td>18.689057</td>\n",
       "    </tr>\n",
       "    <tr>\n",
       "      <td>9</td>\n",
       "      <td>19.317674</td>\n",
       "    </tr>\n",
       "    <tr>\n",
       "      <td>10</td>\n",
       "      <td>7.594432</td>\n",
       "    </tr>\n",
       "    <tr>\n",
       "      <td>11</td>\n",
       "      <td>13.495284</td>\n",
       "    </tr>\n",
       "    <tr>\n",
       "      <td>12</td>\n",
       "      <td>7.273598</td>\n",
       "    </tr>\n",
       "    <tr>\n",
       "      <td>13</td>\n",
       "      <td>10.588152</td>\n",
       "    </tr>\n",
       "    <tr>\n",
       "      <td>14</td>\n",
       "      <td>3.932720</td>\n",
       "    </tr>\n",
       "  </tbody>\n",
       "</table>\n",
       "</div>"
      ],
      "text/plain": [
       "           GC\n",
       "0   19.052706\n",
       "1   17.772070\n",
       "2   14.987733\n",
       "3   17.656184\n",
       "4    7.967291\n",
       "5    7.849717\n",
       "6   14.039688\n",
       "7   10.706711\n",
       "8   18.689057\n",
       "9   19.317674\n",
       "10   7.594432\n",
       "11  13.495284\n",
       "12   7.273598\n",
       "13  10.588152\n",
       "14   3.932720"
      ]
     },
     "execution_count": 182,
     "metadata": {},
     "output_type": "execute_result"
    }
   ],
   "source": [
    "new_y.head(15)"
   ]
  },
  {
   "cell_type": "code",
   "execution_count": 180,
   "metadata": {},
   "outputs": [],
   "source": [
    "from sklearn.model_selection import train_test_split\n",
    "from sklearn.linear_model import Ridge\n",
    "\n",
    "ridge_ = Ridge(alpha=0.1).fit(x_train,y_train)"
   ]
  },
  {
   "cell_type": "code",
   "execution_count": 186,
   "metadata": {},
   "outputs": [],
   "source": [
    "y_predict_new = pd.DataFrame(ridge_.predict(new_test))"
   ]
  },
  {
   "cell_type": "code",
   "execution_count": 191,
   "metadata": {},
   "outputs": [
    {
     "name": "stdout",
     "output_type": "stream",
     "text": [
      "Correlation Test Data  0.998046765443608\n"
     ]
    }
   ],
   "source": [
    "print( \"Correlation Test Data \",stats.pearsonr(new_y[\"GC\"],y_predict_new[0])[0])"
   ]
  },
  {
   "cell_type": "code",
   "execution_count": 192,
   "metadata": {},
   "outputs": [
    {
     "data": {
      "text/plain": [
       "0     19.229047\n",
       "1     17.084933\n",
       "2     15.291513\n",
       "3     17.385744\n",
       "4      8.155215\n",
       "5      7.523810\n",
       "6     14.369128\n",
       "7     10.475931\n",
       "8     18.434088\n",
       "9     19.282836\n",
       "10     7.648547\n",
       "11    13.868158\n",
       "12     7.434146\n",
       "13    10.504048\n",
       "14     3.880610\n",
       "15    14.938145\n",
       "16    15.614355\n",
       "17    13.027631\n",
       "18     9.256032\n",
       "19    15.374418\n",
       "Name: 0, dtype: float64"
      ]
     },
     "execution_count": 192,
     "metadata": {},
     "output_type": "execute_result"
    }
   ],
   "source": [
    "y_predict_new[0].head(20)"
   ]
  },
  {
   "cell_type": "code",
   "execution_count": null,
   "metadata": {},
   "outputs": [],
   "source": []
  },
  {
   "cell_type": "code",
   "execution_count": 175,
   "metadata": {},
   "outputs": [
    {
     "data": {
      "text/html": [
       "<div>\n",
       "<style scoped>\n",
       "    .dataframe tbody tr th:only-of-type {\n",
       "        vertical-align: middle;\n",
       "    }\n",
       "\n",
       "    .dataframe tbody tr th {\n",
       "        vertical-align: top;\n",
       "    }\n",
       "\n",
       "    .dataframe thead th {\n",
       "        text-align: right;\n",
       "    }\n",
       "</style>\n",
       "<table border=\"1\" class=\"dataframe\">\n",
       "  <thead>\n",
       "    <tr style=\"text-align: right;\">\n",
       "      <th></th>\n",
       "      <th>GC</th>\n",
       "    </tr>\n",
       "  </thead>\n",
       "  <tbody>\n",
       "    <tr>\n",
       "      <td>0</td>\n",
       "      <td>19.052706</td>\n",
       "    </tr>\n",
       "    <tr>\n",
       "      <td>1</td>\n",
       "      <td>17.772070</td>\n",
       "    </tr>\n",
       "    <tr>\n",
       "      <td>2</td>\n",
       "      <td>16.200000</td>\n",
       "    </tr>\n",
       "    <tr>\n",
       "      <td>3</td>\n",
       "      <td>14.987733</td>\n",
       "    </tr>\n",
       "    <tr>\n",
       "      <td>4</td>\n",
       "      <td>17.656184</td>\n",
       "    </tr>\n",
       "  </tbody>\n",
       "</table>\n",
       "</div>"
      ],
      "text/plain": [
       "          GC\n",
       "0  19.052706\n",
       "1  17.772070\n",
       "2  16.200000\n",
       "3  14.987733\n",
       "4  17.656184"
      ]
     },
     "execution_count": 175,
     "metadata": {},
     "output_type": "execute_result"
    }
   ],
   "source": [
    "y_train.head()"
   ]
  },
  {
   "cell_type": "markdown",
   "metadata": {},
   "source": [
    "### Lasso Regression Test"
   ]
  },
  {
   "cell_type": "code",
   "execution_count": 148,
   "metadata": {
    "scrolled": true
   },
   "outputs": [
    {
     "name": "stdout",
     "output_type": "stream",
     "text": [
      "Lasso Coefficient  [0. 0. 0. ... 0. 0. 0.]\n",
      "Lasso Intercept  [10.31127327] \n",
      "\n",
      "********************Accuracy Test Model Fitting ********************\n",
      "LassoScore for train data set : -0.000887274711019792\n",
      "LassoScore for test data Set 0.0\n",
      "LassoScore for Predictecd data Set 1.0\n",
      "\n",
      "********************R2 Score********************\n",
      "LassoR2 Score for test is =  0.0\n",
      "\n",
      "********************Mean Absolute Error********************\n",
      "LassoMean Absolute Error of Test =  3.1619844408507203\n",
      "LassoMean Absolute Error on Train 3.154708714515855\n",
      "\n",
      "******************** Mean Squared Error********************\n",
      "LassoMean Squared Error of Test =  16.355717701689514\n",
      "LassoMean Squared Error on Train =  16.497464240063344\n",
      "\n",
      "******************** Co Relation********************\n"
     ]
    },
    {
     "ename": "ValueError",
     "evalue": "x and y must have the same length.",
     "output_type": "error",
     "traceback": [
      "\u001b[1;31m---------------------------------------------------------------------------\u001b[0m",
      "\u001b[1;31mValueError\u001b[0m                                Traceback (most recent call last)",
      "\u001b[1;32m<ipython-input-148-2c583c193511>\u001b[0m in \u001b[0;36m<module>\u001b[1;34m\u001b[0m\n\u001b[0;32m      1\u001b[0m \u001b[1;31m#We have 2 Function\u001b[0m\u001b[1;33m\u001b[0m\u001b[1;33m\u001b[0m\u001b[1;33m\u001b[0m\u001b[0m\n\u001b[0;32m      2\u001b[0m \u001b[0mtrain_test\u001b[0m\u001b[1;33m(\u001b[0m\u001b[0msize\u001b[0m\u001b[1;33m=\u001b[0m\u001b[1;36m0.3\u001b[0m\u001b[1;33m,\u001b[0m\u001b[0mrandom_state\u001b[0m\u001b[1;33m=\u001b[0m\u001b[1;36m1000\u001b[0m\u001b[1;33m,\u001b[0m \u001b[0mshuffle\u001b[0m\u001b[1;33m=\u001b[0m\u001b[1;32mTrue\u001b[0m\u001b[1;33m)\u001b[0m\u001b[1;33m\u001b[0m\u001b[1;33m\u001b[0m\u001b[0m\n\u001b[1;32m----> 3\u001b[1;33m \u001b[0mlasso\u001b[0m\u001b[1;33m(\u001b[0m \u001b[0malpha\u001b[0m\u001b[1;33m=\u001b[0m\u001b[1;36m1.0\u001b[0m\u001b[1;33m,\u001b[0m \u001b[0mfit_intercept\u001b[0m\u001b[1;33m=\u001b[0m\u001b[1;32mTrue\u001b[0m\u001b[1;33m,\u001b[0m \u001b[0mnormalize\u001b[0m\u001b[1;33m=\u001b[0m\u001b[1;32mFalse\u001b[0m\u001b[1;33m,\u001b[0m \u001b[0mprecompute\u001b[0m\u001b[1;33m=\u001b[0m\u001b[1;32mFalse\u001b[0m\u001b[1;33m,\u001b[0m \u001b[0mcopy_X\u001b[0m\u001b[1;33m=\u001b[0m\u001b[1;32mTrue\u001b[0m\u001b[1;33m,\u001b[0m\u001b[0mmax_iter\u001b[0m\u001b[1;33m=\u001b[0m\u001b[1;36m1000\u001b[0m\u001b[1;33m,\u001b[0m \u001b[0mtol\u001b[0m\u001b[1;33m=\u001b[0m\u001b[1;36m0.0001\u001b[0m\u001b[1;33m,\u001b[0m\u001b[0mwarm_start\u001b[0m\u001b[1;33m=\u001b[0m\u001b[1;32mFalse\u001b[0m\u001b[1;33m,\u001b[0m \u001b[0mpositive\u001b[0m\u001b[1;33m=\u001b[0m\u001b[1;32mFalse\u001b[0m\u001b[1;33m,\u001b[0m\u001b[0mselection\u001b[0m\u001b[1;33m=\u001b[0m\u001b[1;34m'cyclic'\u001b[0m\u001b[1;33m)\u001b[0m\u001b[1;33m\u001b[0m\u001b[1;33m\u001b[0m\u001b[0m\n\u001b[0m",
      "\u001b[1;32m<ipython-input-147-f303d5d74a21>\u001b[0m in \u001b[0;36mlasso\u001b[1;34m(alpha, fit_intercept, normalize, precompute, copy_X, max_iter, tol, warm_start, positive, selection)\u001b[0m\n\u001b[0;32m     37\u001b[0m \u001b[1;33m\u001b[0m\u001b[0m\n\u001b[0;32m     38\u001b[0m     \u001b[0mprint\u001b[0m\u001b[1;33m(\u001b[0m\u001b[1;34m\"\\n\"\u001b[0m\u001b[1;33m+\u001b[0m\u001b[1;34m\"****\"\u001b[0m\u001b[1;33m*\u001b[0m\u001b[1;36m5\u001b[0m\u001b[1;33m+\u001b[0m\u001b[1;34m\" Co Relation\"\u001b[0m\u001b[1;33m+\u001b[0m\u001b[1;34m\"****\"\u001b[0m\u001b[1;33m*\u001b[0m\u001b[1;36m5\u001b[0m\u001b[1;33m)\u001b[0m\u001b[1;33m\u001b[0m\u001b[1;33m\u001b[0m\u001b[0m\n\u001b[1;32m---> 39\u001b[1;33m     \u001b[0mprint\u001b[0m\u001b[1;33m(\u001b[0m\u001b[0mname\u001b[0m \u001b[1;33m+\u001b[0m \u001b[1;34m\"Correlation Test Data \"\u001b[0m\u001b[1;33m,\u001b[0m\u001b[0mstats\u001b[0m\u001b[1;33m.\u001b[0m\u001b[0mpearsonr\u001b[0m\u001b[1;33m(\u001b[0m\u001b[0my_test\u001b[0m\u001b[1;33m[\u001b[0m\u001b[1;34m\"GC\"\u001b[0m\u001b[1;33m]\u001b[0m\u001b[1;33m,\u001b[0m\u001b[0my_pred_ridge\u001b[0m\u001b[1;33m[\u001b[0m\u001b[1;36m0\u001b[0m\u001b[1;33m]\u001b[0m\u001b[1;33m)\u001b[0m\u001b[1;33m[\u001b[0m\u001b[1;36m0\u001b[0m\u001b[1;33m]\u001b[0m\u001b[1;33m)\u001b[0m\u001b[1;33m\u001b[0m\u001b[1;33m\u001b[0m\u001b[0m\n\u001b[0m\u001b[0;32m     40\u001b[0m     \u001b[1;31m#print(name + \"Correlation Original Data \",stats.pearsonr(y_train[\"GC\"],pd.DataFrame(clf_lasso.predict(x_train))[0])[0])\u001b[0m\u001b[1;33m\u001b[0m\u001b[1;33m\u001b[0m\u001b[1;33m\u001b[0m\u001b[0m\n\u001b[0;32m     41\u001b[0m \u001b[1;33m\u001b[0m\u001b[0m\n",
      "\u001b[1;32mC:\\ProgramData\\Anaconda3\\lib\\site-packages\\scipy\\stats\\stats.py\u001b[0m in \u001b[0;36mpearsonr\u001b[1;34m(x, y)\u001b[0m\n\u001b[0;32m   3387\u001b[0m     \u001b[0mn\u001b[0m \u001b[1;33m=\u001b[0m \u001b[0mlen\u001b[0m\u001b[1;33m(\u001b[0m\u001b[0mx\u001b[0m\u001b[1;33m)\u001b[0m\u001b[1;33m\u001b[0m\u001b[1;33m\u001b[0m\u001b[0m\n\u001b[0;32m   3388\u001b[0m     \u001b[1;32mif\u001b[0m \u001b[0mn\u001b[0m \u001b[1;33m!=\u001b[0m \u001b[0mlen\u001b[0m\u001b[1;33m(\u001b[0m\u001b[0my\u001b[0m\u001b[1;33m)\u001b[0m\u001b[1;33m:\u001b[0m\u001b[1;33m\u001b[0m\u001b[1;33m\u001b[0m\u001b[0m\n\u001b[1;32m-> 3389\u001b[1;33m         \u001b[1;32mraise\u001b[0m \u001b[0mValueError\u001b[0m\u001b[1;33m(\u001b[0m\u001b[1;34m'x and y must have the same length.'\u001b[0m\u001b[1;33m)\u001b[0m\u001b[1;33m\u001b[0m\u001b[1;33m\u001b[0m\u001b[0m\n\u001b[0m\u001b[0;32m   3390\u001b[0m \u001b[1;33m\u001b[0m\u001b[0m\n\u001b[0;32m   3391\u001b[0m     \u001b[1;32mif\u001b[0m \u001b[0mn\u001b[0m \u001b[1;33m<\u001b[0m \u001b[1;36m2\u001b[0m\u001b[1;33m:\u001b[0m\u001b[1;33m\u001b[0m\u001b[1;33m\u001b[0m\u001b[0m\n",
      "\u001b[1;31mValueError\u001b[0m: x and y must have the same length."
     ]
    }
   ],
   "source": [
    "#We have 2 Function \n",
    "train_test(size=0.3,random_state=1000, shuffle=True)\n",
    "lasso( alpha=1.0, fit_intercept=True, normalize=False, precompute=False, copy_X=True,max_iter=1000, tol=0.0001,warm_start=False, positive=False,selection='cyclic')"
   ]
  },
  {
   "cell_type": "code",
   "execution_count": null,
   "metadata": {},
   "outputs": [],
   "source": []
  }
 ],
 "metadata": {
  "kernelspec": {
   "display_name": "Python 3.7.4 64-bit ('base': conda)",
   "language": "python",
   "name": "python37464bitbaseconda67970ada4b5d499c879aef5e70dc73ee"
  },
  "language_info": {
   "codemirror_mode": {
    "name": "ipython",
    "version": 3
   },
   "file_extension": ".py",
   "mimetype": "text/x-python",
   "name": "python",
   "nbconvert_exporter": "python",
   "pygments_lexer": "ipython3",
   "version": "3.7.4"
  }
 },
 "nbformat": 4,
 "nbformat_minor": 2
}
