{
 "cells": [
  {
   "cell_type": "code",
   "execution_count": 1,
   "metadata": {},
   "outputs": [
    {
     "name": "stdout",
     "output_type": "stream",
     "text": [
      "2.1.0\n"
     ]
    }
   ],
   "source": [
    "# Import Model\n",
    "from __future__ import absolute_import, division, print_function , unicode_literals\n",
    "\n",
    "import pathlib\n",
    "import matplotlib.pyplot as plt\n",
    "import numpy as np\n",
    "import pandas as pd\n",
    "import seaborn as sns\n",
    "\n",
    "import tensorflow as tf\n",
    "from tensorflow import keras\n",
    "\n",
    "from tensorflow.keras import layers\n",
    "print(tf.__version__)\n",
    "\n",
    "from scipy import stats"
   ]
  },
  {
   "cell_type": "code",
   "execution_count": 2,
   "metadata": {},
   "outputs": [],
   "source": [
    "#!pip install -q git+https://github.com/tensorflow/docs\n",
    "import tensorflow_docs as tfdocs\n",
    "import tensorflow_docs.modeling\n",
    "import tensorflow_docs.plots"
   ]
  },
  {
   "cell_type": "code",
   "execution_count": null,
   "metadata": {},
   "outputs": [],
   "source": [
    "# x_rl = pd.read_csv(\"../tsrl10000.csv\")\n",
    "# x_rl = x_rl.iloc[:,1:]\n",
    "\n",
    "# x_gc = pd.read_csv(\"../trgc10000.csv\")\n",
    "# x_gc = x_gc.iloc[:,1:]\n",
    "\n",
    "# y = pd.read_csv(\"../rgcbininfo_10000\",sep = \"\\t\",header=None)\n",
    "# y = y.iloc[:,-1]"
   ]
  },
  {
   "cell_type": "markdown",
   "metadata": {},
   "source": [
    "#####  Add all rows and make a new columns"
   ]
  },
  {
   "cell_type": "code",
   "execution_count": null,
   "metadata": {},
   "outputs": [],
   "source": [
    "# x_rl[\"Read_length\"] = x_rl.index.map(lambda _ : sum(x_rl.iloc[_,:])/300)\n",
    "# x_rl = x_rl.iloc[:,-1]\n",
    "\n",
    "# x_gc[\"Read_Count\"] = x_gc.index.map(lambda _ : sum(x_gc.iloc[_, :]) / 80)\n",
    "# x_gc = x_gc.iloc[:,-1]"
   ]
  },
  {
   "cell_type": "markdown",
   "metadata": {},
   "source": [
    "##### Save the data so we can read later for fast processing"
   ]
  },
  {
   "cell_type": "code",
   "execution_count": null,
   "metadata": {},
   "outputs": [],
   "source": [
    "# make a single data Frame\n",
    "# df = pd.concat([x_rl, x_gc ,y], ignore_index = True,axis = 1)\n",
    "# df.columns = [\"Read_length\", \"GC_count\", \"FF\"]"
   ]
  },
  {
   "cell_type": "code",
   "execution_count": null,
   "metadata": {},
   "outputs": [],
   "source": [
    "# df.head()\n",
    "# df.to_csv(\"../read_length_gc_count_ff.csv\",index=False)"
   ]
  },
  {
   "cell_type": "code",
   "execution_count": 5,
   "metadata": {},
   "outputs": [],
   "source": [
    "df =pd.read_csv(\"../read_length_gc_count_ff.csv\")\n",
    "y = df.loc[:,[\"FF\"]]"
   ]
  },
  {
   "cell_type": "code",
   "execution_count": 6,
   "metadata": {},
   "outputs": [
    {
     "data": {
      "text/html": [
       "<div>\n",
       "<style scoped>\n",
       "    .dataframe tbody tr th:only-of-type {\n",
       "        vertical-align: middle;\n",
       "    }\n",
       "\n",
       "    .dataframe tbody tr th {\n",
       "        vertical-align: top;\n",
       "    }\n",
       "\n",
       "    .dataframe thead th {\n",
       "        text-align: right;\n",
       "    }\n",
       "</style>\n",
       "<table border=\"1\" class=\"dataframe\">\n",
       "  <thead>\n",
       "    <tr style=\"text-align: right;\">\n",
       "      <th></th>\n",
       "      <th>Read_length</th>\n",
       "      <th>GC_count</th>\n",
       "      <th>FF</th>\n",
       "    </tr>\n",
       "  </thead>\n",
       "  <tbody>\n",
       "    <tr>\n",
       "      <th>0</th>\n",
       "      <td>11.210215</td>\n",
       "      <td>111.232844</td>\n",
       "      <td>19.052706</td>\n",
       "    </tr>\n",
       "    <tr>\n",
       "      <th>1</th>\n",
       "      <td>11.206084</td>\n",
       "      <td>111.340903</td>\n",
       "      <td>17.772070</td>\n",
       "    </tr>\n",
       "    <tr>\n",
       "      <th>2</th>\n",
       "      <td>11.189647</td>\n",
       "      <td>111.400369</td>\n",
       "      <td>16.200000</td>\n",
       "    </tr>\n",
       "    <tr>\n",
       "      <th>3</th>\n",
       "      <td>11.192131</td>\n",
       "      <td>111.153783</td>\n",
       "      <td>14.987733</td>\n",
       "    </tr>\n",
       "    <tr>\n",
       "      <th>4</th>\n",
       "      <td>11.196457</td>\n",
       "      <td>111.273290</td>\n",
       "      <td>17.656184</td>\n",
       "    </tr>\n",
       "  </tbody>\n",
       "</table>\n",
       "</div>"
      ],
      "text/plain": [
       "   Read_length    GC_count         FF\n",
       "0    11.210215  111.232844  19.052706\n",
       "1    11.206084  111.340903  17.772070\n",
       "2    11.189647  111.400369  16.200000\n",
       "3    11.192131  111.153783  14.987733\n",
       "4    11.196457  111.273290  17.656184"
      ]
     },
     "execution_count": 6,
     "metadata": {},
     "output_type": "execute_result"
    }
   ],
   "source": [
    "df.head()"
   ]
  },
  {
   "cell_type": "code",
   "execution_count": 7,
   "metadata": {},
   "outputs": [],
   "source": [
    "#x.iloc[:,0]\n",
    "x = df.loc[:,[\"Read_length\", \"GC_count\"]]\n",
    "#df"
   ]
  },
  {
   "cell_type": "code",
   "execution_count": 9,
   "metadata": {},
   "outputs": [
    {
     "data": {
      "text/html": [
       "<div>\n",
       "<style scoped>\n",
       "    .dataframe tbody tr th:only-of-type {\n",
       "        vertical-align: middle;\n",
       "    }\n",
       "\n",
       "    .dataframe tbody tr th {\n",
       "        vertical-align: top;\n",
       "    }\n",
       "\n",
       "    .dataframe thead th {\n",
       "        text-align: right;\n",
       "    }\n",
       "</style>\n",
       "<table border=\"1\" class=\"dataframe\">\n",
       "  <thead>\n",
       "    <tr style=\"text-align: right;\">\n",
       "      <th></th>\n",
       "      <th>Read_length</th>\n",
       "      <th>GC_count</th>\n",
       "    </tr>\n",
       "  </thead>\n",
       "  <tbody>\n",
       "    <tr>\n",
       "      <th>0</th>\n",
       "      <td>11.210215</td>\n",
       "      <td>111.232844</td>\n",
       "    </tr>\n",
       "    <tr>\n",
       "      <th>1</th>\n",
       "      <td>11.206084</td>\n",
       "      <td>111.340903</td>\n",
       "    </tr>\n",
       "  </tbody>\n",
       "</table>\n",
       "</div>"
      ],
      "text/plain": [
       "   Read_length    GC_count\n",
       "0    11.210215  111.232844\n",
       "1    11.206084  111.340903"
      ]
     },
     "execution_count": 9,
     "metadata": {},
     "output_type": "execute_result"
    }
   ],
   "source": [
    "x.head(2)"
   ]
  },
  {
   "cell_type": "code",
   "execution_count": 10,
   "metadata": {},
   "outputs": [
    {
     "data": {
      "text/html": [
       "<div>\n",
       "<style scoped>\n",
       "    .dataframe tbody tr th:only-of-type {\n",
       "        vertical-align: middle;\n",
       "    }\n",
       "\n",
       "    .dataframe tbody tr th {\n",
       "        vertical-align: top;\n",
       "    }\n",
       "\n",
       "    .dataframe thead th {\n",
       "        text-align: right;\n",
       "    }\n",
       "</style>\n",
       "<table border=\"1\" class=\"dataframe\">\n",
       "  <thead>\n",
       "    <tr style=\"text-align: right;\">\n",
       "      <th></th>\n",
       "      <th>FF</th>\n",
       "    </tr>\n",
       "  </thead>\n",
       "  <tbody>\n",
       "    <tr>\n",
       "      <th>0</th>\n",
       "      <td>19.052706</td>\n",
       "    </tr>\n",
       "    <tr>\n",
       "      <th>1</th>\n",
       "      <td>17.772070</td>\n",
       "    </tr>\n",
       "    <tr>\n",
       "      <th>2</th>\n",
       "      <td>16.200000</td>\n",
       "    </tr>\n",
       "    <tr>\n",
       "      <th>3</th>\n",
       "      <td>14.987733</td>\n",
       "    </tr>\n",
       "    <tr>\n",
       "      <th>4</th>\n",
       "      <td>17.656184</td>\n",
       "    </tr>\n",
       "  </tbody>\n",
       "</table>\n",
       "</div>"
      ],
      "text/plain": [
       "          FF\n",
       "0  19.052706\n",
       "1  17.772070\n",
       "2  16.200000\n",
       "3  14.987733\n",
       "4  17.656184"
      ]
     },
     "execution_count": 10,
     "metadata": {},
     "output_type": "execute_result"
    }
   ],
   "source": [
    "y.head()"
   ]
  },
  {
   "cell_type": "code",
   "execution_count": null,
   "metadata": {},
   "outputs": [],
   "source": [
    "#x[\"Final\"] = x.index.map(lambda _ : sum(x.iloc[_,:]))/3000"
   ]
  },
  {
   "cell_type": "code",
   "execution_count": null,
   "metadata": {},
   "outputs": [],
   "source": []
  },
  {
   "cell_type": "code",
   "execution_count": 11,
   "metadata": {},
   "outputs": [],
   "source": [
    "from sklearn.linear_model import LinearRegression\n",
    "from sklearn.model_selection import train_test_split, cross_val_score\n",
    "from sklearn.metrics import r2_score, mean_squared_error, mean_absolute_error , accuracy_score"
   ]
  },
  {
   "cell_type": "code",
   "execution_count": 15,
   "metadata": {},
   "outputs": [],
   "source": [
    "def split(test_size=0.2, random_state = 20):\n",
    "    x_train, x_test, y_train, y_test = train_test_split(x,y,test_size = 0.2, random_state =20)\n",
    "    return x_train, x_test, y_train, y_test"
   ]
  },
  {
   "cell_type": "markdown",
   "metadata": {},
   "source": [
    "###### Linear Regression"
   ]
  },
  {
   "cell_type": "code",
   "execution_count": 19,
   "metadata": {},
   "outputs": [
    {
     "name": "stdout",
     "output_type": "stream",
     "text": [
      "1.0\n",
      "Mean Square Error 4.7827746091792145\n",
      "Mean Absolute Error 1.5204522406078944\n",
      "(0.8424322123388029, 0.0)\n",
      "1.0\n",
      "Mean Square Error 4.7827746091792145\n",
      "Mean Absolute Error 1.5204522406078944\n",
      "(0.8424322123388029, 0.0)\n",
      "1.0\n",
      "Mean Square Error 4.7827746091792145\n",
      "Mean Absolute Error 1.5204522406078944\n",
      "(0.8424322123388029, 0.0)\n",
      "1.0\n",
      "Mean Square Error 4.7827746091792145\n",
      "Mean Absolute Error 1.5204522406078944\n",
      "(0.8424322123388029, 0.0)\n",
      "1.0\n",
      "Mean Square Error 4.7827746091792145\n",
      "Mean Absolute Error 1.5204522406078944\n",
      "(0.8424322123388029, 0.0)\n",
      "1.0\n",
      "Mean Square Error 4.7827746091792145\n",
      "Mean Absolute Error 1.5204522406078944\n",
      "(0.8424322123388029, 0.0)\n",
      "1.0\n",
      "Mean Square Error 4.7827746091792145\n",
      "Mean Absolute Error 1.5204522406078944\n",
      "(0.8424322123388029, 0.0)\n",
      "1.0\n",
      "Mean Square Error 4.7827746091792145\n",
      "Mean Absolute Error 1.5204522406078944\n",
      "(0.8424322123388029, 0.0)\n",
      "1.0\n",
      "Mean Square Error 4.7827746091792145\n",
      "Mean Absolute Error 1.5204522406078944\n",
      "(0.8424322123388029, 0.0)\n",
      "1.0\n",
      "Mean Square Error 4.7827746091792145\n",
      "Mean Absolute Error 1.5204522406078944\n",
      "(0.8424322123388029, 0.0)\n",
      "1.0\n",
      "Mean Square Error 4.7827746091792145\n",
      "Mean Absolute Error 1.5204522406078944\n",
      "(0.8424322123388029, 0.0)\n",
      "1.0\n",
      "Mean Square Error 4.7827746091792145\n",
      "Mean Absolute Error 1.5204522406078944\n",
      "(0.8424322123388029, 0.0)\n",
      "1.0\n",
      "Mean Square Error 4.7827746091792145\n",
      "Mean Absolute Error 1.5204522406078944\n",
      "(0.8424322123388029, 0.0)\n",
      "1.0\n",
      "Mean Square Error 4.7827746091792145\n",
      "Mean Absolute Error 1.5204522406078944\n",
      "(0.8424322123388029, 0.0)\n",
      "1.0\n",
      "Mean Square Error 4.7827746091792145\n",
      "Mean Absolute Error 1.5204522406078944\n",
      "(0.8424322123388029, 0.0)\n",
      "1.0\n",
      "Mean Square Error 4.7827746091792145\n",
      "Mean Absolute Error 1.5204522406078944\n",
      "(0.8424322123388029, 0.0)\n",
      "1.0\n",
      "Mean Square Error 4.7827746091792145\n",
      "Mean Absolute Error 1.5204522406078944\n",
      "(0.8424322123388029, 0.0)\n",
      "1.0\n",
      "Mean Square Error 4.7827746091792145\n",
      "Mean Absolute Error 1.5204522406078944\n",
      "(0.8424322123388029, 0.0)\n",
      "1.0\n",
      "Mean Square Error 4.7827746091792145\n",
      "Mean Absolute Error 1.5204522406078944\n",
      "(0.8424322123388029, 0.0)\n",
      "1.0\n",
      "Mean Square Error 4.7827746091792145\n",
      "Mean Absolute Error 1.5204522406078944\n",
      "(0.8424322123388029, 0.0)\n",
      "1.0\n",
      "Mean Square Error 4.7827746091792145\n",
      "Mean Absolute Error 1.5204522406078944\n",
      "(0.8424322123388029, 0.0)\n",
      "1.0\n",
      "Mean Square Error 4.7827746091792145\n",
      "Mean Absolute Error 1.5204522406078944\n",
      "(0.8424322123388029, 0.0)\n",
      "1.0\n",
      "Mean Square Error 4.7827746091792145\n",
      "Mean Absolute Error 1.5204522406078944\n",
      "(0.8424322123388029, 0.0)\n",
      "1.0\n",
      "Mean Square Error 4.7827746091792145\n",
      "Mean Absolute Error 1.5204522406078944\n",
      "(0.8424322123388029, 0.0)\n",
      "1.0\n",
      "Mean Square Error 4.7827746091792145\n",
      "Mean Absolute Error 1.5204522406078944\n",
      "(0.8424322123388029, 0.0)\n",
      "1.0\n",
      "Mean Square Error 4.7827746091792145\n",
      "Mean Absolute Error 1.5204522406078944\n",
      "(0.8424322123388029, 0.0)\n",
      "1.0\n",
      "Mean Square Error 4.7827746091792145\n",
      "Mean Absolute Error 1.5204522406078944\n",
      "(0.8424322123388029, 0.0)\n",
      "1.0\n",
      "Mean Square Error 4.7827746091792145\n",
      "Mean Absolute Error 1.5204522406078944\n",
      "(0.8424322123388029, 0.0)\n",
      "1.0\n",
      "Mean Square Error 4.7827746091792145\n",
      "Mean Absolute Error 1.5204522406078944\n",
      "(0.8424322123388029, 0.0)\n",
      "1.0\n",
      "Mean Square Error 4.7827746091792145\n",
      "Mean Absolute Error 1.5204522406078944\n",
      "(0.8424322123388029, 0.0)\n",
      "1.0\n",
      "Mean Square Error 4.7827746091792145\n",
      "Mean Absolute Error 1.5204522406078944\n",
      "(0.8424322123388029, 0.0)\n",
      "1.0\n",
      "Mean Square Error 4.7827746091792145\n",
      "Mean Absolute Error 1.5204522406078944\n",
      "(0.8424322123388029, 0.0)\n",
      "1.0\n",
      "Mean Square Error 4.7827746091792145\n",
      "Mean Absolute Error 1.5204522406078944\n",
      "(0.8424322123388029, 0.0)\n",
      "1.0\n",
      "Mean Square Error 4.7827746091792145\n",
      "Mean Absolute Error 1.5204522406078944\n",
      "(0.8424322123388029, 0.0)\n",
      "1.0\n",
      "Mean Square Error 4.7827746091792145\n",
      "Mean Absolute Error 1.5204522406078944\n",
      "(0.8424322123388029, 0.0)\n",
      "1.0\n",
      "Mean Square Error 4.7827746091792145\n",
      "Mean Absolute Error 1.5204522406078944\n",
      "(0.8424322123388029, 0.0)\n",
      "1.0\n",
      "Mean Square Error 4.7827746091792145\n",
      "Mean Absolute Error 1.5204522406078944\n",
      "(0.8424322123388029, 0.0)\n",
      "1.0\n",
      "Mean Square Error 4.7827746091792145\n",
      "Mean Absolute Error 1.5204522406078944\n",
      "(0.8424322123388029, 0.0)\n",
      "1.0\n",
      "Mean Square Error 4.7827746091792145\n",
      "Mean Absolute Error 1.5204522406078944\n",
      "(0.8424322123388029, 0.0)\n",
      "1.0\n",
      "Mean Square Error 4.7827746091792145\n",
      "Mean Absolute Error 1.5204522406078944\n",
      "(0.8424322123388029, 0.0)\n",
      "1.0\n",
      "Mean Square Error 4.7827746091792145\n",
      "Mean Absolute Error 1.5204522406078944\n",
      "(0.8424322123388029, 0.0)\n",
      "1.0\n",
      "Mean Square Error 4.7827746091792145\n",
      "Mean Absolute Error 1.5204522406078944\n",
      "(0.8424322123388029, 0.0)\n",
      "1.0\n",
      "Mean Square Error 4.7827746091792145\n",
      "Mean Absolute Error 1.5204522406078944\n",
      "(0.8424322123388029, 0.0)\n",
      "1.0\n",
      "Mean Square Error 4.7827746091792145\n",
      "Mean Absolute Error 1.5204522406078944\n",
      "(0.8424322123388029, 0.0)\n",
      "1.0\n",
      "Mean Square Error 4.7827746091792145\n",
      "Mean Absolute Error 1.5204522406078944\n",
      "(0.8424322123388029, 0.0)\n",
      "1.0\n",
      "Mean Square Error 4.7827746091792145\n",
      "Mean Absolute Error 1.5204522406078944\n",
      "(0.8424322123388029, 0.0)\n",
      "1.0\n",
      "Mean Square Error 4.7827746091792145\n",
      "Mean Absolute Error 1.5204522406078944\n",
      "(0.8424322123388029, 0.0)\n",
      "1.0\n",
      "Mean Square Error 4.7827746091792145\n",
      "Mean Absolute Error 1.5204522406078944\n",
      "(0.8424322123388029, 0.0)\n",
      "1.0\n",
      "Mean Square Error 4.7827746091792145\n",
      "Mean Absolute Error 1.5204522406078944\n",
      "(0.8424322123388029, 0.0)\n",
      "1.0\n",
      "Mean Square Error 4.7827746091792145\n",
      "Mean Absolute Error 1.5204522406078944\n",
      "(0.8424322123388029, 0.0)\n",
      "1.0\n",
      "Mean Square Error 4.7827746091792145\n",
      "Mean Absolute Error 1.5204522406078944\n",
      "(0.8424322123388029, 0.0)\n",
      "1.0\n",
      "Mean Square Error 4.7827746091792145\n",
      "Mean Absolute Error 1.5204522406078944\n",
      "(0.8424322123388029, 0.0)\n",
      "1.0\n",
      "Mean Square Error 4.7827746091792145\n",
      "Mean Absolute Error 1.5204522406078944\n",
      "(0.8424322123388029, 0.0)\n",
      "1.0\n",
      "Mean Square Error 4.7827746091792145\n",
      "Mean Absolute Error 1.5204522406078944\n",
      "(0.8424322123388029, 0.0)\n",
      "1.0\n",
      "Mean Square Error 4.7827746091792145\n",
      "Mean Absolute Error 1.5204522406078944\n",
      "(0.8424322123388029, 0.0)\n",
      "1.0\n",
      "Mean Square Error 4.7827746091792145\n",
      "Mean Absolute Error 1.5204522406078944\n",
      "(0.8424322123388029, 0.0)\n",
      "1.0\n",
      "Mean Square Error 4.7827746091792145\n",
      "Mean Absolute Error 1.5204522406078944\n",
      "(0.8424322123388029, 0.0)\n",
      "1.0\n",
      "Mean Square Error 4.7827746091792145\n",
      "Mean Absolute Error 1.5204522406078944\n",
      "(0.8424322123388029, 0.0)\n",
      "1.0\n",
      "Mean Square Error 4.7827746091792145\n",
      "Mean Absolute Error 1.5204522406078944\n",
      "(0.8424322123388029, 0.0)\n",
      "1.0\n",
      "Mean Square Error 4.7827746091792145\n",
      "Mean Absolute Error 1.5204522406078944\n",
      "(0.8424322123388029, 0.0)\n",
      "1.0\n",
      "Mean Square Error 4.7827746091792145\n",
      "Mean Absolute Error 1.5204522406078944\n",
      "(0.8424322123388029, 0.0)\n",
      "1.0\n",
      "Mean Square Error 4.7827746091792145\n",
      "Mean Absolute Error 1.5204522406078944\n",
      "(0.8424322123388029, 0.0)\n",
      "1.0\n",
      "Mean Square Error 4.7827746091792145\n",
      "Mean Absolute Error 1.5204522406078944\n",
      "(0.8424322123388029, 0.0)\n",
      "1.0\n",
      "Mean Square Error 4.7827746091792145\n",
      "Mean Absolute Error 1.5204522406078944\n",
      "(0.8424322123388029, 0.0)\n",
      "1.0\n",
      "Mean Square Error 4.7827746091792145\n",
      "Mean Absolute Error 1.5204522406078944\n",
      "(0.8424322123388029, 0.0)\n",
      "1.0\n",
      "Mean Square Error 4.7827746091792145\n",
      "Mean Absolute Error 1.5204522406078944\n",
      "(0.8424322123388029, 0.0)\n",
      "1.0\n",
      "Mean Square Error 4.7827746091792145\n",
      "Mean Absolute Error 1.5204522406078944\n",
      "(0.8424322123388029, 0.0)\n",
      "1.0\n",
      "Mean Square Error 4.7827746091792145\n",
      "Mean Absolute Error 1.5204522406078944\n",
      "(0.8424322123388029, 0.0)\n",
      "1.0\n",
      "Mean Square Error 4.7827746091792145\n",
      "Mean Absolute Error 1.5204522406078944\n",
      "(0.8424322123388029, 0.0)\n",
      "1.0\n",
      "Mean Square Error 4.7827746091792145\n",
      "Mean Absolute Error 1.5204522406078944\n",
      "(0.8424322123388029, 0.0)\n",
      "1.0\n",
      "Mean Square Error 4.7827746091792145\n",
      "Mean Absolute Error 1.5204522406078944\n",
      "(0.8424322123388029, 0.0)\n",
      "1.0\n",
      "Mean Square Error 4.7827746091792145\n",
      "Mean Absolute Error 1.5204522406078944\n",
      "(0.8424322123388029, 0.0)\n",
      "1.0\n",
      "Mean Square Error 4.7827746091792145\n",
      "Mean Absolute Error 1.5204522406078944\n",
      "(0.8424322123388029, 0.0)\n",
      "1.0\n",
      "Mean Square Error 4.7827746091792145\n",
      "Mean Absolute Error 1.5204522406078944\n",
      "(0.8424322123388029, 0.0)\n",
      "1.0\n",
      "Mean Square Error 4.7827746091792145\n",
      "Mean Absolute Error 1.5204522406078944\n",
      "(0.8424322123388029, 0.0)\n",
      "1.0\n",
      "Mean Square Error 4.7827746091792145\n",
      "Mean Absolute Error 1.5204522406078944\n",
      "(0.8424322123388029, 0.0)\n",
      "1.0\n",
      "Mean Square Error 4.7827746091792145\n",
      "Mean Absolute Error 1.5204522406078944\n",
      "(0.8424322123388029, 0.0)\n",
      "1.0\n",
      "Mean Square Error 4.7827746091792145\n",
      "Mean Absolute Error 1.5204522406078944\n",
      "(0.8424322123388029, 0.0)\n",
      "1.0\n",
      "Mean Square Error 4.7827746091792145\n",
      "Mean Absolute Error 1.5204522406078944\n",
      "(0.8424322123388029, 0.0)\n",
      "1.0\n",
      "Mean Square Error 4.7827746091792145\n",
      "Mean Absolute Error 1.5204522406078944\n",
      "(0.8424322123388029, 0.0)\n",
      "1.0\n",
      "Mean Square Error 4.7827746091792145\n",
      "Mean Absolute Error 1.5204522406078944\n",
      "(0.8424322123388029, 0.0)\n",
      "1.0\n",
      "Mean Square Error 4.7827746091792145\n",
      "Mean Absolute Error 1.5204522406078944\n",
      "(0.8424322123388029, 0.0)\n",
      "1.0\n",
      "Mean Square Error 4.7827746091792145\n",
      "Mean Absolute Error 1.5204522406078944\n",
      "(0.8424322123388029, 0.0)\n",
      "1.0\n",
      "Mean Square Error 4.7827746091792145\n",
      "Mean Absolute Error 1.5204522406078944\n",
      "(0.8424322123388029, 0.0)\n",
      "1.0\n",
      "Mean Square Error 4.7827746091792145\n",
      "Mean Absolute Error 1.5204522406078944\n",
      "(0.8424322123388029, 0.0)\n",
      "1.0\n",
      "Mean Square Error 4.7827746091792145\n",
      "Mean Absolute Error 1.5204522406078944\n",
      "(0.8424322123388029, 0.0)\n",
      "1.0\n",
      "Mean Square Error 4.7827746091792145\n",
      "Mean Absolute Error 1.5204522406078944\n",
      "(0.8424322123388029, 0.0)\n",
      "1.0\n",
      "Mean Square Error 4.7827746091792145\n",
      "Mean Absolute Error 1.5204522406078944\n",
      "(0.8424322123388029, 0.0)\n",
      "1.0\n",
      "Mean Square Error 4.7827746091792145\n",
      "Mean Absolute Error 1.5204522406078944\n",
      "(0.8424322123388029, 0.0)\n",
      "1.0\n",
      "Mean Square Error 4.7827746091792145\n",
      "Mean Absolute Error 1.5204522406078944\n",
      "(0.8424322123388029, 0.0)\n",
      "1.0\n",
      "Mean Square Error 4.7827746091792145\n",
      "Mean Absolute Error 1.5204522406078944\n",
      "(0.8424322123388029, 0.0)\n",
      "1.0\n"
     ]
    },
    {
     "name": "stdout",
     "output_type": "stream",
     "text": [
      "Mean Square Error 4.7827746091792145\n",
      "Mean Absolute Error 1.5204522406078944\n",
      "(0.8424322123388029, 0.0)\n",
      "1.0\n",
      "Mean Square Error 4.7827746091792145\n",
      "Mean Absolute Error 1.5204522406078944\n",
      "(0.8424322123388029, 0.0)\n",
      "1.0\n",
      "Mean Square Error 4.7827746091792145\n",
      "Mean Absolute Error 1.5204522406078944\n",
      "(0.8424322123388029, 0.0)\n",
      "1.0\n",
      "Mean Square Error 4.7827746091792145\n",
      "Mean Absolute Error 1.5204522406078944\n",
      "(0.8424322123388029, 0.0)\n",
      "1.0\n",
      "Mean Square Error 4.7827746091792145\n",
      "Mean Absolute Error 1.5204522406078944\n",
      "(0.8424322123388029, 0.0)\n",
      "1.0\n",
      "Mean Square Error 4.7827746091792145\n",
      "Mean Absolute Error 1.5204522406078944\n",
      "(0.8424322123388029, 0.0)\n",
      "1.0\n",
      "Mean Square Error 4.7827746091792145\n",
      "Mean Absolute Error 1.5204522406078944\n",
      "(0.8424322123388029, 0.0)\n",
      "1.0\n",
      "Mean Square Error 4.7827746091792145\n",
      "Mean Absolute Error 1.5204522406078944\n",
      "(0.8424322123388029, 0.0)\n",
      "1.0\n",
      "Mean Square Error 4.7827746091792145\n",
      "Mean Absolute Error 1.5204522406078944\n",
      "(0.8424322123388029, 0.0)\n"
     ]
    }
   ],
   "source": [
    "for i in range(100):\n",
    "    final_score =0\n",
    "    x_train, x_test, y_train, y_test = split(random_state=i)\n",
    "    lr = LinearRegression().fit(x_train, y_train)\n",
    "    y_pred = pd.DataFrame(lr.predict(x_test))\n",
    "    \n",
    "    score = lr.score(x_test, y_pred)\n",
    "    if score > final_score:\n",
    "        final_score = score\n",
    "        print(lr.score(x_test, y_pred))\n",
    "        print(\"Mean Square Error\", mean_squared_error(y_test , pd.DataFrame(y_pred)))\n",
    "        print(\"Mean Absolute Error\", mean_absolute_error(y_test , pd.DataFrame(y_pred)))\n",
    "        print(stats.pearsonr(y_test.FF , y_pred[0]))"
   ]
  },
  {
   "cell_type": "code",
   "execution_count": null,
   "metadata": {},
   "outputs": [],
   "source": [
    "print(lr.score(x_test, y_pred))\n",
    "print(\"Mean Square Error\", mean_squared_error(y_test , pd.DataFrame(y_pred)))\n",
    "print(\"Mean Absolute Error\", mean_absolute_error(y_test , pd.DataFrame(y_pred)))\n",
    "print(stats.pearsonr(y_test.FF , y_pred[0]))"
   ]
  },
  {
   "cell_type": "markdown",
   "metadata": {},
   "source": [
    "##### Feature Scalling"
   ]
  },
  {
   "cell_type": "code",
   "execution_count": null,
   "metadata": {},
   "outputs": [],
   "source": [
    "from sklearn.preprocessing import StandardScaler\n",
    "scaler = StandardScaler()\n",
    "scaler.fit(x_train)"
   ]
  },
  {
   "cell_type": "code",
   "execution_count": null,
   "metadata": {},
   "outputs": [],
   "source": [
    "scaled_x_train = scaler.transform(x_train)\n",
    "scaled_x_test = scaler.transform(x_test)"
   ]
  },
  {
   "cell_type": "code",
   "execution_count": null,
   "metadata": {},
   "outputs": [],
   "source": [
    "slr = LinearRegression().fit(scaled_x_train,y_train)"
   ]
  },
  {
   "cell_type": "code",
   "execution_count": null,
   "metadata": {},
   "outputs": [],
   "source": [
    "slr_pred = slr.predict(scaled_x_test)"
   ]
  },
  {
   "cell_type": "code",
   "execution_count": null,
   "metadata": {},
   "outputs": [],
   "source": [
    "print(\"R2 Score for train set : {:.3f}\".format(slr.score(scaled_x_test,slr_pred)))\n",
    "print(\"Mean Square Error\", mean_squared_error(y_test , pd.DataFrame(slr_pred)))\n",
    "print(\"Mean Absolute Error\", mean_absolute_error(y_test , pd.DataFrame(slr_pred)))"
   ]
  },
  {
   "cell_type": "markdown",
   "metadata": {},
   "source": [
    "##### Ridge()"
   ]
  },
  {
   "cell_type": "code",
   "execution_count": null,
   "metadata": {},
   "outputs": [],
   "source": [
    "from sklearn.linear_model import Ridge\n",
    "for i in range(100):\n",
    "    \n",
    "    ridge = Ridge(alpha  = 0.1)\n",
    "    ridge.fit(scaled_x_train, y_train)\n",
    "    ridge_pred = ridge.predict(scaled_x_test)\n",
    "    print(\"R2 Score\",ridge.score(scaled_x_test,y_test))"
   ]
  },
  {
   "cell_type": "code",
   "execution_count": null,
   "metadata": {},
   "outputs": [],
   "source": [
    "print(\"R2 Score\",ridge.score(scaled_x_test,y_test))"
   ]
  },
  {
   "cell_type": "code",
   "execution_count": null,
   "metadata": {},
   "outputs": [],
   "source": [
    "y_test.head(10)"
   ]
  },
  {
   "cell_type": "markdown",
   "metadata": {},
   "source": [
    "## Split the data set into train and test"
   ]
  },
  {
   "cell_type": "code",
   "execution_count": null,
   "metadata": {},
   "outputs": [],
   "source": [
    "from sklearn.model_selection import train_test_split\n",
    "x_train, x_test , y_train, y_test = train_test_split(x,y)\n",
    "x_train.shape, y_train.shape , y_train.shape, y_test.shape"
   ]
  },
  {
   "cell_type": "code",
   "execution_count": null,
   "metadata": {},
   "outputs": [],
   "source": [
    "x_ = np.array(x_train)\n",
    "y_ = np.array(y_train)"
   ]
  },
  {
   "cell_type": "markdown",
   "metadata": {},
   "source": [
    "## Keras Model"
   ]
  },
  {
   "cell_type": "code",
   "execution_count": null,
   "metadata": {},
   "outputs": [],
   "source": [
    "n_inputs = x_train.shape[1]\n",
    "n_inputs"
   ]
  },
  {
   "cell_type": "markdown",
   "metadata": {},
   "source": []
  },
  {
   "cell_type": "markdown",
   "metadata": {},
   "source": [
    "## Create a Keras Model"
   ]
  },
  {
   "cell_type": "code",
   "execution_count": null,
   "metadata": {},
   "outputs": [],
   "source": [
    "x_train.shape"
   ]
  },
  {
   "cell_type": "code",
   "execution_count": null,
   "metadata": {},
   "outputs": [],
   "source": [
    "#optionally, the First layer can receive an input_shape argument\n",
    "model = Sequential()\n",
    "model.add(Dense(3880,input_shape = (3880,)))\n",
    "model.add(Dense(32))"
   ]
  },
  {
   "cell_type": "code",
   "execution_count": null,
   "metadata": {},
   "outputs": [],
   "source": [
    "# The below code is same as above\n",
    "model = Sequential()\n",
    "model.add(Dense(32, input_dim = 500))\n",
    "model.add(Dense(1))"
   ]
  },
  {
   "cell_type": "code",
   "execution_count": null,
   "metadata": {},
   "outputs": [],
   "source": [
    "# The below code is same as above\n",
    "model = Sequential()\n",
    "model.add(Dense(32,batch_input_shape = (None,500)))"
   ]
  },
  {
   "cell_type": "markdown",
   "metadata": {},
   "source": [
    "## From Our Data"
   ]
  },
  {
   "cell_type": "code",
   "execution_count": null,
   "metadata": {
    "scrolled": true
   },
   "outputs": [],
   "source": [
    "from keras.models import Sequential \n",
    "# Import the Model\n",
    "\n",
    "n_inputs = x_train.shape[1]\n",
    "model = Sequential()\n",
    "model.add(Dense(n_inputs))\n",
    "model.add(Dense(32))\n",
    "model.add(Dense(100,activation = \"relu\"))\n",
    "model.add(Dense(10,activation=\"relu\"))\n",
    "model.add(Dense(1))"
   ]
  },
  {
   "cell_type": "markdown",
   "metadata": {},
   "source": [
    "## Compile the Model"
   ]
  },
  {
   "cell_type": "code",
   "execution_count": null,
   "metadata": {},
   "outputs": [],
   "source": [
    "model.compile(\n",
    "    optimizer = \"Nadam\",\n",
    "    loss = \"mean_squared_error\",\n",
    "    metrics=None,\n",
    "    loss_weights=None,\n",
    "    sample_weight_mode = None,\n",
    "    weighted_metrics= None,\n",
    "    target_tensors = None)"
   ]
  },
  {
   "cell_type": "markdown",
   "metadata": {},
   "source": [
    "* class **Adadelta** : Optimizer that implements the Adadelta algorithm.\n",
    "\n",
    "* class **Adagrad**: Optimizer that implements the Adagrad algorithm.\n",
    "\n",
    "* class **Adam**: Optimizer that implements the Adam algorithm.\n",
    "\n",
    "* class **Adamax**: Optimizer that implements the Adamax algorithm.\n",
    "\n",
    "* class **Ftrl**: Optimizer that implements the FTRL algorithm.\n",
    "\n",
    "* class **Nadam**: Optimizer that implements the NAdam algorithm.\n",
    "\n",
    "* class **Optimizer**: Updated base class for optimizers.\n",
    "\n",
    "* class **RMSprop**: Optimizer that implements the RMSprop algorithm.\n",
    "\n",
    "* class **SGD**: Stochastic gradient descent and momentum optimizer."
   ]
  },
  {
   "cell_type": "markdown",
   "metadata": {},
   "source": [
    "## Fit the Model"
   ]
  },
  {
   "cell_type": "code",
   "execution_count": null,
   "metadata": {},
   "outputs": [],
   "source": [
    "x_train = np.array(x_train)\n",
    "y_train = np.array(y_train)*100"
   ]
  },
  {
   "cell_type": "code",
   "execution_count": null,
   "metadata": {},
   "outputs": [],
   "source": [
    "x_ = np.array(x_train)\n",
    "y_ = np.array(y_train)"
   ]
  },
  {
   "cell_type": "code",
   "execution_count": null,
   "metadata": {},
   "outputs": [],
   "source": [
    "model.fit(\n",
    "    x=x_train,\n",
    "    y=y_train,\n",
    "    batch_size=None,    #Number of Sample per Gradient size\n",
    "    epochs=5,          #Number of Epoch to train the \n",
    "    verbose=1,          # 0,1 or 2,Verbosity mode , 0 = Silent , 1 = Progress bar , 2 = one line per epoch\n",
    "    callbacks=None,     # For more tf.keras.callbacks See below different options\n",
    "    validation_split=0.0, # Float between 0 and 1, Fraction of Training Data to be used as validation Data\n",
    "    validation_data=None, #data on which the loss and any model metrics at the end of each epoch. like (x_val,y_val)\n",
    "    shuffle=True,        #Boolean weather to shuffle the training data before each epoch\n",
    "    class_weight=None,   # Optional dictionary mapping class indices (integers) to a weight (float) value,\n",
    "    sample_weight=None, #numpy array of Weight for the training samples, Used for weighting the loss function\n",
    "    initial_epoch=0,   #Int,Epochat which to start training(Useful for resuming a previous training run)\n",
    "    steps_per_epoch=None, #Int or None , Number of steps before declaring one epoch\n",
    "    validation_steps=None, #Only relevant if Validation_data is provided \n",
    "    validation_freq=1,   #Only relevant if validation data is provided.Int or collections_abc.Container\n",
    "    max_queue_size=10,\n",
    "    workers=1,\n",
    "    use_multiprocessing=False\n",
    ")"
   ]
  },
  {
   "cell_type": "code",
   "execution_count": null,
   "metadata": {},
   "outputs": [],
   "source": [
    "model.predict(x_train)"
   ]
  },
  {
   "cell_type": "markdown",
   "metadata": {},
   "source": [
    "#### `callbacks`\n",
    "`BaseLogger , CSVLogger , Callback , EarlyStopping , History , LambdaCallback , LearningRateScheduler , ModelCheckpoint , ProgbarLogger , ReduceLROnPlateau , RemoteMonitor , TensorBoard , TerminateOnNan`"
   ]
  },
  {
   "cell_type": "markdown",
   "metadata": {},
   "source": [
    "## Predict the Model"
   ]
  },
  {
   "cell_type": "code",
   "execution_count": null,
   "metadata": {},
   "outputs": [],
   "source": [
    "y = model.predict(x_test,\n",
    "             batch_size = None,\n",
    "             verbose =0,\n",
    "             steps = None, \n",
    "             callbacks = None,\n",
    "             workers =1,\n",
    "             use_multiprocessing = False)"
   ]
  },
  {
   "cell_type": "code",
   "execution_count": null,
   "metadata": {},
   "outputs": [],
   "source": [
    "y[:10]"
   ]
  },
  {
   "cell_type": "code",
   "execution_count": null,
   "metadata": {},
   "outputs": [],
   "source": []
  },
  {
   "cell_type": "markdown",
   "metadata": {},
   "source": [
    "## Model.evaluate()"
   ]
  },
  {
   "cell_type": "code",
   "execution_count": null,
   "metadata": {},
   "outputs": [],
   "source": [
    "#  model.evaluate(\n",
    "#      x=None,\n",
    "#      y=None,\n",
    "#      batch_size=None,\n",
    "#      verbose=1,\n",
    "#      sample_weight=None,\n",
    "#      steps=None,\n",
    "#      callbacks=None,\n",
    "#      max_queue_size=10,\n",
    "#      workers=1,\n",
    "#      use_multiprocessing=False\n",
    "#  )"
   ]
  },
  {
   "cell_type": "markdown",
   "metadata": {},
   "source": [
    "### Save the Model"
   ]
  },
  {
   "cell_type": "code",
   "execution_count": null,
   "metadata": {},
   "outputs": [],
   "source": [
    "#    model.save(\n",
    "#        filepath,\n",
    "#        overwrite=True,\n",
    "#        include_optimizer=True,\n",
    "#        save_format=None,\n",
    "#        signatures=None,\n",
    "#        options=None)"
   ]
  },
  {
   "cell_type": "markdown",
   "metadata": {},
   "source": [
    "#### model.save_weights(filepath , overwrite = True , save_format = None)\n",
    "#### model.summary(line_length = None, postitions = None , print_fn = None)\n",
    "#### model.test_on_batch(x,y = None , sample_weight = None , reset_metrics = True)\n",
    "#### model.to_jason(**kwargs)\n",
    "#### model.to_yaml(**kwargs)\n",
    "#### model.train_on_batch(x , y = None , sample_weight = None , class_weight =  None , reset_metrics = True)\n"
   ]
  }
 ],
 "metadata": {
  "kernelspec": {
   "display_name": "Python 3.7.4 64-bit ('base': conda)",
   "language": "python",
   "name": "python37464bitbaseconda67970ada4b5d499c879aef5e70dc73ee"
  },
  "language_info": {
   "codemirror_mode": {
    "name": "ipython",
    "version": 3
   },
   "file_extension": ".py",
   "mimetype": "text/x-python",
   "name": "python",
   "nbconvert_exporter": "python",
   "pygments_lexer": "ipython3",
   "version": "3.7.7"
  }
 },
 "nbformat": 4,
 "nbformat_minor": 2
}
