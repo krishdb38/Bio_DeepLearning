{
 "cells": [
  {
   "cell_type": "code",
   "execution_count": 1,
   "metadata": {},
   "outputs": [
    {
     "name": "stdout",
     "output_type": "stream",
     "text": [
      "2.0.0\n"
     ]
    },
    {
     "name": "stderr",
     "output_type": "stream",
     "text": [
      "Using TensorFlow backend.\n"
     ]
    }
   ],
   "source": [
    "# Import Model\n",
    "from __future__ import absolute_import, division, print_function , unicode_literals\n",
    "\n",
    "import pathlib\n",
    "import matplotlib.pyplot as plt\n",
    "import numpy as np\n",
    "import pandas as pd\n",
    "import seaborn as sns\n",
    "\n",
    "import tensorflow as tf\n",
    "from tensorflow import keras\n",
    "\n",
    "from tensorflow.keras import layers\n",
    "from keras.layers import Dense , Activation\n",
    "print(tf.__version__)"
   ]
  },
  {
   "cell_type": "code",
   "execution_count": 2,
   "metadata": {},
   "outputs": [],
   "source": [
    "#! #!pip install -q git+https://github.com/tensorflow/docs\n",
    "import tensorflow_docs as tfdocs\n",
    "import tensorflow_docs.modeling\n",
    "import tensorflow_docs.plots"
   ]
  },
  {
   "cell_type": "code",
   "execution_count": 3,
   "metadata": {},
   "outputs": [],
   "source": [
    "x = pd.read_csv(\"../tsrl900.csv\")\n",
    "y = pd.read_csv(\"../ffyrgc900.csv\")\n",
    "x = x.iloc[:,1:]\n",
    "y = y.iloc[:,[1]]"
   ]
  },
  {
   "cell_type": "code",
   "execution_count": 4,
   "metadata": {},
   "outputs": [
    {
     "data": {
      "text/html": [
       "<div>\n",
       "<style scoped>\n",
       "    .dataframe tbody tr th:only-of-type {\n",
       "        vertical-align: middle;\n",
       "    }\n",
       "\n",
       "    .dataframe tbody tr th {\n",
       "        vertical-align: top;\n",
       "    }\n",
       "\n",
       "    .dataframe thead th {\n",
       "        text-align: right;\n",
       "    }\n",
       "</style>\n",
       "<table border=\"1\" class=\"dataframe\">\n",
       "  <thead>\n",
       "    <tr style=\"text-align: right;\">\n",
       "      <th></th>\n",
       "      <th>V1</th>\n",
       "      <th>V2</th>\n",
       "      <th>V3</th>\n",
       "      <th>V4</th>\n",
       "      <th>V5</th>\n",
       "      <th>V6</th>\n",
       "      <th>V7</th>\n",
       "      <th>V8</th>\n",
       "      <th>V9</th>\n",
       "      <th>V10</th>\n",
       "      <th>...</th>\n",
       "      <th>V3871</th>\n",
       "      <th>V3872</th>\n",
       "      <th>V3873</th>\n",
       "      <th>V3874</th>\n",
       "      <th>V3875</th>\n",
       "      <th>V3876</th>\n",
       "      <th>V3877</th>\n",
       "      <th>V3878</th>\n",
       "      <th>V3879</th>\n",
       "      <th>V3880</th>\n",
       "    </tr>\n",
       "  </thead>\n",
       "  <tbody>\n",
       "    <tr>\n",
       "      <td>0</td>\n",
       "      <td>1.243492</td>\n",
       "      <td>1.281750</td>\n",
       "      <td>1.351353</td>\n",
       "      <td>1.944306</td>\n",
       "      <td>1.362875</td>\n",
       "      <td>1.183868</td>\n",
       "      <td>0.981580</td>\n",
       "      <td>1.160688</td>\n",
       "      <td>1.241449</td>\n",
       "      <td>1.104518</td>\n",
       "      <td>...</td>\n",
       "      <td>0</td>\n",
       "      <td>0</td>\n",
       "      <td>0</td>\n",
       "      <td>0</td>\n",
       "      <td>0</td>\n",
       "      <td>0</td>\n",
       "      <td>0</td>\n",
       "      <td>0</td>\n",
       "      <td>0</td>\n",
       "      <td>0</td>\n",
       "    </tr>\n",
       "    <tr>\n",
       "      <td>1</td>\n",
       "      <td>1.125272</td>\n",
       "      <td>1.293847</td>\n",
       "      <td>1.233437</td>\n",
       "      <td>1.793121</td>\n",
       "      <td>1.146769</td>\n",
       "      <td>1.052595</td>\n",
       "      <td>0.989157</td>\n",
       "      <td>1.123965</td>\n",
       "      <td>1.194525</td>\n",
       "      <td>1.180670</td>\n",
       "      <td>...</td>\n",
       "      <td>0</td>\n",
       "      <td>0</td>\n",
       "      <td>0</td>\n",
       "      <td>0</td>\n",
       "      <td>0</td>\n",
       "      <td>0</td>\n",
       "      <td>0</td>\n",
       "      <td>0</td>\n",
       "      <td>0</td>\n",
       "      <td>0</td>\n",
       "    </tr>\n",
       "  </tbody>\n",
       "</table>\n",
       "<p>2 rows × 3880 columns</p>\n",
       "</div>"
      ],
      "text/plain": [
       "         V1        V2        V3        V4        V5        V6        V7  \\\n",
       "0  1.243492  1.281750  1.351353  1.944306  1.362875  1.183868  0.981580   \n",
       "1  1.125272  1.293847  1.233437  1.793121  1.146769  1.052595  0.989157   \n",
       "\n",
       "         V8        V9       V10  ...  V3871  V3872  V3873  V3874  V3875  \\\n",
       "0  1.160688  1.241449  1.104518  ...      0      0      0      0      0   \n",
       "1  1.123965  1.194525  1.180670  ...      0      0      0      0      0   \n",
       "\n",
       "   V3876  V3877  V3878  V3879  V3880  \n",
       "0      0      0      0      0      0  \n",
       "1      0      0      0      0      0  \n",
       "\n",
       "[2 rows x 3880 columns]"
      ]
     },
     "metadata": {},
     "output_type": "display_data"
    },
    {
     "data": {
      "text/html": [
       "<div>\n",
       "<style scoped>\n",
       "    .dataframe tbody tr th:only-of-type {\n",
       "        vertical-align: middle;\n",
       "    }\n",
       "\n",
       "    .dataframe tbody tr th {\n",
       "        vertical-align: top;\n",
       "    }\n",
       "\n",
       "    .dataframe thead th {\n",
       "        text-align: right;\n",
       "    }\n",
       "</style>\n",
       "<table border=\"1\" class=\"dataframe\">\n",
       "  <thead>\n",
       "    <tr style=\"text-align: right;\">\n",
       "      <th></th>\n",
       "      <th>V1</th>\n",
       "    </tr>\n",
       "  </thead>\n",
       "  <tbody>\n",
       "    <tr>\n",
       "      <td>0</td>\n",
       "      <td>0.117575</td>\n",
       "    </tr>\n",
       "    <tr>\n",
       "      <td>1</td>\n",
       "      <td>0.121101</td>\n",
       "    </tr>\n",
       "  </tbody>\n",
       "</table>\n",
       "</div>"
      ],
      "text/plain": [
       "         V1\n",
       "0  0.117575\n",
       "1  0.121101"
      ]
     },
     "execution_count": 4,
     "metadata": {},
     "output_type": "execute_result"
    }
   ],
   "source": [
    "display(x.head(2))\n",
    "y.head(2)"
   ]
  },
  {
   "cell_type": "markdown",
   "metadata": {},
   "source": [
    "## Split the data set into train and test"
   ]
  },
  {
   "cell_type": "code",
   "execution_count": 5,
   "metadata": {},
   "outputs": [
    {
     "data": {
      "text/plain": [
       "((675, 3880), (675, 1), (675, 1), (225, 1))"
      ]
     },
     "execution_count": 5,
     "metadata": {},
     "output_type": "execute_result"
    }
   ],
   "source": [
    "from sklearn.model_selection import train_test_split\n",
    "x_train, x_test , y_train, y_test = train_test_split(x,y)\n",
    "x_train.shape, y_train.shape , y_train.shape, y_test.shape"
   ]
  },
  {
   "cell_type": "code",
   "execution_count": 6,
   "metadata": {},
   "outputs": [],
   "source": [
    "x_ = np.array(x_train)\n",
    "y_ = np.array(y_train)"
   ]
  },
  {
   "cell_type": "markdown",
   "metadata": {},
   "source": [
    "## Keras Model"
   ]
  },
  {
   "cell_type": "code",
   "execution_count": 7,
   "metadata": {},
   "outputs": [
    {
     "data": {
      "text/plain": [
       "3880"
      ]
     },
     "execution_count": 7,
     "metadata": {},
     "output_type": "execute_result"
    }
   ],
   "source": [
    "n_inputs = x_train.shape[1]\n",
    "n_inputs"
   ]
  },
  {
   "cell_type": "markdown",
   "metadata": {},
   "source": [
    "* class **Adadelta** : Optimizer that implements the Adadelta algorithm.\n",
    "\n",
    "* class **Adagrad**: Optimizer that implements the Adagrad algorithm.\n",
    "\n",
    "* class **Adam**: Optimizer that implements the Adam algorithm.\n",
    "\n",
    "* class **Adamax**: Optimizer that implements the Adamax algorithm.\n",
    "\n",
    "* class **Ftrl**: Optimizer that implements the FTRL algorithm.\n",
    "\n",
    "* class **Nadam**: Optimizer that implements the NAdam algorithm.\n",
    "\n",
    "* class **Optimizer**: Updated base class for optimizers.\n",
    "\n",
    "* class **RMSprop**: Optimizer that implements the RMSprop algorithm.\n",
    "\n",
    "* class **SGD**: Stochastic gradient descent and momentum optimizer."
   ]
  },
  {
   "cell_type": "markdown",
   "metadata": {},
   "source": [
    "## Create a Keras Model"
   ]
  },
  {
   "cell_type": "code",
   "execution_count": 8,
   "metadata": {
    "scrolled": true
   },
   "outputs": [],
   "source": [
    "from keras.models import Sequential \n",
    "# Import the Model\n",
    "\n",
    "n_inputs = x_train.shape[1]\n",
    "model = Sequential()\n",
    "model.add(Dense(n_inputs,input_dim =3880))\n",
    "model.add(Dense(32))\n",
    "model.add(Dense(10,activation=\"relu\"))\n",
    "model.add(Dense(1))"
   ]
  },
  {
   "cell_type": "markdown",
   "metadata": {},
   "source": [
    "## Compile the Model"
   ]
  },
  {
   "cell_type": "code",
   "execution_count": 9,
   "metadata": {},
   "outputs": [],
   "source": [
    "model.compile(\n",
    "    optimizer = \"rmsprop\",\n",
    "    loss = \"mean_squared_error\",\n",
    "    metrics=None,\n",
    "    loss_weights=None,\n",
    "    sample_weight_mode = None,\n",
    "    weighted_metrics= None,\n",
    "    target_tensors = None)"
   ]
  },
  {
   "cell_type": "markdown",
   "metadata": {},
   "source": [
    "## Fit the Model"
   ]
  },
  {
   "cell_type": "code",
   "execution_count": null,
   "metadata": {},
   "outputs": [
    {
     "name": "stdout",
     "output_type": "stream",
     "text": [
      "Epoch 1/10\n",
      " - 2s - loss: 69074.1614\n",
      "Epoch 2/10\n",
      " - 2s - loss: 9338.1031\n",
      "Epoch 3/10\n",
      " - 2s - loss: 19.3418\n",
      "Epoch 4/10\n",
      " - 2s - loss: 0.0223\n",
      "Epoch 5/10\n",
      " - 2s - loss: 0.0086\n",
      "Epoch 6/10\n",
      " - 2s - loss: 0.0137\n",
      "Epoch 7/10\n"
     ]
    }
   ],
   "source": [
    "model.fit(\n",
    "    x=x_train,\n",
    "    y=y_train,\n",
    "    batch_size=None,    #Number of Sample per Gradient size\n",
    "    epochs=10,          #Number of Epoch to train the \n",
    "    verbose=1,          # 0,1 or 2,Verbosity mode , 0 = Silent , 1 = Progress bar , 2 = one line per epoch\n",
    "    callbacks=None,     # For more tf.keras.callbacks See below different options\n",
    "    validation_split=0.0, # Float between 0 and 1, Fraction of Training Data to be used as validation Data\n",
    "    validation_data=None, #data on which the loss and any model metrics at the end of each epoch. like (x_val,y_val)\n",
    "    shuffle=False,        #Boolean weather to shuffle the training data before each epoch\n",
    "    class_weight=None,   # Optional dictionary mapping class indices (integers) to a weight (float) value,\n",
    "    sample_weight=None, #numpy array of Weight for the training samples, Used for weighting the loss function\n",
    "    initial_epoch=0,   #Int,Epochat which to start training(Useful for resuming a previous training run)\n",
    "    steps_per_epoch=None, #Int or None , Number of steps before declaring one epoch\n",
    "    validation_steps=None, #Only relevant if Validation_data is provided \n",
    "    validation_freq=1,   #Only relevant if validation data is provided.Int or collections_abc.Container\n",
    "    max_queue_size=10,\n",
    "    workers=1,\n",
    "    use_multiprocessing=False\n",
    ")"
   ]
  },
  {
   "cell_type": "markdown",
   "metadata": {},
   "source": [
    "#### `callbacks`\n",
    "`BaseLogger , CSVLogger , Callback , EarlyStopping , History , LambdaCallback , LearningRateScheduler , ModelCheckpoint , ProgbarLogger , ReduceLROnPlateau , RemoteMonitor , TensorBoard , TerminateOnNan`"
   ]
  },
  {
   "cell_type": "markdown",
   "metadata": {},
   "source": [
    "## Predict the Model"
   ]
  },
  {
   "cell_type": "code",
   "execution_count": null,
   "metadata": {},
   "outputs": [],
   "source": [
    "model.predict(x_test,\n",
    "             batch_size = None,\n",
    "             verbose =0,\n",
    "             steps = None, \n",
    "             callbacks = None,\n",
    "             max_que_size = 10,\n",
    "             workers =1,\n",
    "             use_multiprocessing = False)"
   ]
  },
  {
   "cell_type": "code",
   "execution_count": null,
   "metadata": {},
   "outputs": [],
   "source": []
  },
  {
   "cell_type": "code",
   "execution_count": null,
   "metadata": {},
   "outputs": [],
   "source": [
    "y_test.head(10)"
   ]
  },
  {
   "cell_type": "code",
   "execution_count": null,
   "metadata": {},
   "outputs": [],
   "source": [
    "model.evaluate(\n",
    "    x=None,\n",
    "    y=None,\n",
    "    batch_size=None,\n",
    "    verbose=1,\n",
    "    sample_weight=None,\n",
    "    steps=None,\n",
    "    callbacks=None,\n",
    "    max_queue_size=10,\n",
    "    workers=1,\n",
    "    use_multiprocessing=False\n",
    ")"
   ]
  },
  {
   "cell_type": "code",
   "execution_count": null,
   "metadata": {},
   "outputs": [],
   "source": []
  }
 ],
 "metadata": {
  "kernelspec": {
   "display_name": "Python 3.7.4 64-bit ('base': conda)",
   "language": "python",
   "name": "python37464bitbaseconda67970ada4b5d499c879aef5e70dc73ee"
  },
  "language_info": {
   "codemirror_mode": {
    "name": "ipython",
    "version": 3
   },
   "file_extension": ".py",
   "mimetype": "text/x-python",
   "name": "python",
   "nbconvert_exporter": "python",
   "pygments_lexer": "ipython3",
   "version": "3.7.4"
  }
 },
 "nbformat": 4,
 "nbformat_minor": 2
}
