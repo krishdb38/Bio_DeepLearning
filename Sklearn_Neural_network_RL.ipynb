{
 "cells": [
  {
   "cell_type": "code",
   "execution_count": 1,
   "metadata": {},
   "outputs": [],
   "source": [
    "import numpy as np\n",
    "import pandas as pd\n",
    "np.random.seed(42)\n",
    "\n",
    "#scipy helper functions\n",
    "from scipy import stats\n",
    "\n",
    "### For Accuracy\n",
    "from sklearn.metrics import accuracy_score\n",
    "\n",
    "import warnings\n",
    "warnings.filterwarnings(\"ignore\")"
   ]
  },
  {
   "cell_type": "markdown",
   "metadata": {},
   "source": [
    "###### Standard ML Models for Comparison"
   ]
  },
  {
   "cell_type": "code",
   "execution_count": 2,
   "metadata": {},
   "outputs": [],
   "source": [
    "from sklearn.linear_model import BayesianRidge\n",
    "from sklearn.linear_model import LinearRegression\n",
    "from sklearn.linear_model import Ridge                   \n",
    "from sklearn.linear_model import ElasticNet\n",
    "#splitting data into training/testing \n",
    "from sklearn.model_selection import train_test_split\n",
    "\n",
    "#Metrix to verify the Prediction\n",
    "from sklearn.metrics import mean_squared_error, mean_absolute_error\n",
    "#Distributions\n",
    "import scipy"
   ]
  },
  {
   "cell_type": "markdown",
   "metadata": {},
   "source": [
    "##### Load the data"
   ]
  },
  {
   "cell_type": "code",
   "execution_count": 5,
   "metadata": {},
   "outputs": [],
   "source": [
    "x = pd.read_csv(\"../tsrl10000.csv\",nrows = 5000)\n",
    "x = x.iloc[:,1:]\n",
    "y = pd.read_csv(\"../srlbininfo_10000\",sep=\"\\t\",header= None,nrows=5000)\n",
    "y = y.iloc[:,1:]\n",
    "y.columns= [\"V1\"]"
   ]
  },
  {
   "cell_type": "code",
   "execution_count": 6,
   "metadata": {},
   "outputs": [
    {
     "data": {
      "text/html": [
       "<div>\n",
       "<style scoped>\n",
       "    .dataframe tbody tr th:only-of-type {\n",
       "        vertical-align: middle;\n",
       "    }\n",
       "\n",
       "    .dataframe tbody tr th {\n",
       "        vertical-align: top;\n",
       "    }\n",
       "\n",
       "    .dataframe thead th {\n",
       "        text-align: right;\n",
       "    }\n",
       "</style>\n",
       "<table border=\"1\" class=\"dataframe\">\n",
       "  <thead>\n",
       "    <tr style=\"text-align: right;\">\n",
       "      <th></th>\n",
       "      <th>V1</th>\n",
       "      <th>V2</th>\n",
       "      <th>V3</th>\n",
       "      <th>V4</th>\n",
       "      <th>V5</th>\n",
       "      <th>V6</th>\n",
       "      <th>V7</th>\n",
       "      <th>V8</th>\n",
       "      <th>V9</th>\n",
       "      <th>V10</th>\n",
       "      <th>...</th>\n",
       "      <th>V3871</th>\n",
       "      <th>V3872</th>\n",
       "      <th>V3873</th>\n",
       "      <th>V3874</th>\n",
       "      <th>V3875</th>\n",
       "      <th>V3876</th>\n",
       "      <th>V3877</th>\n",
       "      <th>V3878</th>\n",
       "      <th>V3879</th>\n",
       "      <th>V3880</th>\n",
       "    </tr>\n",
       "  </thead>\n",
       "  <tbody>\n",
       "    <tr>\n",
       "      <th>0</th>\n",
       "      <td>1.179333</td>\n",
       "      <td>1.334434</td>\n",
       "      <td>1.403288</td>\n",
       "      <td>1.541632</td>\n",
       "      <td>1.325201</td>\n",
       "      <td>1.101396</td>\n",
       "      <td>1.096208</td>\n",
       "      <td>1.169582</td>\n",
       "      <td>1.201159</td>\n",
       "      <td>1.145272</td>\n",
       "      <td>...</td>\n",
       "      <td>0</td>\n",
       "      <td>0</td>\n",
       "      <td>0</td>\n",
       "      <td>0</td>\n",
       "      <td>0</td>\n",
       "      <td>0</td>\n",
       "      <td>0</td>\n",
       "      <td>0</td>\n",
       "      <td>0</td>\n",
       "      <td>0</td>\n",
       "    </tr>\n",
       "    <tr>\n",
       "      <th>1</th>\n",
       "      <td>1.148473</td>\n",
       "      <td>1.422455</td>\n",
       "      <td>1.373932</td>\n",
       "      <td>1.515307</td>\n",
       "      <td>1.337463</td>\n",
       "      <td>1.077379</td>\n",
       "      <td>1.061001</td>\n",
       "      <td>1.157020</td>\n",
       "      <td>1.258965</td>\n",
       "      <td>1.140321</td>\n",
       "      <td>...</td>\n",
       "      <td>0</td>\n",
       "      <td>0</td>\n",
       "      <td>0</td>\n",
       "      <td>0</td>\n",
       "      <td>0</td>\n",
       "      <td>0</td>\n",
       "      <td>0</td>\n",
       "      <td>0</td>\n",
       "      <td>0</td>\n",
       "      <td>0</td>\n",
       "    </tr>\n",
       "  </tbody>\n",
       "</table>\n",
       "<p>2 rows × 3880 columns</p>\n",
       "</div>"
      ],
      "text/plain": [
       "         V1        V2        V3        V4        V5        V6        V7  \\\n",
       "0  1.179333  1.334434  1.403288  1.541632  1.325201  1.101396  1.096208   \n",
       "1  1.148473  1.422455  1.373932  1.515307  1.337463  1.077379  1.061001   \n",
       "\n",
       "         V8        V9       V10  ...  V3871  V3872  V3873  V3874  V3875  \\\n",
       "0  1.169582  1.201159  1.145272  ...      0      0      0      0      0   \n",
       "1  1.157020  1.258965  1.140321  ...      0      0      0      0      0   \n",
       "\n",
       "   V3876  V3877  V3878  V3879  V3880  \n",
       "0      0      0      0      0      0  \n",
       "1      0      0      0      0      0  \n",
       "\n",
       "[2 rows x 3880 columns]"
      ]
     },
     "metadata": {},
     "output_type": "display_data"
    },
    {
     "data": {
      "text/html": [
       "<div>\n",
       "<style scoped>\n",
       "    .dataframe tbody tr th:only-of-type {\n",
       "        vertical-align: middle;\n",
       "    }\n",
       "\n",
       "    .dataframe tbody tr th {\n",
       "        vertical-align: top;\n",
       "    }\n",
       "\n",
       "    .dataframe thead th {\n",
       "        text-align: right;\n",
       "    }\n",
       "</style>\n",
       "<table border=\"1\" class=\"dataframe\">\n",
       "  <thead>\n",
       "    <tr style=\"text-align: right;\">\n",
       "      <th></th>\n",
       "      <th>V1</th>\n",
       "    </tr>\n",
       "  </thead>\n",
       "  <tbody>\n",
       "    <tr>\n",
       "      <th>0</th>\n",
       "      <td>19.052706</td>\n",
       "    </tr>\n",
       "    <tr>\n",
       "      <th>1</th>\n",
       "      <td>17.772070</td>\n",
       "    </tr>\n",
       "  </tbody>\n",
       "</table>\n",
       "</div>"
      ],
      "text/plain": [
       "          V1\n",
       "0  19.052706\n",
       "1  17.772070"
      ]
     },
     "metadata": {},
     "output_type": "display_data"
    },
    {
     "name": "stdout",
     "output_type": "stream",
     "text": [
      "(5000, 3880) (5000, 1)\n"
     ]
    }
   ],
   "source": [
    "#lets see the sample of data\n",
    "display(x.head(2))\n",
    "display(y.head(2))\n",
    "print(x.shape, y.shape)"
   ]
  },
  {
   "cell_type": "markdown",
   "metadata": {},
   "source": [
    "###### Preparing data for training and testing purpose"
   ]
  },
  {
   "cell_type": "code",
   "execution_count": 29,
   "metadata": {},
   "outputs": [
    {
     "data": {
      "text/plain": [
       "((4000, 3880), (4000, 1), (1000, 3880), (1000, 1))"
      ]
     },
     "execution_count": 29,
     "metadata": {},
     "output_type": "execute_result"
    }
   ],
   "source": [
    "#split the train and test data,\n",
    "x_train,x_test,y_train, y_test= train_test_split(x,y,test_size=0.2,random_state = 50,shuffle= True) #80 % = 400 training % 100 test\n",
    "x_train.shape,y_train.shape, x_test.shape , y_test.shape\n",
    "#No suffling is done"
   ]
  },
  {
   "cell_type": "markdown",
   "metadata": {},
   "source": [
    "#### 1.Bayesian Ridge from SKLEARN Regression"
   ]
  },
  {
   "cell_type": "code",
   "execution_count": 54,
   "metadata": {},
   "outputs": [],
   "source": [
    "bay_prediction = BayesianRidge().fit(x_train,y_train)\n",
    "bay_parameter = \"alpha_1=0.1,alpha_2=0,lambda_1=0,lambda_2=0\""
   ]
  },
  {
   "cell_type": "code",
   "execution_count": 52,
   "metadata": {},
   "outputs": [
    {
     "name": "stdout",
     "output_type": "stream",
     "text": [
      "0.9386155773579641\n",
      "1.0438833925572226\n",
      "1.0438833925572226\n"
     ]
    }
   ],
   "source": [
    "#Training Data\n",
    "bay_prediction_ = bay_prediction.predict(x_train)\n",
    "print(stats.pearsonr(y_train.V1,bay_prediction_)[0])\n",
    "print(mean_absolute_error(y_train,bay_prediction_))\n",
    "print(mean_absolute_error(y_train,pd.DataFrame(bay_prediction_)))\n",
    "#bay_prediction.score(np.array(y_train.V1),np.array(y_train.V1))\n"
   ]
  },
  {
   "cell_type": "code",
   "execution_count": 55,
   "metadata": {
    "scrolled": true
   },
   "outputs": [
    {
     "name": "stdout",
     "output_type": "stream",
     "text": [
      "0.8375754198788564\n",
      "1.7248750692229355\n",
      "1.7248750692229355\n",
      "0.7012225876104196\n"
     ]
    }
   ],
   "source": [
    "#Testing Data\n",
    "bay_prediction_t = bay_prediction.predict(x_test)\n",
    "print(stats.pearsonr(y_test.V1,bay_prediction_t)[0])\n",
    "print(mean_absolute_error(y_test,bay_prediction_t))\n",
    "print(mean_absolute_error(y_test,pd.DataFrame(bay_prediction_t)))\n",
    "print(bay_prediction.score(x_test,y_test))"
   ]
  },
  {
   "cell_type": "markdown",
   "metadata": {},
   "source": [
    "###### 2.Linear Regression"
   ]
  },
  {
   "cell_type": "code",
   "execution_count": 35,
   "metadata": {},
   "outputs": [],
   "source": [
    "from sklearn.linear_model import LinearRegression\n",
    "lr = LinearRegression().fit(x_train,y_train)"
   ]
  },
  {
   "cell_type": "code",
   "execution_count": 36,
   "metadata": {},
   "outputs": [
    {
     "name": "stdout",
     "output_type": "stream",
     "text": [
      "(0.971378766714346, 0.0)\n",
      "0.7564653563629303\n"
     ]
    }
   ],
   "source": [
    "# Training Data\n",
    "lr_prediction_ = lr.predict(x_train)\n",
    "print(stats.pearsonr(y_train.V1,pd.DataFrame(lr_prediction_)[0]))\n",
    "print(mean_absolute_error(y_train,lr_prediction_))\n",
    "#Although the Corelation shows 100 % But teh Mae and "
   ]
  },
  {
   "cell_type": "code",
   "execution_count": 37,
   "metadata": {},
   "outputs": [
    {
     "name": "stdout",
     "output_type": "stream",
     "text": [
      "(0.6165593936789378, 9.208314916225105e-106)\n",
      "3.614841723145565\n",
      "-0.2434115917079207\n"
     ]
    }
   ],
   "source": [
    "# Test Data\n",
    "lr_prediction_t = lr.predict(x_test)\n",
    "from scipy import stats\n",
    "print(stats.pearsonr(y_test.V1,pd.DataFrame(lr_prediction_t)[0]))\n",
    "print(mean_absolute_error(y_test,lr_prediction_t))\n",
    "print(lr.score(x_test,y_test))"
   ]
  },
  {
   "cell_type": "markdown",
   "metadata": {},
   "source": [
    "###### 3.Ridge Regression "
   ]
  },
  {
   "cell_type": "code",
   "execution_count": 38,
   "metadata": {},
   "outputs": [],
   "source": [
    "ridge = Ridge(alpha=0.62).fit(x_train,y_train)"
   ]
  },
  {
   "cell_type": "code",
   "execution_count": 39,
   "metadata": {},
   "outputs": [
    {
     "name": "stdout",
     "output_type": "stream",
     "text": [
      "(0.9638478920482201, 0.0)\n",
      "MAE- 0.8156486614876639\n"
     ]
    }
   ],
   "source": [
    "## Ridge Prediction on Training data\n",
    "ridge_prediction_ = ridge.predict(x_train)\n",
    "print(stats.pearsonr(y_train.V1,pd.DataFrame(ridge_prediction_)[0]))\n",
    "print(\"MAE-\",mean_absolute_error(y_train,ridge_prediction_))"
   ]
  },
  {
   "cell_type": "code",
   "execution_count": 56,
   "metadata": {},
   "outputs": [
    {
     "name": "stdout",
     "output_type": "stream",
     "text": [
      "(0.7366373377059908, 1.014034185172731e-171)\n",
      "MAE--> 1998.4296243452561\n",
      "SCORE--> -242486.25864615184\n"
     ]
    }
   ],
   "source": [
    "## Ridge Prediction on Testing data\n",
    "ridge_prediction_t = ridge.predict(x_test)\n",
    "print(stats.pearsonr(y_test.V1,pd.DataFrame(ridge_prediction_t)[0]))\n",
    "print(\"MAE-->\",mean_absolute_error(y_test,ridge_prediction_t))\n",
    "print(\"SCORE-->\",ridge.score(x_test,y_test))"
   ]
  },
  {
   "cell_type": "markdown",
   "metadata": {},
   "source": [
    "##### 4.Elastic Net"
   ]
  },
  {
   "cell_type": "code",
   "execution_count": 57,
   "metadata": {},
   "outputs": [],
   "source": [
    "enet = ElasticNet().fit(x_train,y_train)"
   ]
  },
  {
   "cell_type": "code",
   "execution_count": 42,
   "metadata": {},
   "outputs": [
    {
     "name": "stdout",
     "output_type": "stream",
     "text": [
      "(0.29466484952752336, 5.966844940606211e-81)\n",
      "3.200660994410593\n",
      "3.200660994410593\n"
     ]
    }
   ],
   "source": [
    "## Enet Prediction on Training data\n",
    "enet_prediction_ = enet.predict(x_train)\n",
    "print(stats.pearsonr(y_train.V1,enet_prediction_))\n",
    "print(mean_absolute_error(y_train,enet_prediction_))\n",
    "print(mean_absolute_error(y_train,pd.DataFrame(enet_prediction_)))"
   ]
  },
  {
   "cell_type": "code",
   "execution_count": 58,
   "metadata": {},
   "outputs": [
    {
     "name": "stdout",
     "output_type": "stream",
     "text": [
      "(0.39918474082120453, 6.407066642370023e-153)\n",
      "3.032906994733663\n"
     ]
    }
   ],
   "source": [
    "## Enet Prediction on Training data\n",
    "enet_prediction_ = enet.predict(x_train)\n",
    "print(stats.pearsonr(y_train.V1,pd.DataFrame(enet_prediction_)[0]))\n",
    "print(mean_absolute_error(y_train,enet_prediction_))"
   ]
  },
  {
   "cell_type": "code",
   "execution_count": 59,
   "metadata": {},
   "outputs": [
    {
     "name": "stdout",
     "output_type": "stream",
     "text": [
      "(0.42446157979434196, 5.263546914771348e-45)\n",
      "MAE--> 3.058279461939064\n",
      "0.09987876327747003\n"
     ]
    }
   ],
   "source": [
    "#Enet For Test data\n",
    "enet_prediction_t = enet.predict(x_test)\n",
    "print(stats.pearsonr(y_test.V1,pd.DataFrame(enet_prediction_t)[0]))\n",
    "print(\"MAE-->\",mean_absolute_error(y_test,enet_prediction_t))\n",
    "print(enet.score(x_test,y_test))"
   ]
  },
  {
   "cell_type": "markdown",
   "metadata": {},
   "source": [
    "###### Establish Benchmarks\n",
    "`Metrics`\n",
    "For this regression task, we will use two standard metrics:\n",
    "* Mean Absolute Error(MAE)\n",
    "* Root Mean Squared Errors(RMSE)\n"
   ]
  },
  {
   "cell_type": "markdown",
   "metadata": {},
   "source": [
    "#### 5. Sklearn.MLPRegressor()    =MultiLayer Perceptron regressor=="
   ]
  },
  {
   "cell_type": "markdown",
   "metadata": {},
   "source": [
    "```sklearn.neural_network.MLPRegressor(hidden_layer_size=(100,),activation = \"relu\",solver = \"adam\", alpha = 0.0001,\n",
    "    batch_size=\"auto\",learning_rate = \"constant\", learning_rate_init = 0.001, power_t = 0.5,max_iter = 200,shuffle = True,random_state = None, tol = 0.0001,verbose = False, warm_start = False, momentum=0.9,nesterovs_momentum = True, early_stopping = False, validation_fraction=0.1,beta_1 =0.9,beta_2 =0.999,epsilon = 1e-08,n_iter_no_change =10,max_fun = 15000)```"
   ]
  },
  {
   "cell_type": "code",
   "execution_count": 90,
   "metadata": {},
   "outputs": [],
   "source": [
    "from sklearn.preprocessing import StandardScaler\n",
    "from sklearn.neural_network import MLPRegressor as mlp ## MLP Multi layer Perception"
   ]
  },
  {
   "cell_type": "code",
   "execution_count": 91,
   "metadata": {},
   "outputs": [],
   "source": [
    "scaler = StandardScaler()\n",
    "scaler.fit(x_train)\n",
    "x_train = scaler.transform(x_train)\n",
    "x_test = scaler.transform(x_test)"
   ]
  },
  {
   "cell_type": "code",
   "execution_count": 103,
   "metadata": {},
   "outputs": [
    {
     "data": {
      "text/plain": [
       "MLPRegressor(activation='logistic', alpha=0.1, batch_size='auto', beta_1=0.9,\n",
       "             beta_2=0.999, early_stopping=False, epsilon=1e-08,\n",
       "             hidden_layer_sizes=(53,), learning_rate='invscaling',\n",
       "             learning_rate_init=0.05, max_fun=15000, max_iter=200, momentum=0.9,\n",
       "             n_iter_no_change=10, nesterovs_momentum=True, power_t=0.5,\n",
       "             random_state=False, shuffle=True, solver='sgd', tol=0.0005,\n",
       "             validation_fraction=0.1, verbose=False, warm_start=False)"
      ]
     },
     "execution_count": 103,
     "metadata": {},
     "output_type": "execute_result"
    }
   ],
   "source": [
    "mlp_model = mlp(hidden_layer_sizes=((53,)),\\\n",
    "                activation=\"logistic\",\n",
    "                solver=\"sgd\",\n",
    "                learning_rate=\"invscaling\",\n",
    "                shuffle=True,\n",
    "                random_state=False,\n",
    "                alpha=0.1,\n",
    "                learning_rate_init=0.05,\n",
    "                max_iter=200,\n",
    "                tol=0.0005)\n",
    "#best are 93 , 108 ,147 ,\n",
    "#alfa 0.63\n",
    "mlp_model.fit(x_train,y_train)"
   ]
  },
  {
   "cell_type": "code",
   "execution_count": 104,
   "metadata": {},
   "outputs": [
    {
     "name": "stdout",
     "output_type": "stream",
     "text": [
      "0.8667337590835934\n",
      "MAE--> 1.3612149279303694\n"
     ]
    }
   ],
   "source": [
    "#Training \n",
    "mlp_prediction_  = mlp_model.predict(x_train)\n",
    "print(stats.pearsonr(y_train.V1,mlp_prediction_)[0])\n",
    "print(\"MAE-->\",mean_absolute_error(y_train,mlp_prediction_))"
   ]
  },
  {
   "cell_type": "code",
   "execution_count": 105,
   "metadata": {},
   "outputs": [
    {
     "name": "stdout",
     "output_type": "stream",
     "text": [
      "0.7966855827024778\n",
      "1.9127629728638749\n",
      "0.6273588796047762\n"
     ]
    }
   ],
   "source": [
    "#Test Data\n",
    "mlp_prediction_t= mlp_model.predict(x_test)\n",
    "print(stats.pearsonr(y_test.V1,mlp_prediction_t)[0])\n",
    "print(mean_absolute_error(y_test,mlp_prediction_t))\n",
    "print(mlp_model.score(x_test,y_test))"
   ]
  },
  {
   "cell_type": "code",
   "execution_count": 106,
   "metadata": {},
   "outputs": [],
   "source": [
    "original = y_test[:15].reset_index(drop=True)#,\n",
    "bay= pd.DataFrame(bay_prediction_t[:15],columns=[\"Bayesian\"])\n",
    "lr= pd.DataFrame(lr_prediction_t[:15],columns=['Linear_Regression'])\n",
    "ridg = pd.DataFrame(ridge_prediction_t[:15],columns=['Ridge_Regression'])\n",
    "ent = pd.DataFrame(enet_prediction_t[:15],columns=[\"Enet_Regression\"])\n",
    "ml = pd.DataFrame(mlp_prediction_t[:15],columns=['MLP_Neural'])\n",
    "#pd.merge(y_test[:10],(),how = \"outer\")\n",
    "frame = [original,bay,lr,ridg,ent,ml]\n",
    "res = pd.concat(frame,axis=1)\n",
    "#res"
   ]
  },
  {
   "cell_type": "markdown",
   "metadata": {},
   "source": [
    "#### Loop testing for Neural Network"
   ]
  },
  {
   "cell_type": "code",
   "execution_count": 88,
   "metadata": {},
   "outputs": [
    {
     "name": "stdout",
     "output_type": "stream",
     "text": [
      "0.6273588796047764 1\n"
     ]
    }
   ],
   "source": [
    "activation = ['identity', 'logistic', \"tanh\", \"relu\"]\n",
    "solver = [\"lbfgs\",'sgd','adam']\n",
    "learning_rate = ['constant','invscaling',\"adaptive\"]\n",
    "for _ in range(1,2):\n",
    "#for _ in solver:\n",
    "    \n",
    "    mlp_model_ = mlp(hidden_layer_sizes=((53,)),\n",
    "                          activation=\"logistic\",\n",
    "                          solver=\"sgd\",\n",
    "                          learning_rate=\"invscaling\",\n",
    "                          shuffle=True,\n",
    "                          random_state=False,\n",
    "                          alpha=0.1,\n",
    "                          learning_rate_init=0.05,\n",
    "                          max_iter=200,\n",
    "                          tol=0.0005)\n",
    "    mlp_model_.fit(x_train,y_train)\n",
    "    mlp_pred = mlp_model_.predict(x_test) \n",
    "    print(mlp_model_.score(x_test,y_test),_)\n",
    "    #print(stats.pearsonr(y_test.V1,mlp_pred)[0],end=\"-\")\n",
    "    #print(_)\n",
    "## 66.65 is the highest"
   ]
  },
  {
   "cell_type": "markdown",
   "metadata": {},
   "source": [
    "##### CRTEATING A DATA FRAME FOR ALL REGRESSION"
   ]
  },
  {
   "cell_type": "code",
   "execution_count": 96,
   "metadata": {},
   "outputs": [
    {
     "name": "stdout",
     "output_type": "stream",
     "text": [
      "0.6273588796047762 1\n"
     ]
    }
   ],
   "source": [
    "mlp_model_ = mlp(hidden_layer_sizes=((53,)),\n",
    "                          activation=\"logistic\",\n",
    "                          solver=\"sgd\",\n",
    "                          learning_rate=\"invscaling\",\n",
    "                          shuffle=True,\n",
    "                          random_state=False,\n",
    "                          alpha=0.1,\n",
    "                          learning_rate_init=0.05,\n",
    "                          max_iter=200,\n",
    "                          tol=0.0005)\n",
    "mlp_model_.fit(x_train,y_train)\n",
    "mlp_pred = mlp_model_.predict(x_test) \n",
    "print(mlp_model_.score(x_test,y_test),_)"
   ]
  },
  {
   "cell_type": "code",
   "execution_count": null,
   "metadata": {},
   "outputs": [],
   "source": [
    "original = y_test[:15].reset_index(drop=True)#,\n",
    "bay_= pd.DataFrame(bay_prediction_t[:15],columns=[\"Bayesian\"])\n",
    "lr_= pd.DataFrame(lr_prediction_t[:15],columns=['Linear_Regression'])\n",
    "ridg_ = pd.DataFrame(ridge_prediction_t[:15],columns=['Ridge_Regression'])\n",
    "ent = pd.DataFrame(enet_prediction_t[:15],columns=[\"Enet_Regression\"])\n",
    "ml = pd.DataFrame(mlp_prediction_t[:15],columns=['MLP_Neural'])\n",
    "#pd.merge(y_test[:10],(),how = \"outer\")\n",
    "frame = [original,bay_,lr_,ridg_,ent,ml]\n",
    "combined =pd.concat(frame,axis=1)"
   ]
  }
 ],
 "metadata": {
  "kernelspec": {
   "display_name": "Python 3",
   "language": "python",
   "name": "python3"
  },
  "language_info": {
   "codemirror_mode": {
    "name": "ipython",
    "version": 3
   },
   "file_extension": ".py",
   "mimetype": "text/x-python",
   "name": "python",
   "nbconvert_exporter": "python",
   "pygments_lexer": "ipython3",
   "version": "3.7.6"
  }
 },
 "nbformat": 4,
 "nbformat_minor": 4
}
