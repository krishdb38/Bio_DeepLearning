{
 "cells": [
  {
   "cell_type": "code",
   "execution_count": 5,
   "metadata": {},
   "outputs": [],
   "source": [
    "import pandas as pd\n",
    "import numpy as np\n",
    "from scipy import stats\n",
    "\n",
    "from sklearn.model_selection import train_test_split , cross_val_score\n",
    "from sklearn.metrics import r2_score , mean_squared_error\n",
    "from sklearn.metrics import accuracy_score ,mean_absolute_error"
   ]
  },
  {
   "cell_type": "code",
   "execution_count": 6,
   "metadata": {},
   "outputs": [],
   "source": [
    "import warnings\n",
    "warnings.filterwarnings(\"ignore\")"
   ]
  },
  {
   "cell_type": "markdown",
   "metadata": {},
   "source": [
    "# Load the data"
   ]
  },
  {
   "cell_type": "code",
   "execution_count": 7,
   "metadata": {},
   "outputs": [],
   "source": [
    "x = pd.read_csv(\"../trgc10000.csv\")\n",
    "x = x.iloc[:,1:]\n",
    "y = pd.read_csv(\"../srlbininfo_10000\",sep =\"\\t\",header =None )\n",
    "y = pd.DataFrame(y.iloc[:,1])\n",
    "y.columns = [\"GC\"]\n",
    "\n",
    "df = pd.concat([y,x],axis =1)\n",
    "\n",
    "df = df[df.GC < 20]             # !  Ignore values more than 25\n",
    "y = pd.DataFrame(df.loc[:,\"GC\"])\n",
    "\n",
    "x = df.iloc[:,1:]  #    ! * remove 8000 for original\n",
    "\n",
    "#Caution X Column up to 8000 above that outlier and y.GC Less than "
   ]
  },
  {
   "cell_type": "code",
   "execution_count": 8,
   "metadata": {},
   "outputs": [
    {
     "data": {
      "text/html": [
       "<div>\n",
       "<style scoped>\n",
       "    .dataframe tbody tr th:only-of-type {\n",
       "        vertical-align: middle;\n",
       "    }\n",
       "\n",
       "    .dataframe tbody tr th {\n",
       "        vertical-align: top;\n",
       "    }\n",
       "\n",
       "    .dataframe thead th {\n",
       "        text-align: right;\n",
       "    }\n",
       "</style>\n",
       "<table border=\"1\" class=\"dataframe\">\n",
       "  <thead>\n",
       "    <tr style=\"text-align: right;\">\n",
       "      <th></th>\n",
       "      <th>V1</th>\n",
       "      <th>V2</th>\n",
       "      <th>V3</th>\n",
       "      <th>V4</th>\n",
       "      <th>V5</th>\n",
       "      <th>V6</th>\n",
       "      <th>V7</th>\n",
       "      <th>V8</th>\n",
       "      <th>V9</th>\n",
       "      <th>V10</th>\n",
       "      <th>...</th>\n",
       "      <th>V10323</th>\n",
       "      <th>V10324</th>\n",
       "      <th>V10325</th>\n",
       "      <th>V10326</th>\n",
       "      <th>V10327</th>\n",
       "      <th>V10328</th>\n",
       "      <th>V10329</th>\n",
       "      <th>V10330</th>\n",
       "      <th>V10331</th>\n",
       "      <th>V10332</th>\n",
       "    </tr>\n",
       "  </thead>\n",
       "  <tbody>\n",
       "    <tr>\n",
       "      <td>0</td>\n",
       "      <td>0.879025</td>\n",
       "      <td>0.687329</td>\n",
       "      <td>0.983194</td>\n",
       "      <td>0.970820</td>\n",
       "      <td>0.900728</td>\n",
       "      <td>0.735702</td>\n",
       "      <td>0.960757</td>\n",
       "      <td>1.074772</td>\n",
       "      <td>1.597032</td>\n",
       "      <td>1.156174</td>\n",
       "      <td>...</td>\n",
       "      <td>0</td>\n",
       "      <td>0</td>\n",
       "      <td>0</td>\n",
       "      <td>0</td>\n",
       "      <td>0</td>\n",
       "      <td>0</td>\n",
       "      <td>0</td>\n",
       "      <td>0</td>\n",
       "      <td>0</td>\n",
       "      <td>0</td>\n",
       "    </tr>\n",
       "    <tr>\n",
       "      <td>1</td>\n",
       "      <td>0.869801</td>\n",
       "      <td>0.620215</td>\n",
       "      <td>1.008849</td>\n",
       "      <td>0.926203</td>\n",
       "      <td>0.884105</td>\n",
       "      <td>0.884811</td>\n",
       "      <td>1.020117</td>\n",
       "      <td>0.987255</td>\n",
       "      <td>1.335856</td>\n",
       "      <td>1.170143</td>\n",
       "      <td>...</td>\n",
       "      <td>0</td>\n",
       "      <td>0</td>\n",
       "      <td>0</td>\n",
       "      <td>0</td>\n",
       "      <td>0</td>\n",
       "      <td>0</td>\n",
       "      <td>0</td>\n",
       "      <td>0</td>\n",
       "      <td>0</td>\n",
       "      <td>0</td>\n",
       "    </tr>\n",
       "  </tbody>\n",
       "</table>\n",
       "<p>2 rows × 10332 columns</p>\n",
       "</div>"
      ],
      "text/plain": [
       "         V1        V2        V3        V4        V5        V6        V7  \\\n",
       "0  0.879025  0.687329  0.983194  0.970820  0.900728  0.735702  0.960757   \n",
       "1  0.869801  0.620215  1.008849  0.926203  0.884105  0.884811  1.020117   \n",
       "\n",
       "         V8        V9       V10  ...  V10323  V10324  V10325  V10326  V10327  \\\n",
       "0  1.074772  1.597032  1.156174  ...       0       0       0       0       0   \n",
       "1  0.987255  1.335856  1.170143  ...       0       0       0       0       0   \n",
       "\n",
       "   V10328  V10329  V10330  V10331  V10332  \n",
       "0       0       0       0       0       0  \n",
       "1       0       0       0       0       0  \n",
       "\n",
       "[2 rows x 10332 columns]"
      ]
     },
     "metadata": {},
     "output_type": "display_data"
    },
    {
     "data": {
      "text/html": [
       "<div>\n",
       "<style scoped>\n",
       "    .dataframe tbody tr th:only-of-type {\n",
       "        vertical-align: middle;\n",
       "    }\n",
       "\n",
       "    .dataframe tbody tr th {\n",
       "        vertical-align: top;\n",
       "    }\n",
       "\n",
       "    .dataframe thead th {\n",
       "        text-align: right;\n",
       "    }\n",
       "</style>\n",
       "<table border=\"1\" class=\"dataframe\">\n",
       "  <thead>\n",
       "    <tr style=\"text-align: right;\">\n",
       "      <th></th>\n",
       "      <th>GC</th>\n",
       "    </tr>\n",
       "  </thead>\n",
       "  <tbody>\n",
       "    <tr>\n",
       "      <td>0</td>\n",
       "      <td>19.052706</td>\n",
       "    </tr>\n",
       "    <tr>\n",
       "      <td>1</td>\n",
       "      <td>17.772070</td>\n",
       "    </tr>\n",
       "  </tbody>\n",
       "</table>\n",
       "</div>"
      ],
      "text/plain": [
       "          GC\n",
       "0  19.052706\n",
       "1  17.772070"
      ]
     },
     "metadata": {},
     "output_type": "display_data"
    }
   ],
   "source": [
    "display(x.head(2))\n",
    "display(y.head(2))"
   ]
  },
  {
   "cell_type": "code",
   "execution_count": 115,
   "metadata": {},
   "outputs": [],
   "source": [
    "x_train= None\n",
    "x_test = None\n",
    "y_train = None\n",
    "y_test = None\n",
    "y_pred_ridge = None\n",
    "clf_lasso = None ; y_pred_lasso = None"
   ]
  },
  {
   "cell_type": "code",
   "execution_count": 87,
   "metadata": {},
   "outputs": [],
   "source": [
    "def train_test(size = 0.25 , random_state=50,shuffle = True):\n",
    "    \"size = train size and random state is how the data are mixed and shuffle in to do mixing or not  \"\n",
    "    from sklearn.model_selection import train_test_split\n",
    "    global x_train,x_test,y_train, y_test\n",
    "    x_train= None; x_test = None; y_train = None; y_test = None\n",
    "    x_train,x_test,y_train, y_test = train_test_split(x,y,test_size= size,random_state = random_state , shuffle = shuffle)\n",
    "    \n",
    "    return x_train,x_test,y_train, y_test "
   ]
  },
  {
   "cell_type": "code",
   "execution_count": 196,
   "metadata": {},
   "outputs": [],
   "source": [
    "#train_test() # Calling The Function with default Parameter\n",
    "#print(y_train.shape)\n",
    "#display(y_train.head(2))\n",
    "#print(x_train.shape)\n",
    "#display(x_train.head())"
   ]
  },
  {
   "cell_type": "markdown",
   "metadata": {},
   "source": [
    "##  Create a Function for Lasso"
   ]
  },
  {
   "cell_type": "code",
   "execution_count": 213,
   "metadata": {},
   "outputs": [],
   "source": [
    "#Create a Lasso Model to automatically apply in the loop\n",
    "\n",
    "def lasso( alpha=0.5, fit_intercept=True, normalize=False, precompute=False, copy_X=True, \n",
    "                      max_iter=1000, tol=0.0001, warm_start=False, positive=False,selection='cyclic'):\n",
    "    \n",
    "    \"Just Pass Related values only\"\n",
    "    \n",
    "    from sklearn.linear_model import Lasso\n",
    "    from sklearn.model_selection import train_test_split\n",
    "    global x_train,x_test,y_train, y_test , clf_lasso , y_pred_lasso\n",
    "    \n",
    "    clf_lasso = Lasso(alpha=alpha, fit_intercept=fit_intercept , normalize=normalize, precompute=precompute, copy_X=copy_X, \n",
    "                      max_iter=max_iter, tol=tol, warm_start=warm_start, positive=positive,selection=selection).fit(x_train,y_train)\n",
    "    \n",
    "    y_pred_lasso = pd.DataFrame(clf_lasso.predict(x_test))\n",
    "    name = \"Lasso\"\n",
    "    # *****************************************************************\n",
    "    \n",
    "    print(name +\" Coefficient \", clf_lasso.coef_) \n",
    "    print(name + \" Intercept \" , clf_lasso.intercept_,\"\\n\") ##\n",
    "    print(\"****\"*5+\"Accuracy Test Model Fitting \"+\"****\"*5)\n",
    "    print(name + \"Score for train data set :\",clf_lasso.score(x_train,y_train))\n",
    "    print(name + \"Score for test data Set\",clf_lasso.score(x_test,y_test))\n",
    "\n",
    "    print(name + \"Score for Predictecd data Set\",clf_lasso.score(x_test,y_pred_lasso)) ##\n",
    "    \n",
    "    print(\"\\n\"+\"****\"*5+\"R2 Score\"+\"****\"*5)\n",
    "    print(name + \"R2 Score for test is = \", r2_score(y_test, y_pred_lasso)) ##\n",
    "    \n",
    "    print(\"\\n\"+\"****\"*5+\"Mean Absolute Error\"+\"****\"*5)\n",
    "    print(name+ \"Mean Absolute Error of Test = \", mean_absolute_error(y_test,y_pred_lasso)) ##\n",
    "    print(name +\"Mean Absolute Error on Train\",mean_absolute_error(y_train,pd.DataFrame(clf_lasso.predict(x_train))))\n",
    "    \n",
    "    print(\"\\n\"+\"****\"*5+\" Mean Squared Error\"+\"****\"*5)\n",
    "    print(name + \"Mean Squared Error of Test = \",mean_squared_error(y_test,y_pred_lasso)) ##\n",
    "    print(name+\"Mean Squared Error on Train = \",mean_squared_error(y_train,pd.DataFrame(clf_lasso.predict(x_train))))\n",
    "    \n",
    "    print(\"\\n\"+\"****\"*5+\" Co Relation\"+\"****\"*5)\n",
    "    print(name + \"Correlation Test Data \",stats.pearsonr(y_test[\"GC\"],y_pred_lasso[0])[0])\n",
    "    print(name + \"Correlation Original Data \",stats.pearsonr(y_train[\"GC\"],pd.DataFrame(clf_lasso.predict(x_train))[0])[0])\n",
    "    \n",
    "    return clf_lasso"
   ]
  },
  {
   "cell_type": "code",
   "execution_count": 200,
   "metadata": {},
   "outputs": [
    {
     "data": {
      "text/plain": [
       "Lasso(alpha=1.0, copy_X=True, fit_intercept=True, max_iter=1000,\n",
       "      normalize=False, positive=False, precompute=False, random_state=None,\n",
       "      selection='cyclic', tol=0.0001, warm_start=False)"
      ]
     },
     "execution_count": 200,
     "metadata": {},
     "output_type": "execute_result"
    }
   ],
   "source": [
    "clf_lasso"
   ]
  },
  {
   "cell_type": "markdown",
   "metadata": {},
   "source": [
    "## Function For Ridge Regression"
   ]
  },
  {
   "cell_type": "code",
   "execution_count": 212,
   "metadata": {},
   "outputs": [],
   "source": [
    "#Create a Model to automatically apply in the loop\n",
    "\n",
    "def ridge( alpha = 0.01,copy_X=True,fit_intercept=True, max_iter=None, normalize=False,\n",
    "      random_state=None, solver='auto', tol=0.001):\n",
    "    \"Just Pass alpha value only\"\n",
    "    \n",
    "    from sklearn.linear_model import Ridge\n",
    "    from sklearn.model_selection import train_test_split\n",
    "    global x_train,x_test,y_train, y_test , clf_ridge , y_pred_ridge\n",
    "    \n",
    "    clf_ridge = Ridge(alpha=alpha,copy_X=copy_X,fit_intercept=fit_intercept, max_iter=max_iter, normalize=normalize,\n",
    "      random_state=random_state, solver=solver, tol=tol).fit(x_train,y_train)\n",
    "    \n",
    "    y_pred_ridge = pd.DataFrame(clf_ridge.predict(x_test))\n",
    "    name = \"Ridge\"\n",
    "    # *****************************************************************\n",
    "    \n",
    "    print(name +\" Coefficient \", clf_ridge.coef_) \n",
    "    print(name + \" Intercept \" , clf_ridge.intercept_,\"\\n\") ##\n",
    "    print(\"****\"*5+\"Accuracy Test Model Fitting \"+\"****\"*5)\n",
    "    print(name + \"Score for train data set :\",clf_ridge.score(x_train,y_train))\n",
    "    #Return the coefficient of determination R^2 of the prediction.\n",
    "    \n",
    "    print(name + \"Score for test data Set\",clf_ridge.score(x_test,y_test))\n",
    "\n",
    "    print(name + \"Score for Predictecd data Set\",clf_ridge.score(x_test,y_pred_ridge)) ##\n",
    "    \n",
    "    print(\"\\n\"+\"****\"*5+\"R2 Score\"+\"****\"*5)\n",
    "    print(name + \"R2 Score for test is = \", r2_score(y_test, y_pred_ridge)) ##\n",
    "    \n",
    "    print(\"\\n\"+\"****\"*5+\"Mean Absolute Error\"+\"****\"*5)\n",
    "    print(name+ \"Mean Absolute Error of Test = \", mean_absolute_error(y_test,y_pred_ridge)) ##\n",
    "    print(name +\"Mean Absolute Error on Train\",mean_absolute_error(y_train,pd.DataFrame(clf_ridge.predict(x_train))))\n",
    "    \n",
    "    print(\"\\n\"+\"****\"*5+\" Mean Squared Error\"+\"****\"*5)\n",
    "    print(name + \"Mean Squared Error of Test = \",mean_squared_error(y_test,y_pred_ridge)) ##\n",
    "    print(name+\"Mean Squared Error on Train = \",mean_squared_error(y_train,pd.DataFrame(clf_ridge.predict(x_train))))\n",
    "    \n",
    "    print(\"\\n\"+\"****\"*5+\" Co Relation\"+\"****\"*5)\n",
    "    print(name + \"Correlation Test Data \",stats.pearsonr(y_test[\"GC\"],y_pred_ridge[0])[0])\n",
    "    print(name + \"Correlation Original Data \",stats.pearsonr(y_train[\"GC\"],pd.DataFrame(clf_ridge.predict(x_train))[0])[0])\n",
    "    \n",
    "    return clf_ridge"
   ]
  },
  {
   "cell_type": "markdown",
   "metadata": {},
   "source": [
    "### Call the Function in  with different Parameter"
   ]
  },
  {
   "cell_type": "code",
   "execution_count": 217,
   "metadata": {},
   "outputs": [
    {
     "name": "stdout",
     "output_type": "stream",
     "text": [
      "Ridge Coefficient  [[0.42907626 0.41743016 0.37849042 ... 0.         0.         0.        ]]\n",
      "Ridge Intercept  0.0 \n",
      "\n",
      "********************Accuracy Test Model Fitting ********************\n",
      "RidgeScore for train data set : 0.9990714572459918\n",
      "RidgeScore for test data Set -0.6861394303892034\n",
      "RidgeScore for Predictecd data Set 1.0\n",
      "\n",
      "********************R2 Score********************\n",
      "RidgeR2 Score for test is =  -0.6861394303892034\n",
      "\n",
      "********************Mean Absolute Error********************\n",
      "RidgeMean Absolute Error of Test =  4.129003272591964\n",
      "RidgeMean Absolute Error on Train 0.09690898312721194\n",
      "\n",
      "******************** Mean Squared Error********************\n",
      "RidgeMean Squared Error of Test =  27.84812053102007\n",
      "RidgeMean Squared Error on Train =  0.015251153274780252\n",
      "\n",
      "******************** Co Relation********************\n",
      "RidgeCorrelation Test Data  0.5196072823863953\n",
      "RidgeCorrelation Original Data  0.9995480317853414\n"
     ]
    },
    {
     "data": {
      "text/plain": [
       "Ridge(alpha=0.05, copy_X=True, fit_intercept=False, max_iter=1000,\n",
       "      normalize=True, random_state=None, solver='auto', tol=0.001)"
      ]
     },
     "execution_count": 217,
     "metadata": {},
     "output_type": "execute_result"
    }
   ],
   "source": [
    "#We have 2 Function \n",
    "train_test(size = 0.25 , random_state=50,shuffle = True)\n",
    "#***********************************************************\n",
    "ridge(alpha=0.05,copy_X=True,fit_intercept=False, max_iter=1000, normalize=True)"
   ]
  },
  {
   "cell_type": "markdown",
   "metadata": {},
   "source": [
    "### Lasso Regression Test"
   ]
  },
  {
   "cell_type": "code",
   "execution_count": 216,
   "metadata": {
    "scrolled": true
   },
   "outputs": [
    {
     "name": "stdout",
     "output_type": "stream",
     "text": [
      "Lasso Coefficient  [ 0.37341145  0.86938701 -0.26948227 ...  0.          0.\n",
      "  0.        ]\n",
      "Lasso Intercept  [-1029.70893442] \n",
      "\n",
      "********************Accuracy Test Model Fitting ********************\n",
      "LassoScore for train data set : 0.9999927742344025\n",
      "LassoScore for test data Set -0.7272031082906196\n",
      "LassoScore for Predictecd data Set 1.0\n",
      "\n",
      "********************R2 Score********************\n",
      "LassoR2 Score for test is =  -0.7272031082906196\n",
      "\n",
      "********************Mean Absolute Error********************\n",
      "LassoMean Absolute Error of Test =  4.127395370371444\n",
      "LassoMean Absolute Error on Train 0.008613831591816463\n",
      "\n",
      "******************** Mean Squared Error********************\n",
      "LassoMean Squared Error of Test =  28.249646452682036\n",
      "LassoMean Squared Error on Train =  0.00011910113412856906\n",
      "\n",
      "******************** Co Relation********************\n",
      "LassoCorrelation Test Data  0.5080182089908603\n",
      "LassoCorrelation Original Data  0.9999963908704236\n"
     ]
    },
    {
     "data": {
      "text/plain": [
       "Lasso(alpha=0, copy_X=True, fit_intercept=True, max_iter=1000, normalize=False,\n",
       "      positive=False, precompute=False, random_state=None, selection='cyclic',\n",
       "      tol=0.0001, warm_start=False)"
      ]
     },
     "execution_count": 216,
     "metadata": {},
     "output_type": "execute_result"
    }
   ],
   "source": [
    "#We have 2 Function \n",
    "train_test(size=0.3,random_state=1000, shuffle=True)\n",
    "lasso( alpha=0, fit_intercept=True, normalize=False, precompute=False, copy_X=True,max_iter=1000, tol=0.0001,warm_start=False, positive=False,selection='cyclic')"
   ]
  },
  {
   "cell_type": "code",
   "execution_count": null,
   "metadata": {},
   "outputs": [],
   "source": []
  }
 ],
 "metadata": {
  "kernelspec": {
   "display_name": "Python 3.7.4 64-bit ('base': conda)",
   "language": "python",
   "name": "python37464bitbaseconda67970ada4b5d499c879aef5e70dc73ee"
  },
  "language_info": {
   "codemirror_mode": {
    "name": "ipython",
    "version": 3
   },
   "file_extension": ".py",
   "mimetype": "text/x-python",
   "name": "python",
   "nbconvert_exporter": "python",
   "pygments_lexer": "ipython3",
   "version": "3.7.4"
  }
 },
 "nbformat": 4,
 "nbformat_minor": 2
}
